{
 "cells": [
  {
   "cell_type": "markdown",
   "metadata": {
    "id": "CkaJFm77OZMT"
   },
   "source": [
    "# *FEniCS* tutorial"
   ]
  },
  {
   "cell_type": "markdown",
   "metadata": {
    "id": "iKhhEiaMlP1o"
   },
   "source": [
    "# Import libraries"
   ]
  },
  {
   "cell_type": "code",
   "execution_count": null,
   "metadata": {
    "id": "S247s7_AQLp7"
   },
   "outputs": [],
   "source": [
    "from __future__ import print_function # Allow function print()\n",
    "from IPython.display import clear_output\n",
    "\n",
    "%matplotlib inline"
   ]
  },
  {
   "cell_type": "code",
   "execution_count": null,
   "metadata": {
    "id": "Cq0zAq0-PYuO"
   },
   "outputs": [],
   "source": [
    "try:\n",
    "    from fenics import *\n",
    "except ImportError:\n",
    "    !wget \"https://fem-on-colab.github.io/releases/fenics-install.sh\" -O \"/tmp/fenics-install.sh\" && bash \"/tmp/fenics-install.sh\"\n",
    "    from fenics import *\n",
    "\n",
    "try:\n",
    "    from fenics_adjoint import *\n",
    "except ImportError:\n",
    "    !pip install git+https://github.com/dolfin-adjoint/pyadjoint.git@2019.1.0\n",
    "    from fenics_adjoint import *\n",
    "\n",
    "try:\n",
    "    from rbnics import *\n",
    "except ImportError:\n",
    "    !pip3 install git+https://github.com/RBniCS/RBniCS.git\n",
    "    from rbnics import *\n",
    "import rbnics.utils.config\n",
    "assert \"dolfin\" in rbnics.utils.config.config.get(\"backends\", \"required backends\")\n",
    "\n",
    "# N.B. Errors like: a) 'dolfin.cpp.mesh.Mesh' object has no attribute '_ad_will_add_as_dependency'\n",
    "#                   b) 'Function' object has no attribute 'block_variable'\n",
    "# are due to conflicts between dolfin/fenics/dolfin_adjoint/fenics_adjoint.\n",
    "# Possible solutions: 1) Try to import just one library\n",
    "#                     2) Use namescapes (e.g. dolfin.solve instead of just solve)\n",
    "#                     3) refine the mesh to overcome problem (a)\n",
    "#                     4) Use different tools (e.g. RectangleMesh instead of mshr utilities to overcome (a))\n",
    "#                     5) Use pause_annotation() and continue_annotation() to stop annotation by fenics_adjoint (this would overcome problem (b) since block variables are expolited for annotation)"
   ]
  },
  {
   "cell_type": "code",
   "execution_count": null,
   "metadata": {
    "id": "psfEJkqcgNsA"
   },
   "outputs": [],
   "source": [
    "from google.colab import drive\n",
    "drive.mount('/content/drive')"
   ]
  },
  {
   "cell_type": "markdown",
   "metadata": {
    "id": "wpo9T1J2Ev8O"
   },
   "source": [
    "# Define, evaluate and plot a function"
   ]
  },
  {
   "cell_type": "code",
   "execution_count": null,
   "metadata": {
    "id": "dZu-R_UZExFc"
   },
   "outputs": [],
   "source": [
    "f = Constant(-6.0)\n",
    "\n",
    "k = 1\n",
    "f = Constant(k)\n",
    "\n",
    "f = Expression('exp(-10.0 * (pow(x[0] - 0.75, 2) + pow(x[1] - 0.75, 2)))', degree = 2)\n",
    "\n",
    "k = 1\n",
    "f = Expression('4 * exp(-pow(k, 2) * (pow(x[0], 2) + pow(x[1] - 0.6, 2)))', degree = 1, k = k)\n",
    "\n",
    "k = 1\n",
    "f1 = Expression(\"sin(pi * x[0]) * sin(pi * x[1])\", degree = 3)\n",
    "f = Expression(\"f1 * k\", f1 = f1, k = k, degree=3)\n",
    "\n",
    "k = 1\n",
    "f = Expression('1 + x[0] * x[0] + x[1] * x[1] + 0.5 * k', degree = 2, k = k)\n",
    "f.k = 2 # Change parameter value\n",
    "\n",
    "f = Expression(('1.0', '1.0'), degree = 1) # Vectorial function"
   ]
  },
  {
   "cell_type": "code",
   "execution_count": null,
   "metadata": {
    "id": "V9Qu89RDGQYx"
   },
   "outputs": [],
   "source": [
    "# Evaluate a function\n",
    "\n",
    "f(0,0) # Evaluate f in (0,0)\n",
    "\n",
    "import numpy as np\n",
    "y = np.linspace(-1, 1, 101)\n",
    "points = [(0, y_) for y_ in y]\n",
    "f_line = np.array([f(point) for point in points]) # Evaluate f in a set of points"
   ]
  },
  {
   "cell_type": "code",
   "execution_count": null,
   "metadata": {
    "id": "IB85JZofFuIY"
   },
   "outputs": [],
   "source": [
    "# Plot a function: an interpolation or projection to the finite element space is needed\n",
    "\n",
    "f = interpolate(f, V) # It gives the function in V with same nodal values as f \n",
    "f = project(f, V) # It gives the function in V closer to f wrt the L2 norm\n",
    "plot(f)\n",
    "plot(f, mode = ...) # mode = \"color\" to avoid level curves, mode = \"glyphs\" to plot a vector field, mode = \"warp\" for 3D plots \n",
    "plot(f,\n",
    "     wireframe = True,              # Use wireframe rendering\n",
    "     interactive = False,           # Do not hold plot on screen\n",
    "     scalarbar = False,             # Hide the color mapping bar\n",
    "     hardcopy_prefix = \"myplot\",    # Default plotfile name\n",
    "     scale = 2.0,                   # Scale the warping/glyphs\n",
    "     title = \"Fancy plot\"           # Set your own title\n",
    "     )\n",
    "\n",
    "# Plot a function with colorbar\n",
    "import pylab as plt\n",
    "fig = plot(f, mode='color')\n",
    "plt.colorbar(fig) \n",
    "plt.show()\n",
    "\n",
    "# Save a plot\n",
    "fig = plot(f)\n",
    "plt.colorbar(fig) \n",
    "plt.title(\"f\")\n",
    "frame = plt.gca()\n",
    "frame.axes.get_xaxis().set_visible(False)\n",
    "frame.axes.get_yaxis().set_visible(False)\n",
    "plt.axis('off')\n",
    "plt.savefig('f.png', transparent = True, bbox_inches='tight')\n",
    "plt.savefig('f.pdf', transparent = True, bbox_inches='tight')"
   ]
  },
  {
   "cell_type": "code",
   "execution_count": null,
   "metadata": {
    "id": "Sl_SJ1siReI9"
   },
   "outputs": [],
   "source": [
    "# Extra utilities for functions\n",
    "\n",
    "f.vector()\n",
    "f.vector().norm('l2')\n",
    "f.function_space()\n",
    "f.assign(g) # Copy 'g' in 'f'\n",
    "f.assign(g, annotate = True) # Copy 'g' in 'f' and remember the dependency between them\n",
    "f = g.copy() # Deep copy\n",
    "f = g.copy(deepcopy = False) # Shallow copy"
   ]
  },
  {
   "cell_type": "code",
   "execution_count": 1,
   "metadata": {},
   "outputs": [],
   "source": [
    "# N.B. FEniCS cannot restrict functions to boundaries or to subdomains, hence they are defined over the entire domain"
   ]
  },
  {
   "cell_type": "markdown",
   "metadata": {
    "id": "N_5RHVo1YYax"
   },
   "source": [
    "# Vectors and Matrices"
   ]
  },
  {
   "cell_type": "code",
   "execution_count": null,
   "metadata": {
    "id": "_d1jjoCNYdVl"
   },
   "outputs": [],
   "source": [
    "b = as_vector([1.0, 2.0])\n",
    "K = as_matrix([[1, 2], [3, 4]])\n",
    "I = Identity(2)\n",
    "\n",
    "A.axpy(float(1.0), B, same_nonzero_pattern = False) # A = A + 1.0*B"
   ]
  },
  {
   "cell_type": "markdown",
   "metadata": {
    "id": "DJNCWJwJobiv"
   },
   "source": [
    "# Variational Problem\n",
    "The finite element variational problem in general reads:\n",
    "$$\n",
    "\\text{Find } u \\in V \\text{ such that  } a(u,v) = L(v) \\quad \\forall v \\in V\n",
    "$$\n"
   ]
  },
  {
   "cell_type": "markdown",
   "metadata": {
    "id": "-dXdXHClomCu"
   },
   "source": [
    "## Create the mesh"
   ]
  },
  {
   "cell_type": "code",
   "execution_count": null,
   "metadata": {
    "id": "t445oBSeSh2N"
   },
   "outputs": [],
   "source": [
    "# Create a simple mesh\n",
    "\n",
    "n = 32 # Mesh refinement\n",
    "mesh = UnitSquareMesh(n, n) # Mesh in the unit square with vertices (0,0), (0,1), (1,0), (1,1)\n",
    "mesh = UnitSquareMesh(MPI.COMM_WORLD, n, n) # Parallelization\n",
    "mesh = UnitSquareMesh(MPI.COMM_SELF, n, n)  # Separate mesh for each core (useful to perform several tests)\n",
    "\n",
    "# N.B. To run in parallel: mpiexec -n 4 python name.py\n",
    "\n",
    "nx = ny = 32\n",
    "mesh = RectangleMesh(Point(-2, -2), Point(2, 2), nx, ny)\n",
    "\n",
    "nx = ny = nz = 10\n",
    "mesh = BoxMesh(Point(0, 0, 0), Point(1, 1, 1), 10, 10, 10)"
   ]
  },
  {
   "cell_type": "code",
   "execution_count": null,
   "metadata": {
    "id": "y4OfcczMHPPX"
   },
   "outputs": [],
   "source": [
    "# Plot a mesh\n",
    "\n",
    "plot(mesh)"
   ]
  },
  {
   "cell_type": "code",
   "execution_count": null,
   "metadata": {
    "id": "b-i1WIijZOtw"
   },
   "outputs": [],
   "source": [
    "# Refine the mesh\n",
    "\n",
    "mesh = refine(mesh)\n",
    "\n",
    "# Refine the mesh in a subregion\n",
    "class Subdomain(SubDomain):\n",
    "    def inside(self, x, on_boundary):\n",
    "        return near(x[0], 1.0) and (between(x[1], (0.5, 0.7))\n",
    "subdomain = Subdomain() # Alternative way to def the subdomain: subdomain = CompiledSubDomain('std::abs(x[0]-0.5) < 0.25 && std::abs(x[1]-0.5) < 0.25')\n",
    "domains = MeshFunction(\"bool\", mesh, mesh.geometric_dimension())\n",
    "domains.set_all(False)\n",
    "subdomain.mark(domains, True)\n",
    "mesh = refine(mesh, domains)\n",
    "\n",
    "# Alternative way to refine the mesh in a subregion (more precise)\n",
    "domains = MeshFunction(\"bool\", mesh, mesh.geometric_dimension())\n",
    "domains.set_all(False)\n",
    "for cell in cells(mesh):\n",
    "    p = cell.midpoint()\n",
    "    if p.distance(Point(0.0, 0.0)) < 0.1:\n",
    "        domains[cell] = True\n",
    "mesh = refine(mesh, domains)                                   "
   ]
  },
  {
   "cell_type": "code",
   "execution_count": null,
   "metadata": {
    "id": "OEfjCmIUxc3e"
   },
   "outputs": [],
   "source": [
    "# Define and mark a subregions (if mesh refinement is needed, do the refinement before)\n",
    "\n",
    "# Define and mark a subdomain (recommended to go from the biggest to the smallest)\n",
    "class Subdomain(SubDomain):\n",
    "    def inside(self, x, on_boundary):\n",
    "        return near(x[0], 1.0) and (between(x[1], (0.5, 0.7))\n",
    "subdomain = Subdomain()\n",
    "# Alternative way to def the subdomain\n",
    "# subdomain = CompiledSubDomain('std::abs(x[0]-0.5) < 0.25 && std::abs(x[1]-0.5) < 0.25')\n",
    "\n",
    "domains = MeshFunction(\"size_t\", mesh, mesh.geometric_dimension())\n",
    "domains.set_all(0)\n",
    "subdomain.mark(domains, 1) # or directly Subdomain().mark(domains, 1)\n",
    "dx = Measure(\"dx\", domain = mesh, subdomain_data = domains) # This will allow to integrate over the subdomain with dx(1)                           \n",
    "                                    \n",
    "# Define and mark a portion of the boundary (recommended to go from the biggest to the smallest)\n",
    "class Gamma(SubDomain):\n",
    "    def inside(self, x, on_boundary):\n",
    "        return on_boundary and (x[0]-10)**2 + (x[1]-5)**2 < 3**2\n",
    "gamma = Gamma()\n",
    "# Alternative way to def the portion\n",
    "# gamma  = CompiledSubDomain(\"near(x[0], 0.)\")\n",
    "\n",
    "boundaries = MeshFunction(\"size_t\", mesh, mesh.topology().dim() - 1)\n",
    "boundaries.set_all(0)\n",
    "gamma.mark(boundaries, 1)\n",
    "ds = Measure(\"ds\", domain = mesh, subdomain_data = boundaries) # This will allow to integrate over the portion of the boundary with ds(1)"
   ]
  },
  {
   "cell_type": "code",
   "execution_count": null,
   "metadata": {
    "id": "BW5z8eLMrMrP"
   },
   "outputs": [],
   "source": [
    "# Create a mesh combining boolean operators (CSG = Constructive Solid Geometry) from mshr\n",
    "# and combining them with operators + (union), * (intersection) and - (set difference)\n",
    "\n",
    "# If the mesh is simple, prefer the previous commands rather than mshr\n",
    "\n",
    "from mshr import *\n",
    "\n",
    "S0 = Rectangle(Point(0, 0), Point(1, 1))\n",
    "S1 = Rectangle(Point(0.5, 0.5),Point(1.5, 1.5))\n",
    "C0 = Circle(Point(0.5, 0.5), 0.25)\n",
    "C1 = Circle(Point(1,1), 0.25)\n",
    "domain = (S0 + S1) - (C0 + C1)\n",
    "\n",
    "n = 20 # Mesh refinement\n",
    "mesh = generate_mesh(domain, n)\n",
    "plot(mesh)"
   ]
  },
  {
   "cell_type": "code",
   "execution_count": null,
   "metadata": {
    "id": "X3JHUgOM6qfe"
   },
   "outputs": [],
   "source": [
    "# Import a mesh in .xml format\n",
    "\n",
    "mesh = Mesh(\"name.xml\")\n",
    "\n",
    "# Import a mesh generated with mshr\n",
    "\n",
    "mesh_xdmf = XDMFFile(MPI.comm_world, \"name.xdmf\")\n",
    "mesh = Mesh()\n",
    "mesh_xdmf.read(mesh)"
   ]
  },
  {
   "cell_type": "code",
   "execution_count": null,
   "metadata": {
    "id": "LsYYaDJPpLvw"
   },
   "outputs": [],
   "source": [
    "# To deal with mesh that deforms over time, see: https://www.dolfin-adjoint.org/en/latest/documentation/tube-shape-derivative/tube-shape-derivative.html\n",
    "#                                                https://www.dolfin-adjoint.org/en/latest/documentation/stokes-shape-opt/stokes_problem.html"
   ]
  },
  {
   "cell_type": "markdown",
   "metadata": {
    "id": "UG1dIFs-T2R5"
   },
   "source": [
    "## Define the finite element space"
   ]
  },
  {
   "cell_type": "code",
   "execution_count": null,
   "metadata": {},
   "outputs": [],
   "source": [
    "# Finite element space for a scalar\n",
    "V = FunctionSpace(mesh, \"CG\", 1) # Continuous Galerkin; 'CG' is equivalent to 'P'\n",
    "W = FunctionSpace(mesh, \"DG\", 0) # Discontinuous Galerkin\n",
    "V = u_old.function_space()       # Retrieve the space from another function\n",
    "\n",
    "# Finite element space for a vector\n",
    "V = VectorFunctionSpace(mesh, 'P', 1) # Compact writing (each component belongs to the same space)\n",
    "\n",
    "P1 = FiniteElement('P', triangle, 1)\n",
    "element = MixedElement([P1, P1, P1]) # Now different spaces can be selected for each component\n",
    "V = FunctionSpace(mesh, element)\n",
    "\n",
    "V.sub(0) # Access subdomain of V\n",
    "V1, V2 = V.split() # Access subdomains of V\n",
    "V1 = V1.collapse() # V1 seen as new space with a new as-hoc basis (not as subspace of V with basis linked with V's basis)\n",
    "\n",
    "u = Function(V)\n",
    "u[0] # Retrieve single components as Indexed objects\n",
    "u.sub(0) # Retrieve single components as Functions (\"deepcopy = True\" may be required in input)\n",
    "u_1, u_2, u_3 = split(u) # Retrieve the components as Indexed objects\n",
    "u_1, u_2, u_3 = u.split() # Retrieve the components as Functions (\"deepcopy = True\" may be required in input)\n",
    "V_1, V_2, V_3 = V.split()"
   ]
  },
  {
   "cell_type": "code",
   "execution_count": 2,
   "metadata": {},
   "outputs": [],
   "source": [
    "# N.B. nodal values of a vector function (2 components for example) are saved in the following way:\n",
    "# f.vector() = [f_0(x_0), f_1(x_0), ..., f_0(x_n), f_1(x_n)]"
   ]
  },
  {
   "cell_type": "markdown",
   "metadata": {
    "id": "oFpOX43tW22y"
   },
   "source": [
    "## Define the boundary condition"
   ]
  },
  {
   "cell_type": "code",
   "execution_count": null,
   "metadata": {
    "id": "UMOqUmJRW3AT"
   },
   "outputs": [],
   "source": [
    "# Dirichlet boundary condition on the entire domain's boundary\n",
    "\n",
    "def boundary(x, on_boundary):\n",
    "    return on_boundary\n",
    "bc = DirichletBC(V, 0, boundary)\n",
    "\n",
    "bc = DirichletBC(V, 0, \"on_boundary\") # Compact writing"
   ]
  },
  {
   "cell_type": "code",
   "execution_count": null,
   "metadata": {
    "id": "IlgjCno6x31G"
   },
   "outputs": [],
   "source": [
    "# Dirichlet boundary condition on a portion of the domain boudnary\n",
    "\n",
    "def boundary(x, on_boundary):\n",
    "    d0 = sqrt((x[0] - 0.5) ** 2 + (x[1] - 0.5) ** 2)\n",
    "    d1 = sqrt((x[0] - 1.0) ** 2 + (x[1] - 1.0) ** 2)\n",
    "    return on_boundary and (d0 < 0.3 or d1 < 0.3)\n",
    "\n",
    "def boundary(x, on_boundary):\n",
    "    return on_boundary and x[0] < tol\n",
    "\n",
    "bc = DirichletBC(V, 0.0, boundary)"
   ]
  },
  {
   "cell_type": "code",
   "execution_count": null,
   "metadata": {
    "id": "fCP4mUZdve3a"
   },
   "outputs": [],
   "source": [
    "# Impose different boundary conditions\n",
    "\n",
    "inflow  = 'near(x[0], 0)'\n",
    "outflow = 'near(x[0], 1)'\n",
    "walls   = 'near(x[1], 0) || near(x[1], 1)'\n",
    "cylinder = 'on_boundary && x[0]>0.1 && x[0]<0.3 && x[1]>0.1 && x[1]<0.3'\n",
    "\n",
    "bcu_noslip  = DirichletBC(V, Constant((0, 0)), walls)\n",
    "bcp_inflow  = DirichletBC(Q, Constant(8), inflow)\n",
    "bcp_outflow = DirichletBC(Q, Constant(0), outflow)\n",
    "bcu = [bcu_noslip]\n",
    "bcp = [bcp_inflow, bcp_outflow]"
   ]
  },
  {
   "cell_type": "code",
   "execution_count": null,
   "metadata": {
    "id": "5fKkejnyAfnK"
   },
   "outputs": [],
   "source": [
    "# Non-homogeneous Dirichlet boundary condition\n",
    "\n",
    "u_D = Expression('1 + x[0]*x[0] + 2*x[1]*x[1]', degree=2)\n",
    "\n",
    "bc = DirichletBC(V, u_D, \"on_boundary\")"
   ]
  },
  {
   "cell_type": "code",
   "execution_count": null,
   "metadata": {
    "id": "71Ux-5VgJ0aY"
   },
   "outputs": [],
   "source": [
    "# Time-dependent Dirichlet boundary condition: the time t will be updated in the time-loop\n",
    "\n",
    "u_D = Expression('1 + x[0] * x[0] + x[1] * x[1] + 0.5 * t', degree=2, t=0)\n",
    "\n",
    "bc = DirichletBC(V, u_D, \"on_boundary\")"
   ]
  },
  {
   "cell_type": "markdown",
   "metadata": {
    "id": "prPZZXrmU_VL"
   },
   "source": [
    "## Define and solve the variational problem\n",
    "\n"
   ]
  },
  {
   "cell_type": "code",
   "execution_count": null,
   "metadata": {
    "id": "2gyjc3AFU-6y"
   },
   "outputs": [],
   "source": [
    "# Define the variational problem\n",
    "\n",
    "u = TrialFunction(V)\n",
    "\n",
    "v = TestFunction(V)\n",
    "\n",
    "f = Expression('exp(-10.0 * (pow(x[0] - 0.75, 2) + pow(x[1] - 0.75, 2)))', degree = 2)\n",
    "\n",
    "n  = FacetNormal(mesh) # Normal vector\n",
    "\n",
    "a = inner(grad(u), grad(v)) * dx\n",
    "L = f * v * dx\n",
    "\n",
    "F = inner(grad(u), grad(v)) * dx - f * v * dx\n",
    "a, L = lhs(F), rhs(F)\n",
    "\n",
    "def q(u):\n",
    "    return 1 + u**2\n",
    "F = q(u) * inner(grad(u), grad(v)) * dx - f * v * dx\n",
    "\n",
    "# N.B. use 'ds' for integrals over boundaries\n",
    "#      use 'dx(1)' or 'ds(1)' to integrate over the subdomain / boundary's portion with mark=1\n",
    "\n",
    "# N.B. For vectors:  (grad(v))_ij = dv_i / dx_j\n",
    "#                    (nabla_grad(v))_ij = dv_j / dx_i\n",
    "#      For matrices: (div(v))_i = dv_ij / dx_j\n",
    "#                    (nabla_div(v))_j = dv_ij / dx_i"
   ]
  },
  {
   "cell_type": "code",
   "execution_count": null,
   "metadata": {
    "id": "tQf45cHZSCL7"
   },
   "outputs": [],
   "source": [
    "# Solve the variational problem\n",
    "\n",
    "u = Function(V)\n",
    "\n",
    "solve(a == L, u, bc)\n",
    "\n",
    "plot(u)"
   ]
  },
  {
   "cell_type": "code",
   "execution_count": null,
   "metadata": {
    "id": "JC8DSJttyNed"
   },
   "outputs": [],
   "source": [
    "# Solve with different parameters\n",
    "# method 1\n",
    "\n",
    "u = Function(V)\n",
    "solve(a == L, u, bc, solver_parameters = {\"linear_solver\": \"gmres\",\n",
    "                                          \"preconditioner\": \"ilu\"})\n",
    "\n",
    "# method 2\n",
    "\n",
    "param = LinearVariationalSolver.default_parameters()\n",
    "param.linear_solver = 'gmres' # or 'lu' for example\n",
    "param.preconditioner = 'ilu'\n",
    "param.krylov_solver.absolute_tolerance = 1E-5\n",
    "param.krylov_solver.relative_tolerance = 1E-3\n",
    "param.krylov_solver.maximum_iterations = 1000\n",
    "u = Function(V)\n",
    "solve(a == L, u, bc, solver_parameters = param)\n",
    "\n",
    "# method 3\n",
    "\n",
    "u = Function(V)\n",
    "problem = LinearVariationalProblem(a, L, u, bc)\n",
    "solver = LinearVariationalSolver(problem)\n",
    "param.linear_solver = 'gmres' # or 'lu' for example\n",
    "param.preconditioner = 'ilu'\n",
    "param.krylov_solver.absolute_tolerance = 1E-5\n",
    "param.krylov_solver.relative_tolerance = 1E-3\n",
    "param.krylov_solver.maximum_iterations = 1000\n",
    "solver.solve() # Solution available in 'u'"
   ]
  },
  {
   "cell_type": "code",
   "execution_count": null,
   "metadata": {
    "id": "BVA-YqBvxQkP"
   },
   "outputs": [],
   "source": [
    "# Solve assembling the linear system\n",
    "\n",
    "A = assemble(a)\n",
    "b = assemble(L)\n",
    "bc.apply(A, b)\n",
    "\n",
    "A, b = assemble_system(a, L, bcs) # Assemble with one command\n",
    "\n",
    "solve(A, u.vector(), b, 'bicgstab', 'hypre_amg') # 'bicgstab' is the linear solver, 'hyper_amg' is the preconditioner"
   ]
  },
  {
   "cell_type": "code",
   "execution_count": null,
   "metadata": {
    "id": "EhRFKKSiznBR"
   },
   "outputs": [],
   "source": [
    "# Solve assembling the linear system with different parameters\n",
    "\n",
    "A, b = assemble_system(a, L, bc)\n",
    "\n",
    "solver = KrylovSolver('gmres', 'ilu') # or 'LUSolver()' for example\n",
    "solver.parameters.absolute_tolerance = 1E-5\n",
    "solver.parameters.relative_tolerance = 1E-3\n",
    "solver.parameters.maximum_iterations = 1000\n",
    "\n",
    "u = Function(V)\n",
    "solver.solve(A, u.vector(), b)"
   ]
  },
  {
   "cell_type": "code",
   "execution_count": null,
   "metadata": {
    "id": "_6AHSLNoJRFk"
   },
   "outputs": [],
   "source": [
    "# Time-dependent case\n",
    "\n",
    "T = 2.0            # Final time\n",
    "num_steps = 10     # Number of time steps\n",
    "dt = T / num_steps # Time step size\n",
    "t = 0\n",
    "\n",
    "u = TrialFunction(V)\n",
    "v = TestFunction(V)\n",
    "\n",
    "f = Expression('1 + x[0] * x[0] + x[1] * x[1] + 0.5 * t', degree = 2, t = t)\n",
    "\n",
    "u_n = interpolate(Constant(0.0), V) # Initial value\n",
    "\n",
    "a = u * v * dx + dt * inner(grad(u), grad(v)) * dx\n",
    "L = (u_n + dt * f) * v * dx\n",
    "\n",
    "u = Function(V)\n",
    "\n",
    "for n in range(num_steps):\n",
    "\n",
    "    # Update current time\n",
    "    t += dt\n",
    "    \n",
    "    # Update time-dependent expressions\n",
    "    f.t = t\n",
    "\n",
    "    # Compute solution\n",
    "    solve(a == L, u, bc)\n",
    "\n",
    "    # Plot solution\n",
    "    plot(u)\n",
    "\n",
    "    # Update previous solution\n",
    "    u_n.assign(u)"
   ]
  },
  {
   "cell_type": "markdown",
   "metadata": {
    "id": "Y_mjhacdBV5p"
   },
   "source": [
    "## Postprocessing"
   ]
  },
  {
   "cell_type": "code",
   "execution_count": null,
   "metadata": {
    "id": "5o14MyMTBYUs"
   },
   "outputs": [],
   "source": [
    "# Save solution\n",
    "output_file = HDF5File(MPI.comm_world, \"name.h5\", \"w\") # There is also XDMFile() for files .xdmf\n",
    "output_file.write(u, \"solution\")\n",
    "output_file.close()\n",
    "\n",
    "File('path/name.pvd') << u # Paraview Format\n",
    "\n",
    "# Load solution\n",
    "u_new = Function(V)\n",
    "input_file = HDF5File(MPI.comm_world, \"name.h5\", \"r\")\n",
    "input_file.read(u, \"solution\")\n",
    "input_file.close()"
   ]
  },
  {
   "cell_type": "code",
   "execution_count": null,
   "metadata": {
    "id": "q5Fr4Kt_BzlK"
   },
   "outputs": [],
   "source": [
    "# Compute errors\n",
    "# L2 error\n",
    "error_L2 = errornorm(u_ex, u) # L2 error by default\n",
    "error_L2 = errornorm(u_ex, u, 'L2')\n",
    "error_H1 = errornorm(u_ex, u, norm_type = 'H10', degree_rise = 3) # H1 seminorm\n",
    "\n",
    "# Compute maximum error at vertices\n",
    "vertex_values_u_ex = u_ex.compute_vertex_values(mesh)\n",
    "vertex_values_u = u.compute_vertex_values(mesh)\n",
    "import numpy as np\n",
    "error_max = np.max(np.abs(vertex_values_u_D - vertex_values_u))\n",
    "\n",
    "# Print errors\n",
    "print('error_L2  =', error_L2)\n",
    "print('error_max =', error_max)"
   ]
  },
  {
   "cell_type": "markdown",
   "metadata": {
    "id": "STzLC-ZUox0p"
   },
   "source": [
    "# PDE-constrained Optimisation\n",
    "$$\n",
    "\\min_{u,m} J(u,m) \\\\\n",
    "\\text{subject to}\\\\ F(u,m) = 0 \\\\\n",
    "l_b \\leq m \\leq u_b\\\\\n",
    "g(m) \\geq 0\n",
    "$$\n",
    "where $m$ contains the optimisation variables, $J$ is a real valued objective functional, $F(u,m)=0$ is the PDE with solution $u$. The bounds and inequality constraints can be used to restrict the feasible optimisation variables.\n",
    "\n",
    "# Reduced problem\n",
    "\n",
    "Given that for every $m$ the PDE yields a unique solution $u$, it is possible to state the following reduced problem:\n",
    "$$\n",
    "\\min_{m} \\tilde{J}(m) := J(u(m),m) \\\\\n",
    "\\text{subject to} \\\\ l_b \\leq m \\leq u_b\\\\\n",
    "g(m) \\leq 0\n",
    "$$\n",
    "\n",
    "Now the PDE-constraint is exactly satisfied at each optimisation iteration: therefore the optimisation loop can be terminated as soon as the functional is sufficiently reduced by the optimisation algorithm, without any feasibility iterations."
   ]
  },
  {
   "cell_type": "markdown",
   "metadata": {
    "id": "QnaV57mzXMox"
   },
   "source": [
    "## Define the optimal control problem\n"
   ]
  },
  {
   "cell_type": "code",
   "execution_count": null,
   "metadata": {
    "id": "XBHTByILW7FL"
   },
   "outputs": [],
   "source": [
    "# Define and solve the variational problem above (dolfin adjoint exploits it several times for optimization; it is calles 'tape')\n",
    "\n",
    "J = assemble((0.5 * inner(u - 0.5, u - 0.5)) * dx + f ** 2 * dx)\n",
    "\n",
    "control = Control(m) # Single control. Change 'm' with the control variable chosen\n",
    "\n",
    "control = [Control(m) for m in controls_list] # Multiple control. Change 'controls_list' with a list of control variables chosen\n",
    "\n",
    "# N.B. In case of constant control parameters, use Constant() to define them\n",
    "\n",
    "# N.B. To change the variational problem to deal with, clear the tape with 'set_working_tape(Tape())';\n",
    "#      then solve the new variational problem (e.g. with a different parameter) and go ahead with optimization\n",
    "\n",
    "# N.B. use 'ds' for integrals over boundaries\n",
    "#      use 'dx(1)' or 'ds(1)' to integrate over the subdomain / boundary's portion marked with 1\n",
    "\n",
    "# N.B. For vectors:  (grad(v))_ij = dv_i / dx_j\n",
    "#                    (nabla_grad(v))_ij = dv_j / dx_i\n",
    "#      For matrices: (div(v))_i = dv_ij / dx_j\n",
    "#                    (nabla_div(v))_j = dv_ij / dx_i"
   ]
  },
  {
   "cell_type": "code",
   "execution_count": null,
   "metadata": {
    "id": "b-D1VM_SYFzm"
   },
   "outputs": [],
   "source": [
    "# Time-dependent functional J\n",
    "# if J is time-dependent, all the needed forms must be assemble in the time-loop of the variational problem\n",
    "\n",
    "u_n = project(Expression((\"sin(2 * pi * x[0])\", \"cos(2 * pi * x[1])\"), degree = 2),  V) # Starting control parameter\n",
    "control = Control(u_n) # Control the initial condition for example\n",
    "\n",
    "t = 0.0\n",
    "timestep = Constant(0.01)\n",
    "T = 0.1\n",
    "\n",
    "Jtemp = assemble(inner(u_n, u_n) * dx)\n",
    "Jlist = [Jtemp]\n",
    "while (t <= T):\n",
    "    t += float(timestep)\n",
    "    solve(a == L, u, bc)\n",
    "    u_n.assign(u)\n",
    "\n",
    "    Jtemp = assemble(inner(u, u) * dx) \n",
    "    Jlist.append(Jtemp) # Jlist stores the integrals of <u(x,t),u(x,t)>*dx for each time step for example\n",
    "\n",
    "# Example 1: # J as the integral of <u(x,T),u(x,T)>*dx\n",
    "J = Jlist[-1] \n",
    "# Example 2: J as the ratio of two integrals at different time\n",
    "J = Jlist[3] * Jlist[0]**(-1)\n",
    "# Example 3: J as the double integral <u(x,t),u(x,t)>*dx*dt (trapezoidal rule used to approx it)\n",
    "#            This could be also computed with 'Jtemp += assemble(inner(u, u) * dx)' in the loop\n",
    "J = 0\n",
    "for i in range(1, len(Jlist)):\n",
    "    J += 0.5 * (Jlist[i-1] + Jlist[i]) * float(timestep)"
   ]
  },
  {
   "cell_type": "code",
   "execution_count": null,
   "metadata": {
    "id": "7vsH3-51GDIv"
   },
   "outputs": [],
   "source": [
    "# Time-dependent control variable\n",
    "# Create one control function for each timestep in the model and store all controls in a dictionary that maps timestep to control function\n",
    "\n",
    "# Example: J = \\int_0^T \\int_{\\Omega} y^2 * dx * dt + \\int_0^T \\int_{\\Omega} (u')^2 * dx * dt\n",
    "# First integral approx in time with trapezidal rule, the derivative in the second integral approx with incremental ratio\n",
    "\n",
    "from collections import OrderedDict\n",
    "\n",
    "dt = Constant(0.1)\n",
    "T = 2\n",
    "\n",
    "controls = OrderedDict()\n",
    "t = float(dt)\n",
    "while t <= T:\n",
    "    controls[t] = Function(V) # Initialize one control for each time-step\n",
    "    t += float(dt)\n",
    "\n",
    "y = Function(V, name = \"solution\") # Initial condition\n",
    "t = float(dt)\n",
    "J = 0.5 * float(dt) * assemble((y)**2 * dx)\n",
    "\n",
    "u = Function(V)\n",
    "\n",
    "while t <= T:\n",
    "    \n",
    "    u.assign(controls[t]) # Update source term from control array\n",
    "    \n",
    "    f.t = t # Update time-dependent data\n",
    "    \n",
    "    solve(a == L, y) # Solve PDE\n",
    "    \n",
    "    # Implement a trapezoidal rule\n",
    "    if t > T - float(dt):\n",
    "        weight = 0.5\n",
    "    else:\n",
    "        weight = 1\n",
    "    J += weight * float(dt) * assemble((y)**2 * dx)\n",
    "\n",
    "    t += float(dt) # Update time\n",
    "\n",
    "# Add regularisation term to J\n",
    "alpha = Constant(1e-1)\n",
    "regularisation = alpha / 2 * sum([1 / dt * (fb - fa)**2 * dx for fb, fa in zip(list(ctrls.values())[1:], list(ctrls.values())[:-1])])\n",
    "J = J + assemble(regularisation)"
   ]
  },
  {
   "cell_type": "markdown",
   "metadata": {
    "id": "6n5eekhYjEH2"
   },
   "source": [
    "## Compute derivatives"
   ]
  },
  {
   "cell_type": "code",
   "execution_count": null,
   "metadata": {
    "id": "U6YNdSEyjDyg"
   },
   "outputs": [],
   "source": [
    "dJ = compute_gradient(J, control)\n",
    "dJ1, dJ2 = compute_gradient(J, [Control(u), Control(f)])"
   ]
  },
  {
   "cell_type": "markdown",
   "metadata": {
    "id": "G3X3jpIDcxyK"
   },
   "source": [
    "## Solve the optimisation problem\n"
   ]
  },
  {
   "cell_type": "code",
   "execution_count": null,
   "metadata": {
    "id": "Rca1Xo8_c1GP"
   },
   "outputs": [],
   "source": [
    "# Solve the PDE-constrained optimisation problem without bounds or extra constraints\n",
    "\n",
    "Jhat = ReducedFunctional(J, control)\n",
    "Jhat = ReducedFunctional(J, [control1, control2, ...])\n",
    "\n",
    "m_opt = minimize(Jhat) # L-BFGS-B is used by default\n",
    "m_opt = minimize(Jhat, method = ...) # Run print_optimization_methods() to see the available methods\n",
    "m_opt = minimize(Jhat, method = 'SLSQP', tol = 1e-10, options = {'maxiter' : 200,\n",
    "                                                                 'gtol' : 1e-3, # Stop if the gradient norm drops below gtol\n",
    "                                                                 'disp': True}) # Print convergence messages.\n",
    "m_opt = maximize(Jhat) # All the command for 'minimize' can work also for 'maximize'"
   ]
  },
  {
   "cell_type": "code",
   "execution_count": null,
   "metadata": {},
   "outputs": [],
   "source": [
    "# Methods and options available\n",
    "\n",
    "print_optimization_methods()\n",
    "\n",
    "from scipy.optimize import show_options\n",
    "show_options('minimize', method = ...)\n",
    "show_options('maximize', method = ...)"
   ]
  },
  {
   "cell_type": "code",
   "execution_count": null,
   "metadata": {
    "id": "gnpEzXSgRezC"
   },
   "outputs": [],
   "source": [
    "# Solve the PDE-constrained optimisation problem with bounds for the control variable\n",
    "\n",
    "m_opt = minimize(Jhat, bounds = (control_lb, control_ub)) # control_lb and control_ub are of the same type as the controller\n",
    "m_opt = minimize(Jhat, bounds = (0.0, 1.0)) # Float case\n",
    "m_opt = minimize(Jhat, bounds = [[control1_lb, control2_lb, ...], [control1_ub, control2_ub, ...])"
   ]
  },
  {
   "cell_type": "code",
   "execution_count": null,
   "metadata": {
    "id": "-tJslYUwQSqH"
   },
   "outputs": [],
   "source": [
    "# Solve the PDE-constrained optimisation problem with inequality constraint g(m)>=0\n",
    "# Example: g(m) = 0.4 - \\int{m*dx} >= 0\n",
    "\n",
    "Jhat = ReducedFunctional(J, control)\n",
    "\n",
    "# method 1: write the constraint as \\int{(0.4 / |\\Omega| - m) * dx} and use 'UFLInequalityConstraint'\n",
    "k = Constant(0.4)\n",
    "domain_size = Constant(2)\n",
    "MyConstraint = UFLInequalityConstraint((k / domain_size - m) * dx, m) # Change the first 'm' with the control variable\n",
    "\n",
    "m_opt = minimize(Jhat, constraints = MyConstraint)\n",
    "\n",
    "# method 2\n",
    "class MyConstraint(InequalityConstraint): # Use 'EqualityConstraint' as base class in case of equality constraint\n",
    "    \n",
    "    def __init__(self, k):\n",
    "        self.k = float(k)\n",
    "        self.smass = assemble(TestFunction(V) * Constant(1) * dx) # Directly assemble the mass matrix to compute the integral\n",
    "        self.tmpvec = Function(V)\n",
    "\n",
    "    def function(self, m): # Method to compute the constraint value needed\n",
    "        from pyadjoint.reduced_functional_numpy import set_local\n",
    "        set_local(self.tmpvec, m) # Use local indices\n",
    "        integral = self.smass.inner(self.tmpvec.vector())\n",
    "        return [self.k - integral]\n",
    "\n",
    "    def jacobian(self, m): # Method to compute the Jacobian needed\n",
    "        return [-self.smass]\n",
    "\n",
    "    def length(self): # Method to return the number of components in the constraint needed\n",
    "        return 1\n",
    "    \n",
    "    def output_workspace(self):\n",
    "        return [0.0]\n",
    "\n",
    "m_opt = minimize(Jhat, constraints = MyConstraint(k))"
   ]
  },
  {
   "cell_type": "code",
   "execution_count": null,
   "metadata": {
    "id": "P1q7WrT8lIyg"
   },
   "outputs": [],
   "source": [
    "# Callbacks: function executed after every optimisation iteration to save or plot the functional or parameter values\n",
    "# method 1: callbacks are executed whenever the functional is evaluated\n",
    "\n",
    "def eval_cb(j, m):\n",
    "    print \"j = %f, m = %f.\" % (j, float(m))\n",
    "    File(\"name.pvd\") << m # Save solution whenever J is evaluated\n",
    "\n",
    "def derivative_cb(j, dj, m):\n",
    "    print \"j = %f, dj = %f, m = %f.\" % (j, dj, float(m))\n",
    "\n",
    "Jhat = ReducedFunctional(J, control, eval_cb = eval_cb, derivative_cb = derivative_cb)\n",
    "\n",
    "# method 2\n",
    "def iter_cb(m):\n",
    "    print \"m = \", m\n",
    "\n",
    "Jhat = ReducedFunctional(J, control)\n",
    "sol_opt = minimize(Jhat, callback = iter_cb)"
   ]
  },
  {
   "cell_type": "code",
   "execution_count": null,
   "metadata": {
    "id": "KTLIHrDYsYC-"
   },
   "outputs": [],
   "source": [
    "# Use an artificial neural network to model a function and train it\n",
    "\n",
    "try:\n",
    "    from ufl_dnn.neural_network import ANN\n",
    "except ImportError:\n",
    "    !pip install git+https://github.com/sebastkm/hybrid-fem-nn.git@master\n",
    "    from ufl_dnn.neural_network import ANN\n",
    "\n",
    "layers = [2, 10, 1] # 2 inputs, 1 hidden layer with 10 neurons and 1 output\n",
    "bias = [True , True]\n",
    "net = ANN(layers, bias = bias, mesh = mesh)\n",
    "\n",
    "def f_ANN(u1, u2):\n",
    "    return net([u1, u2])\n",
    "\n",
    "# Solve the variational problem with f_ANN inside a first time\n",
    "# Define the cost functional J\n",
    "\n",
    "Jhat = ReducedFunctional(J, net.weights_ctrls())\n",
    "opt_weights = minimize(Jhat, method =\"L-BFGS-B\", tol = 1e-6, options = {'disp': True, \"maxiter\":100})\n",
    "net.set_weights(opt_weights)\n",
    "\n",
    "# Solve the variational problem another time to compute the final results\n",
    "# To plot f_ANN, evaluate it on a grid of inputs and plot the obtained values"
   ]
  },
  {
   "cell_type": "code",
   "execution_count": null,
   "metadata": {
    "id": "6JhjFalTj8RU"
   },
   "outputs": [],
   "source": [
    "# Solve with Moola package\n",
    "\n",
    "try:\n",
    "    import moola\n",
    "except ImportError:\n",
    "    !pip install moola\n",
    "    import moola\n",
    "\n",
    "Jhat = ReducedFunctional(J, control)\n",
    "\n",
    "problem = MoolaOptimizationProblem(Jhat)\n",
    "control_moola = moola.DolfinPrimalVector(m) # Change 'm' with the control variable chosen\n",
    "\n",
    "# Case with multiple control variables\n",
    "control1_moola = moola.DolfinPrimalVector(m1)\n",
    "control2_moola = moola.DolfinPrimalVector(m2)\n",
    "control_moola = moola.DolfinPrimalVectorSet([control1_moola, control2_moola])\n",
    "\n",
    "solver = moola.NewtonCG(problem, control_moola, options={'gtol': 1e-9,\n",
    "                                                   'maxiter': 20,\n",
    "                                                   'display': 3,\n",
    "                                                   'ncg_hesstol': 0})\n",
    "\n",
    "solver = moola.BFGS(problem, control_moola, options={'jtol': 0,\n",
    "                                               'gtol': 1e-9,\n",
    "                                               'Hinit': \"default\",\n",
    "                                               'maxiter': 100,\n",
    "                                               'mem_lim': 10})\n",
    "\n",
    "sol = solver.solve()\n",
    "sol_opt = sol['control'].data"
   ]
  },
  {
   "cell_type": "code",
   "execution_count": null,
   "metadata": {
    "id": "fKg2QwJL_Hgm"
   },
   "outputs": [],
   "source": [
    "# Solve with IPOPT\n",
    "\n",
    "try:\n",
    "    from pyadjoint import ipopt\n",
    "except ImportError:\n",
    "    print(\"\"\"This example depends on IPOPT and Python ipopt bindings. \\\n",
    "  When compiling IPOPT, make sure to link against HSL, as it \\\n",
    "  is a necessity for practical problems.\"\"\")\n",
    "    raise\n",
    "\n",
    "parameters[\"std_out_all_processes\"] = False # Turn off redundant output in parallel\n",
    "\n",
    "Jhat = ReducedFunctional(J, control)\n",
    "\n",
    "problem = MinimizationProblem(Jhat, bounds = (l_b, u_b), constraints = MyConstraint(k)) \n",
    "parameters = {\"acceptable_tol\": 1.0e-3, \"maximum_iterations\": 100}\n",
    "solver = IPOPTSolver(problem, parameters = parameters)\n",
    "sol_opt = solver.solve()"
   ]
  },
  {
   "cell_type": "markdown",
   "metadata": {
    "id": "BXa4ebNxuCUZ"
   },
   "source": [
    "# Postprocessing"
   ]
  },
  {
   "cell_type": "code",
   "execution_count": null,
   "metadata": {
    "id": "Xo-5SVGcuB1K"
   },
   "outputs": [],
   "source": [
    "# Plot control variable\n",
    "plot(sol_opt, title=\"sol_opt\")\n",
    "\n",
    "# Plot controlled solution\n",
    "m.assign(sol_opt) # Change 'm' with the control variable chosen\n",
    "solve(a == L, u, bc)\n",
    "\n",
    "clear_output(wait=False)\n",
    "plot(u)"
   ]
  },
  {
   "cell_type": "code",
   "execution_count": null,
   "metadata": {
    "id": "2uNsTtXuDOCY"
   },
   "outputs": [],
   "source": [
    "# Save solution\n",
    "output_file = HDF5File(MPI.comm_world, \"name.h5\", \"w\") # There is also XDMFile() for files .xdmf\n",
    "output_file.write(sol_opt, \"solution\")\n",
    "output_file.close()\n",
    "\n",
    "File('path/name.pvd') << sol_opt # Paraview Format\n",
    "\n",
    "# Load solution\n",
    "sol_opt_new = Function(V)\n",
    "input_file = HDF5File(MPI.comm_world, \"name.h5\", \"r\")\n",
    "input_file.read(sol_opt, \"solution\")\n",
    "input_file.close()"
   ]
  },
  {
   "cell_type": "markdown",
   "metadata": {
    "id": "T_wthEVmdaXQ"
   },
   "source": [
    "## Compute errors"
   ]
  },
  {
   "cell_type": "code",
   "execution_count": null,
   "metadata": {
    "id": "_7cspcE7daub"
   },
   "outputs": [],
   "source": [
    "sol_ex = Expression(\"1 / (1 + 4 * pow(pi, 4)) * sin(pi * x[0]) * sin(pi * x[1])\", degree = 3)\n",
    "u_ex = Expression(\"1 / (2 * pow(pi, 2)) * f\", f = f_ex, degree = 3)\n",
    "\n",
    "m.assign(sol_opt) # Change 'm' with the control variable chosen\n",
    "solve(a == L, u, bc)\n",
    "control_error = errornorm(sol_ex, sol_opt, 'L2')\n",
    "state_error = errornorm(u_ex, u, 'L2')\n",
    "\n",
    "print(\"h(min):           %e.\" % mesh.hmin())\n",
    "print(\"Error in state:   %e.\" % state_error)\n",
    "print(\"Error in control: %e.\" % control_error)"
   ]
  },
  {
   "cell_type": "markdown",
   "metadata": {
    "id": "1qsEOewvKSCh"
   },
   "source": [
    "## Taylor test"
   ]
  },
  {
   "cell_type": "code",
   "execution_count": null,
   "metadata": {
    "id": "E0PEWuC3KWxf"
   },
   "outputs": [],
   "source": [
    "control = Control(m) # Change 'm' with the control variable chosen\n",
    "\n",
    "# 'h' must be of the same type as the controller\n",
    "# if the controller is a constant:\n",
    "h = Constant(0.0001)\n",
    "# if the controller is a function:\n",
    "h = Function(V)\n",
    "h.vector()[:] = 0.1\n",
    "\n",
    "Jhat = ReducedFunctional(J, control)\n",
    "conv_rate = taylor_test(Jhat, m, h)  # Change 'm' with the control variable chosen; if the gradient has been computed correctly, the convergence rates found should be 2\n",
    "conv_rate = taylor_test(Jhat, m, h, dJdm = 0)  # Change 'm' with the control variable chosen; if the gradient has been computed correctly, the convergence rates found should be 1\n",
    "\n",
    "# Taylor remainders are not correct if the model manually modifies function values or the entries of assembled matrices and vectors, if the model is not differentiable or if there is a bug in dolfin-adjoint"
   ]
  },
  {
   "cell_type": "markdown",
   "metadata": {},
   "source": [
    "# RBniCS - Reduced Order Model x PDE\n",
    "\n",
    "Consider a parameter-dependent unsteady PDE in the domain $\\Omega\\times[0,T]$:\n",
    "<center>for a given parameter $\\boldsymbol{\\mu}\\in\\mathbb{P}$, find $u(\\boldsymbol{\\mu})$ such that</center>\n",
    "\n",
    "$$\n",
    "\\begin{cases}\n",
    "\tG(y(t;\\boldsymbol{\\mu});\\boldsymbol{\\mu}) = 0 & \\text{in } \\Omega\\times[0,T],\\\\\n",
    "\t\\text{B.C.} & \\text{on } \\partial \\Omega\\times[0,T],\\\\\n",
    "    \\text{I.C.} & \\text{on } \\Omega\\times\\{t=0\\}\n",
    "\\end{cases}\n",
    "$$\n",
    "\n",
    "where $y(t;\\boldsymbol{\\mu})$ is the state and $\\boldsymbol{\\mu}$ is a vector of parameters.\n",
    "\n",
    "The corresponding weak formulation reads as follow:\n",
    "<center>for a given parameter $\\boldsymbol{\\mu}\\in\\mathbb{P}$,  for $t\\in[0,T]$, find $y(t;\\boldsymbol{\\mu})\\in\\mathbb{V}$ such that</center>\n",
    "\n",
    "$$m\\left(\\partial_t y(t;\\boldsymbol{\\mu}),v;\\boldsymbol{\\mu}\\right) + a\\left(y(t;\\boldsymbol{\\mu}),v;\\boldsymbol{\\mu}\\right)+c\\left(y(t;\\boldsymbol{\\mu}),v;\\boldsymbol{\\mu}\\right)=f(v;\\boldsymbol{\\mu})\\quad \\forall v\\in\\mathbb{V},\\quad \\forall t\\in[0,T]$$\n",
    "\n",
    "where\n",
    "\n",
    "* $\\mathbb{V}$ is the function space for the state $y$;\n",
    "* $m(\\cdot, \\cdot; \\boldsymbol{\\mu}): \\mathbb{V} \\times \\mathbb{V} \\to \\mathbb{R}$ is the parametrized bilinear accounting for the term with the time derivative of y\n",
    "* $a(\\cdot, \\cdot; \\boldsymbol{\\mu}): \\mathbb{V} \\times \\mathbb{V} \\to \\mathbb{R}$ is the parametrized bilinear form;\n",
    "* $c(\\cdot, \\cdot; \\boldsymbol{\\mu}): \\mathbb{V} \\times \\mathbb{V} \\to \\mathbb{R}$ is the parametrized bilinear form accounting for the non-linearities;\n",
    "* $f(\\cdot; \\boldsymbol{\\mu}): \\mathbb{V} \\to \\mathbb{R}$ is the parametrized linear form\n",
    "\n",
    "Let $s(t;\\boldsymbol{\\mu})$  the output of interest computed starting from $y(t;\\boldsymbol{\\mu})$."
   ]
  },
  {
   "cell_type": "markdown",
   "metadata": {},
   "source": [
    "## Affine decomposition\n",
    "\n",
    "In order to reduce the cost when assembling ROM matrices and vectors, the parameter-dependent part and the parameter-independent one should be separated; this is called affine decomposition. In formulas:\n",
    "\n",
    "$$ m(y,v;\\boldsymbol{\\mu})=\\sum_{i=1}^{N_m} \\Theta^{m}_i(\\boldsymbol{\\mu}) m_i(y,v) $$\n",
    "$$ a(y,v;\\boldsymbol{\\mu})=\\sum_{i=1}^{N_a} \\Theta^{a}_i(\\boldsymbol{\\mu}) a_i(y,v) $$\n",
    "$$ c(y,v;\\boldsymbol{\\mu})=\\sum_{i=1}^{N_c} \\Theta^{c}_i(\\boldsymbol{\\mu}) c_i(y,v) $$\n",
    "$$ f(v; \\boldsymbol{\\mu}) = \\sum_{i=1}^{N_f} \\Theta^{f}_i(\\boldsymbol{\\mu}) f_i(y,v) $$\n",
    "\n",
    "If the problem is not affine, EIM or DEIM can retrieve this setting by an approximation procedure."
   ]
  },
  {
   "cell_type": "markdown",
   "metadata": {},
   "source": [
    "## Problem definition"
   ]
  },
  {
   "cell_type": "code",
   "execution_count": null,
   "metadata": {},
   "outputs": [],
   "source": [
    "import rbnics.utils.config\n",
    "assert \"dolfin\" in rbnics.utils.config.config.get(\"backends\", \"required backends\")\n",
    "from rbnics import *\n",
    "\n",
    "# Extra imports for online stabilization for advection dominated problems\n",
    "from problems import *\n",
    "from reduction_methods import *\n",
    "\n",
    "# Extra imports for uncertainty quantification\n",
    "from problems import *\n",
    "from reduction_methods import *\n",
    "from sampling.distributions import *\n",
    "from sampling.weights import *"
   ]
  },
  {
   "cell_type": "code",
   "execution_count": null,
   "metadata": {},
   "outputs": [],
   "source": [
    "# Implement the numerical discretization of the problem in the following class\n",
    "# It is possible to define a new problem \"Type\" if not present yet\n",
    "\n",
    "@ExactParametrizedFunctions() # Decorator for exact treatment of non-affine terms or non-linear terms\n",
    "@EIM() # Decorator for Empirical Interpolation Method\n",
    "@DEIM() # Decorator for Discrete Empirical Interpolation Method\n",
    "# We can also apply different methods offline and online; for example:\n",
    "@ExactParametrizedFunctions(\"offline\")\n",
    "@DEIM(\"online\", basis_generation = \"Greedy\")\n",
    "\n",
    "@WeightedUncertaintyQuantification() # Decorator for uncertainty quantification\n",
    "\n",
    "@OnlineStabilization() # Decorator for advection dominated problems\n",
    "\n",
    "@SCM() # Decorator for Successive Constraint Method to estimate the stability factor for Greedy\n",
    "\n",
    "@PullBackFormsToReferenceDomain() # Decorators for parameter-dependent domain\n",
    "@ShapeParametrization(...) # e.g. ShapeParametrization((\"x[0]\", \"x[1]\"), # subdomain 1\n",
    "                           #                           (\"mu[0]*(x[0] - 1) + 1\", \"x[1]\")) # subdomain 2\n",
    "@AffineShapeParametrization(...) # Affine version of ShapeParametrization\n",
    "\n",
    "class MyProblem(Type): # \"Type\" can be one of the following:\n",
    "                       # EllipticCoerciveCompliantProblem, EllipticCoerciveProblem, NonlinearEllipticProblem\n",
    "                       # ParabolicCoerciveProblem, NonlinearParabolicProblem,\n",
    "                       # StokesProblem, StokesUnsteadyProblem, NavierStokesProblem, NavierStokesUnsteadyProblem (see the tutorial for the formulation)\n",
    "                       # GeostrophicProblem (see the tutorial for the formulation)\n",
    "                           \n",
    "    # Default initialization of members (call standard initialization + store FEniCS data structures for assembly)\n",
    "    @generate_function_space_for_stability_factor # Decorator to estimate stability factor for Greedy\n",
    "    def __init__(self, V, **kwargs):\n",
    "        # Call the standard initialization\n",
    "        Type.__init__(self, V, **kwargs) # Change \"Type\"\n",
    "        assert \"subdomains\" in kwargs\n",
    "        assert \"boundaries\" in kwargs\n",
    "        self.subdomains, self.boundaries = kwargs[\"subdomains\"], kwargs[\"boundaries\"]\n",
    "        self.y = TrialFunction(V)\n",
    "        self.v = TestFunction(V)\n",
    "        self.dx = Measure(\"dx\")(subdomain_data = self.subdomains)\n",
    "        self.ds = Measure(\"ds\")(subdomain_data = self.boundaries)\n",
    "        \n",
    "        # Set hyperparameters and options if needed\n",
    "        self.gamma = 1.0\n",
    "        self.fun1 = Expression(\"sin(2*pi*x[0])*sin(2*pi*x[1])\", element = self.V.ufl_element()) # Non-linear function\n",
    "        self.fun2 = ParametrizedExpression(self, \"exp(- 2 * pow(x[0] - mu[0], 2) - 2 * pow(x[1] - mu[1], 2))\",\n",
    "                                          mu = (0., 0.), element = V.ufl_element()) # Non-affine function: we cannot use self.mu here because it has not been initialized yet\n",
    "        self._eigen_solver_parameters.update({\"bounding_box_minimum\": {\"problem_type\": \"gen_hermitian\", \"spectral_transform\": \"shift-and-invert\",\n",
    "                                                                       \"spectral_shift\": 1.e-5, \"linear_solver\": \"mumps\"},\n",
    "                                              \"bounding_box_maximum\": {\"problem_type\": \"gen_hermitian\", \"spectral_transform\": \"shift-and-invert\",\n",
    "                                                                       \"spectral_shift\": 1.e5, \"linear_solver\": \"mumps\"},\n",
    "                                              \"stability_factor\": {\"problem_type\": \"gen_hermitian\", \"spectral_transform\": \"shift-and-invert\",\n",
    "                                                                   \"spectral_shift\": 1.e-5, \"linear_solver\": \"mumps\"}})\n",
    "        self._nonlinear_solver_parameters.update({\"linear_solver\": \"mumps\", \"maximum_iterations\": 20, \"report\": True, \"line_search\": \"wolfe\"})\n",
    "        self._time_stepping_parameters.update({\"report\": True,\"snes_solver\": {\"linear_solver\": \"mumps\", \"maximum_iterations\": 20, \"report\": True}})\n",
    "        \n",
    "    # Return custom problem name\n",
    "    def name(self):\n",
    "        return \"MyProblem\"\n",
    "\n",
    "    # Return the stability factor for Greedy\n",
    "    def get_stability_factor_lower_bound(self):\n",
    "        return min(self.compute_theta(\"a\"))\n",
    "\n",
    "    \n",
    "    # Return theta multiplicative terms of the affine expansion of the problem\n",
    "    @compute_theta_for_stability_factor # Decorator to estimate the stability factor for Greedy\n",
    "    @compute_theta_for_derivatives # Decorator for non-linear problems\n",
    "    @compute_theta_for_supremizers # Decorator for supremizer operator to ensure inf-sup condition\n",
    "    def compute_theta(self, term):\n",
    "        mu = self.mu # Parameters mu accessed in this way, then use mu[i] to access the i-th parameter\n",
    "        if term == \"m\":\n",
    "            theta_m0 = ... # Fill and add the theta_mi terms\n",
    "            ...\n",
    "            return (theta_m0, ...)\n",
    "        elif term == \"a\":\n",
    "            theta_a0 = ... # Fill and add the theta_ai terms\n",
    "            ...\n",
    "            return (theta_a0, ...)\n",
    "        elif term == \"c\": \n",
    "            theta_c0 = ... # Fill and add the theta_ci terms\n",
    "            ...\n",
    "            return (theta_c0, ...)\n",
    "        elif term == \"f\":\n",
    "            theta_f0 = ... # Fill and add the theta_fi terms\n",
    "            ...\n",
    "            return (theta_f0, ...)\n",
    "        elif term == \"s\":\n",
    "            theta_s0 = ... # Fill and add the theta_si terms\n",
    "            ...\n",
    "            return (theta_s0, ...)\n",
    "        elif term == \"dirichlet_bc\":\n",
    "            theta_bc0 = ... # Fill and add the theta_bci terms\n",
    "            ...\n",
    "            return (theta_bc0, ...)\n",
    "        else:\n",
    "            raise ValueError(\"Invalid term for compute_theta().\")\n",
    "    # N.B. If only theta_a0 is present, return (theta_a0,) instead of returning (theta_a0). The same for the other cases.\n",
    "    # N.B. If the state is a vector (e.g. y = [u,p]), then consider 'dirichlet_bc_u' and 'dirichlet_bc_p'\n",
    "    \n",
    "    # Return forms resulting from the discretization of the affine expansion of the problem operators.\n",
    "    @assemble_operator_for_stability_factor # Decorator to estimate the stability factor for Greedy\n",
    "    @assemble_operator_for_derivatives # Decorator for non-linear problems\n",
    "    @assemble_operator_for_supremizers # Decorator for supremizer operator to ensure inf-sup condition\n",
    "    def assemble_operator(self, term):\n",
    "        dx = self.dx\n",
    "        ds = self.ds\n",
    "        y = self.y\n",
    "        v = self.v\n",
    "        if term == \"m\":\n",
    "            m0 = ... # Fill and add the mi terms. N.B. here y stands for dy/dt; e.g. m0 = y * v * dx stands for dy/dt * v * dx\n",
    "            ....\n",
    "            return (m0, )\n",
    "        elif term == \"a\":     \n",
    "            a0 = ... # Fill and add the ai terms; e.g. a0 = inner(grad(y), grad(v)) * dx(1)\n",
    "            ...\n",
    "            return (a0, ...)\n",
    "        elif term == \"c\":\n",
    "            c0 = ... # Fill and add the ci terms; e.g. c0 = (exp(mu[1] * u) - 1) / mu[1] * v * dx\n",
    "            ...\n",
    "            return (c0, ...)\n",
    "        elif term == \"f\":\n",
    "            f0 = ... # Fill and add the fi terms; e.g. f0 = v * ds(1)\n",
    "            ...\n",
    "            return (f0, ...)\n",
    "        elif term == \"s\":\n",
    "            s0 = v * dx # Fill and add the si terms; e.g. s0 = v * dx\n",
    "            ...\n",
    "            return (s0, ...)\n",
    "        elif term == \"dirichlet_bc\":\n",
    "            bc0 = ... # Fill and add the bci terms; e.g. [DirichletBC(self.V, Constant(0.0), self.boundaries, 3), DirichletBC(self.V, Constant(1.0), self.boundaries, 2)]\n",
    "            ...\n",
    "            return (bc0, ...)\n",
    "        elif term == \"inner_product\": # Inner product used in the space V\n",
    "            x0 = ... # e.g. x0 = inner(grad(y), grad(v)) * dx\n",
    "            return (x0,)\n",
    "        elif term == \"projection_inner_product\":\n",
    "            x0 = ...\n",
    "            return (x0,)\n",
    "        else:\n",
    "            raise ValueError(\"Invalid term for assemble_operator().\")\n",
    "        # N.B. If only a0 is present, return (a0,) instead of returning (a0). The same for the other cases.\n",
    "        # N.B. If the state is a vector (e.g. y = [u,p]), then consider 'dirichlet_bc_u', 'dirichlet_bc_p', 'inner_product_u', 'inner_product_p'\n",
    "\n",
    "    # Auxiliary function useful inside the class\n",
    "    def aux(self, ...):\n",
    "        ...\n",
    "        return ..."
   ]
  },
  {
   "cell_type": "code",
   "execution_count": null,
   "metadata": {},
   "outputs": [],
   "source": [
    "# Define or import the mesh, the subdomains and the boundaries"
   ]
  },
  {
   "cell_type": "code",
   "execution_count": null,
   "metadata": {},
   "outputs": [],
   "source": [
    "# Define the functional space V"
   ]
  },
  {
   "cell_type": "code",
   "execution_count": null,
   "metadata": {},
   "outputs": [],
   "source": [
    "# Define the problem\n",
    "\n",
    "problem = MyProblem(V, subdomains = subdomains, boundaries = boundaries)\n",
    "mu_range = [(,),...] # Set the range for the param; e.g. mu_range = [(0.1, 10.0), (-1.0, 1.0)]\n",
    "problem.set_mu_range(mu_range)\n",
    "\n",
    "# Parameter for unsteady problems\n",
    "dt = ...\n",
    "T = ...\n",
    "problem.set_time_step_size(dt)\n",
    "problem.set_final_time(T)"
   ]
  },
  {
   "cell_type": "markdown",
   "metadata": {},
   "source": [
    "## Reduced basis methods"
   ]
  },
  {
   "cell_type": "code",
   "execution_count": null,
   "metadata": {},
   "outputs": [],
   "source": [
    "# Choose a Reduce basis method\n",
    "\n",
    "reduction_method = ReducedBasis(problem) # Greedy algorithm\n",
    "reduction_method = PODGalerkin(problem) # POD-Galerkin"
   ]
  },
  {
   "cell_type": "code",
   "execution_count": null,
   "metadata": {},
   "outputs": [],
   "source": [
    "# Set parameters for the Reduce basis method\n",
    "\n",
    "Nmax = ...  # Set max dimension of the reduced space\n",
    "toll = ...  # Set tolerance\n",
    "\n",
    "reduction_method.set_Nmax(Nmax) # Possible extra input: POD_Greedy, nested_POD, EIM, DEIM, SCM\n",
    "reduction_method.set_tolerance(toll) # Possible extra input: POD_Greedy, nested_POD, EIM, DEIM, SCM"
   ]
  },
  {
   "cell_type": "code",
   "execution_count": null,
   "metadata": {},
   "outputs": [],
   "source": [
    "# Offline phase\n",
    "\n",
    "N_train = ... # Set size of the training set\n",
    "reduction_method.initialize_training_set(N_train) # Possible extra input: EIM, DEIM, SCM\n",
    "reduction_method.initialize_training_set(N_train, sampling = ..., weight = ...)\n",
    "# Examples: sampling = LogUniformDistribution()\n",
    "#           sampling = LinearlyDependentUniformDistribution()\n",
    "#           sampling = BetaDistribution(beta_a, beta_b), weight = BetaWeight(beta_a, beta_b) where beta_a and beta_b are vectors of length nparam (nparam=len(mu))\n",
    "reduced_problem = reduction_method.offline()"
   ]
  },
  {
   "cell_type": "code",
   "execution_count": null,
   "metadata": {},
   "outputs": [],
   "source": [
    "# Online phase\n",
    "\n",
    "online_mu = ... # Choose the parameters to use online; e.g. online_mu = (3.5, 0.02, 11.0)\n",
    "\n",
    "reduced_problem.set_mu(online_mu)\n",
    "reduced_solution = reduced_problem.solve() # Possible extra input: EIM, DEIM, online_stabilization = True/False"
   ]
  },
  {
   "cell_type": "code",
   "execution_count": null,
   "metadata": {},
   "outputs": [],
   "source": [
    "reduced_problem.export_solution(filename = \"online_solution\")\n",
    "reduced_problem.export_error(filename = \"online_error\")"
   ]
  },
  {
   "cell_type": "code",
   "execution_count": null,
   "metadata": {},
   "outputs": [],
   "source": [
    "reduced_problem.compute_output()"
   ]
  },
  {
   "cell_type": "code",
   "execution_count": null,
   "metadata": {},
   "outputs": [],
   "source": [
    "plot(reduced_solution, reduced_problem = reduced_problem)\n",
    "plot(reduced_solution, reduced_problem = reduced_problem, component = ...) # Plot single components in case of vectorial state \n",
    "plot(reduced_solution, reduced_problem = reduced_problem, every = 5, interval = 500) # Plot for unsteady problems"
   ]
  },
  {
   "cell_type": "code",
   "execution_count": null,
   "metadata": {},
   "outputs": [],
   "source": [
    "basis_functions = reduced_problem.basis_functions\n",
    "plot_phase_space(reduced_problem, reduced_solution, basis_functions, 0.0) # Plot for unsteady problems"
   ]
  },
  {
   "cell_type": "code",
   "execution_count": null,
   "metadata": {},
   "outputs": [],
   "source": [
    "# Error and speed-up analysis\n",
    "\n",
    "N_test = ... # Set size of the test set\n",
    "\n",
    "reduction_method.initialize_testing_set(N_test) # Possible extra input: EIM, DEIM, SCM\n",
    "reduction_method.initialize_testing_set(N_test, sampling = ...) # Uncertainty quantification case\n",
    "reduction_method.error_analysis()\n",
    "reduction_method.error_analysis(filename=\"error_analysis\")\n",
    "reduction_method.error_analysis(filename=\"error_analysis\", with_respect_to = exact_problem) # Possible extra input: EIM, DEIM\n",
    "reduction_method.speedup_analysis(filename=\"speedup_analysis\")"
   ]
  },
  {
   "cell_type": "markdown",
   "metadata": {},
   "source": [
    "# RBniCS - Reduced Order Model x OCP\n",
    "\n",
    "The optimal control problem reads as follows: <center> $\\underset{y,u}{min} \\; J(y(\\boldsymbol{\\mu}), u(\\boldsymbol{\\mu});\\boldsymbol{\\mu})$ <center>\n",
    "\n",
    "subject to\n",
    "    \n",
    "$$\\begin{cases}\n",
    "\tG(y,u;\\boldsymbol{\\mu}) = 0 & \\text{in } \\Omega,\\\\\n",
    "\t\\text{B.C.} & \\text{on } \\partial \\Omega,\\\\\n",
    "\\end{cases}$$\n",
    "\n",
    "where the constraint is a parameter-dependent PDE in the domain $\\Omega$ with parameters $\\boldsymbol{\\mu}$, state $y(\\boldsymbol{\\mu})$ and control variable $u(\\boldsymbol{\\mu})$;\n",
    "    \n",
    "Let $h(\\boldsymbol{\\mu})$  the output of interest computed starting from $y(\\boldsymbol{\\mu})$.\n",
    "    \n",
    "Using the Lagrangian functional, the problem becomes: <center> find $(y,p,u) \\in \\mathbb{Y} \\times \\mathbb{Q} \\times \\mathbb{U}\\; : \\; \\nabla \\mathcal{L}(y,p,u)[(z,q,v)]=0 \\quad \\forall (z,q,v) \\in \\mathbb{Y} \\times \\mathbb{Q} \\times \\mathbb{U}$ </center>\n",
    "\n",
    "which gives:\n",
    "<center>\n",
    "    $\n",
    "    \\begin{cases}\n",
    "        \\mathcal{L}_{p} = f(q) + c(u,q) - a(y,q) \\\\\n",
    "        \\mathcal{L}_{y} = m(y,z) - g(y_d,z) - a^*(z,p) \\\\\n",
    "        \\mathcal{L}_{u} = n(u,v) + c^*(v,p)\n",
    "    \\end{cases}\n",
    "    $\n",
    "</center>\n",
    "\n",
    "where\n",
    "* $a(\\cdot,\\cdot; \\boldsymbol{\\mu}): \\mathbb{Y} \\times \\mathbb{Q} \\rightarrow \\mathbb{R}$ is the parametrized bilinear form defined on the state $\\times$ adjoint space;\n",
    "* $c(\\cdot,\\cdot; \\boldsymbol{\\mu}): \\mathbb{U} \\times \\mathbb{Q} \\rightarrow \\mathbb{R}$ is the parametrized bilinear form defined on the control $\\times$ adjoint space;\n",
    "* $f(\\cdot; \\boldsymbol{\\mu}): \\mathbb{Y} \\rightarrow \\mathbb{R}$ is the parametrized linear form defined on the state space;\n",
    "* $m(\\cdot,\\cdot; \\boldsymbol{\\mu}): \\mathbb{Z} \\times \\mathbb{Z} \\rightarrow \\mathbb{R}$ is the parametrized bilinear form defined on the state space;\n",
    "* $n(\\cdot,\\cdot; \\boldsymbol{\\mu}): \\mathbb{U} \\times \\mathbb{U} \\rightarrow \\mathbb{R}$ is the parametrized bilinear form defined on control space;\n",
    "* $g(\\cdot,\\cdot; \\boldsymbol{\\mu}): \\mathbb{Z} \\times \\mathbb{Y} \\rightarrow \\mathbb{R}$ is the parametrized bilinear form defined on state space;\n",
    "* the functional space $\\mathbb{Y}$ is the state space;\n",
    "* the functional space $\\mathbb{U}$ is the control space;\n",
    "* the functional space $\\mathbb{Q}$ is the adjoint space (often $\\mathbb{Q}=\\mathbb{Y}$)\n",
    "* the functional space $\\mathbb{Z} \\supset \\mathbb{Y}$\n"
   ]
  },
  {
   "cell_type": "code",
   "execution_count": null,
   "metadata": {},
   "outputs": [],
   "source": [
    "import rbnics.utils.config\n",
    "assert \"dolfin\" in rbnics.utils.config.config.get(\"backends\", \"required backends\")\n",
    "from rbnics import *"
   ]
  },
  {
   "cell_type": "code",
   "execution_count": null,
   "metadata": {},
   "outputs": [],
   "source": [
    "# Implement the numerical discretization of the problem in the following class \n",
    "# It is possible to define a new problem \"Type\" if not present yet\n",
    "\n",
    "@ExactParametrizedFunctions() # Decorator for exact treatment of non-affine terms or non-linear terms\n",
    "@EIM() # Decorator for Empirical Interpolation Method\n",
    "@DEIM() # Decorator for Discrete Empirical Interpolation Method\n",
    "# We can also apply different methods offline and online; for example:\n",
    "@ExactParametrizedFunctions(\"offline\")\n",
    "@DEIM(\"online\", basis_generation = \"Greedy\")\n",
    "\n",
    "@WeightedUncertaintyQuantification() # Decorator for uncertainty quantification\n",
    "\n",
    "@OnlineStabilization() # Decorator for advection dominated problems\n",
    "\n",
    "@SCM() # Decorator for Successive Constraint Method to estimate the stability factor for Greedy\n",
    "\n",
    "@PullBackFormsToReferenceDomain() # Decorators for parameter-dependent domain\n",
    "@ShapeParametrization(...) # e.g. ShapeParametrization((\"x[0]\", \"x[1]\"), # subdomain 1\n",
    "                           #                           (\"mu[0]*(x[0] - 1) + 1\", \"x[1]\")) # subdomain 2\n",
    "@AffineShapeParametrization(...) # Affine version of ShapeParametrization\n",
    "\n",
    "class MyProblem(Type): # \"Type\" can be one of the following:\n",
    "                       # EllipticOptimalControlProblem,\n",
    "                       # StokesOptimalControlProblem (see the tutorial for the formulation)\n",
    "                       # GeostrophicOptimalControlProblem (see the tutorial for the formulation)            \n",
    "                           \n",
    "    # Default initialization of members (call standard initialization + store FEniCS data structures for assembly)\n",
    "    @generate_function_space_for_stability_factor # Decorator to estimate stability factor for Greedy\n",
    "    def __init__(self, V, **kwargs):\n",
    "        # Call the standard initialization\n",
    "        Type.__init__(self, V, **kwargs) # Change \"Type\"\n",
    "        assert \"subdomains\" in kwargs\n",
    "        assert \"boundaries\" in kwargs\n",
    "        self.subdomains, self.boundaries = kwargs[\"subdomains\"], kwargs[\"boundaries\"]\n",
    "        yup = TrialFunction(V)\n",
    "        (self.y, self.u, self.p) = split(yup)\n",
    "        zvq = TestFunction(V)\n",
    "        (self.z, self.v, self.q) = split(zvq)\n",
    "        self.dx = Measure(\"dx\")(subdomain_data = self.subdomains)\n",
    "        self.ds = Measure(\"ds\")(subdomain_data = self.boundaries)\n",
    "        \n",
    "        # Set hyperparameters and options if needed\n",
    "        self.gamma = 1.0\n",
    "        self.fun1 = Expression(\"sin(2*pi*x[0])*sin(2*pi*x[1])\", element = self.V.ufl_element()) # Non-linear function\n",
    "        self.fun2 = ParametrizedExpression(self, \"exp(- 2 * pow(x[0] - mu[0], 2) - 2 * pow(x[1] - mu[1], 2))\",\n",
    "                                          mu = (0., 0.), element = V.ufl_element()) # Non-affine function: we cannot use self.mu here because it has not been initialized yet\n",
    "        self._eigen_solver_parameters.update({\"bounding_box_minimum\": {\"problem_type\": \"gen_hermitian\", \"spectral_transform\": \"shift-and-invert\",\n",
    "                                                                       \"spectral_shift\": 1.e-5, \"linear_solver\": \"mumps\"},\n",
    "                                              \"bounding_box_maximum\": {\"problem_type\": \"gen_hermitian\", \"spectral_transform\": \"shift-and-invert\",\n",
    "                                                                       \"spectral_shift\": 1.e5, \"linear_solver\": \"mumps\"},\n",
    "                                              \"stability_factor\": {\"problem_type\": \"gen_hermitian\", \"spectral_transform\": \"shift-and-invert\",\n",
    "                                                                   \"spectral_shift\": 1.e-5, \"linear_solver\": \"mumps\"}})\n",
    "        self._nonlinear_solver_parameters.update({\"linear_solver\": \"mumps\", \"maximum_iterations\": 20, \"report\": True, \"line_search\": \"wolfe\"})\n",
    "        self._time_stepping_parameters.update({\"report\": True,\"snes_solver\": {\"linear_solver\": \"mumps\", \"maximum_iterations\": 20, \"report\": True}})\n",
    "        \n",
    "    # Return custom problem name\n",
    "    def name(self):\n",
    "        return \"MyProblem\"\n",
    "\n",
    "    # Return the stability factor for Greedy\n",
    "    def get_stability_factor_lower_bound(self):\n",
    "        return min(self.compute_theta(\"a\"))\n",
    "    \n",
    "    # Return theta multiplicative terms of the affine expansion of the problem\n",
    "    @compute_theta_for_stability_factor # Decorator to estimate the stability factor for Greedy\n",
    "    @compute_theta_for_derivatives # Decorator for non-linear problems\n",
    "    @compute_theta_for_supremizers # Decorator for supremizer operator to ensure inf-sup condition\n",
    "    def compute_theta(self, term):\n",
    "        mu = self.mu # Parameters mu accessed in this way, then use mu[i] to access the i-th parameter\n",
    "        if term in (\"a\", \"a*\"):\n",
    "            theta_a0 = ... # Fill and add the theta_ai terms\n",
    "            ...\n",
    "            return (theta_a0, ...)\n",
    "        elif term in (\"c\", \"c*\"): \n",
    "            theta_c0 = ... # Fill and add the theta_ci terms\n",
    "            ...\n",
    "            return (theta_c0, ...)\n",
    "        elif term == \"m\":\n",
    "            theta_m0 = ... # Fill and add the theta_mi terms\n",
    "            ...\n",
    "            return (theta_m0, ...)\n",
    "        elif term == \"n\":\n",
    "            theta_n0 = ... # Fill and add the theta_ni terms\n",
    "            ...\n",
    "            return (theta_n0, ...)\n",
    "        elif term == \"f\":\n",
    "            theta_f0 = ... # Fill and add the theta_fi terms\n",
    "            ...\n",
    "            return (theta_f0, ...)\n",
    "        elif term == \"g\":\n",
    "            theta_g0 = ... # Fill and add the theta_gi terms\n",
    "            ...\n",
    "            return (theta_g0, ...)\n",
    "        elif term == \"h\": \n",
    "            theta_h0 = ... # Fill and add the theta_hi terms\n",
    "            ...\n",
    "            return (theta_h0, ...)\n",
    "        elif term == \"dirichlet_bc_y\":\n",
    "            theta_bc0 = ... # Fill and add the theta_bci terms\n",
    "            ...\n",
    "            return (theta_bc0, ...)\n",
    "        else:\n",
    "            raise ValueError(\"Invalid term for compute_theta().\")\n",
    "    # N.B. If only theta_a0 is present, return (theta_a0,) instead of returning (theta_a0). The same for the other cases.\n",
    "    # N.B. If the state is a vector (e.g. y = [u,p]), then consider 'dirichlet_bc_u' and 'dirichlet_bc_p'           \n",
    "            \n",
    "    # Return forms resulting from the discretization of the affine expansion of the problem operators.\n",
    "    @assemble_operator_for_stability_factor # Decorator to estimate the stability factor for Greedy\n",
    "    @assemble_operator_for_derivatives # Decorator for non-linear problems\n",
    "    @assemble_operator_for_supremizers # Decorator for supremizer operator to ensure inf-sup condition\n",
    "    def assemble_operator(self, term):\n",
    "        dx = self.dx\n",
    "        ds = self.ds\n",
    "        y = self.y\n",
    "        z = self.z\n",
    "        p = self.p\n",
    "        q = self.q\n",
    "        u = self.u\n",
    "        v = self.v        \n",
    "        if term == \"a\":     \n",
    "            a0 = ... # Fill and add the ai terms; e.g. a0 = inner(grad(y), grad(q)) * dx\n",
    "            ...\n",
    "            return (a0, ...)\n",
    "        elif term == \"a*\":\n",
    "            as0 = ... # Fill and add the asi terms; e.g. as0 = inner(grad(z), grad(p)) * dx\n",
    "            ...\n",
    "            return (as0, ...)\n",
    "        elif term == \"c\":\n",
    "            c0 = ... # Fill and add the ci terms; e.g. c0 = u * q * dx\n",
    "            ...\n",
    "            return (c0, ...)\n",
    "        elif term == \"c*\":\n",
    "            cs0 = ... # Fill and add the csi terms; e.g. cs0 = v * p * dx\n",
    "            ...\n",
    "            return (cs0, ...)\n",
    "        elif term == \"m\":\n",
    "            m0 = ... # Fill and add the mi terms; e.g. m0 = y * z * dx\n",
    "            ...\n",
    "            return (m0, ...)\n",
    "        elif term == \"n\":\n",
    "            n0 = ... # Fill and add the ni terms; e.g. n0 = u * v * dx\n",
    "            ...\n",
    "            return (n0, ...)\n",
    "        elif term == \"f\":\n",
    "            f0 = ... # Fill and add the fi terms; e.g. f0 = Constant(0.0) * q * dx\n",
    "            ...\n",
    "            return (f0, ...)\n",
    "        elif term == \"g\":\n",
    "            g0 = ... # Fill and add the gi terms; e.g. g0 = y_d * z * dx(1)\n",
    "            ...\n",
    "            return (g0, ...)\n",
    "        elif term == \"h\":\n",
    "            h0 = ... # Fill and add the hi terms;\n",
    "            ...\n",
    "            return (h0, ...)\n",
    "         elif term == \"dirichlet_bc_y\":\n",
    "            bc0 = ... # Fill and add the bci terms; e.g. bc0 = [DirichletBC(self.V.sub(0), Constant(1.0), self.boundaries, i) for i in range(1, 9)]\n",
    "            ...\n",
    "            return (bc0, ...)\n",
    "        elif term == \"dirichlet_bc_p\":\n",
    "            bc0 = ... #Fill and add the bci terms; e.g. bc0 = [DirichletBC(self.V.sub(2), Constant(0.0), self.boundaries, i) for i in range(1, 9)]\n",
    "            ...            \n",
    "            return (bc0, ...)\n",
    "        elif term == \"inner_product_y\":\n",
    "            x0 = ... # Fill and add the xi terms; e.g. x0 = inner(grad(y), grad(z)) * dx\n",
    "            return (x0,)\n",
    "        elif term == \"inner_product_u\":\n",
    "            x0 = ... # Fill and add the xi terms; e.g. x0 = u * v * dx\n",
    "            return (x0,)\n",
    "        elif term == \"inner_product_p\":\n",
    "            x0 = ... #Fill and add the xi terms; e.g. x0 = inner(grad(p), grad(q)) * dx\n",
    "            return (x0,)\n",
    "        else:\n",
    "            raise ValueError(\"Invalid term for assemble_operator().\")\n",
    "        # N.B. If only a0 is present, return (a0,) instead of returning (a0). The same for the other cases.\n",
    "\n",
    "    # Auxiliary function useful inside the class\n",
    "    def aux(self, ...):\n",
    "        ...\n",
    "        return ..."
   ]
  },
  {
   "cell_type": "code",
   "execution_count": null,
   "metadata": {},
   "outputs": [],
   "source": [
    "# Define or import the mesh, the subdomains and the boundaries"
   ]
  },
  {
   "cell_type": "code",
   "execution_count": null,
   "metadata": {},
   "outputs": [],
   "source": [
    "# Define the functional space V for state, control and adjoint\n",
    "scalar_element = FiniteElement(\"Lagrange\", mesh.ufl_cell(), 1)\n",
    "element = MixedElement(scalar_element, scalar_element, scalar_element)\n",
    "V = FunctionSpace(mesh, element, components=[\"y\", \"u\", \"p\"])"
   ]
  },
  {
   "cell_type": "code",
   "execution_count": null,
   "metadata": {},
   "outputs": [],
   "source": [
    "# Define the problem\n",
    "\n",
    "problem = MyProblem(V, subdomains = subdomains, boundaries = boundaries)\n",
    "mu_range = [(,),...] # Set the range for the param; e.g. mu_range = [(0.1, 10.0), (-1.0, 1.0)]\n",
    "problem.set_mu_range(mu_range)\n",
    "\n",
    "# Parameter for unsteady problems\n",
    "dt = ...\n",
    "T = ...\n",
    "problem.set_time_step_size(dt)\n",
    "problem.set_final_time(T)"
   ]
  },
  {
   "cell_type": "markdown",
   "metadata": {},
   "source": [
    "## Reduced basis methods"
   ]
  },
  {
   "cell_type": "code",
   "execution_count": null,
   "metadata": {},
   "outputs": [],
   "source": [
    "# Choose a Reduce basis method\n",
    "\n",
    "reduction_method = ReducedBasis(problem) # Greedy algorithm\n",
    "reduction_method = PODGalerkin(problem) # POD-Galerkin"
   ]
  },
  {
   "cell_type": "code",
   "execution_count": null,
   "metadata": {},
   "outputs": [],
   "source": [
    "# Set parameters for the Reduce basis method\n",
    "\n",
    "Nmax = ...  # Set max dimension of the reduced space\n",
    "toll = ...  # Set tolerance\n",
    "\n",
    "reduction_method.set_Nmax(Nmax) # Possible extra input: POD_Greedy, nested_POD, EIM, DEIM, SCM\n",
    "reduction_method.set_tolerance(toll) # Possible extra input: POD_Greedy, nested_POD, EIM, DEIM, SCM"
   ]
  },
  {
   "cell_type": "code",
   "execution_count": null,
   "metadata": {},
   "outputs": [],
   "source": [
    "# Offline phase\n",
    "\n",
    "N_train = ... # Set size of the training set\n",
    "reduction_method.initialize_training_set(N_train) # Possible extra input: EIM, DEIM, SCM\n",
    "reduction_method.initialize_training_set(N_train, sampling = ..., weight = ...)\n",
    "# Examples: sampling = LogUniformDistribution()\n",
    "#           sampling = LinearlyDependentUniformDistribution()\n",
    "#           sampling = BetaDistribution(beta_a, beta_b), weight = BetaWeight(beta_a, beta_b) where beta_a and beta_b are vectors of length nparam (nparam=len(mu))\n",
    "reduced_problem = reduction_method.offline()"
   ]
  },
  {
   "cell_type": "code",
   "execution_count": null,
   "metadata": {},
   "outputs": [],
   "source": [
    "# Online phase\n",
    "\n",
    "online_mu = ... # Choose the parameters to use online; e.g. online_mu = (3.5, 0.02, 11.0)\n",
    "\n",
    "reduced_problem.set_mu(online_mu)\n",
    "reduced_solution = reduced_problem.solve() # Possible extra input: EIM, DEIM, online_stabilization = True/False"
   ]
  },
  {
   "cell_type": "code",
   "execution_count": null,
   "metadata": {},
   "outputs": [],
   "source": [
    "reduced_problem.export_solution(filename = \"online_solution\")\n",
    "reduced_problem.export_error(filename = \"online_error\")"
   ]
  },
  {
   "cell_type": "code",
   "execution_count": null,
   "metadata": {},
   "outputs": [],
   "source": [
    "reduced_problem.compute_output()"
   ]
  },
  {
   "cell_type": "code",
   "execution_count": null,
   "metadata": {},
   "outputs": [],
   "source": [
    "plot(reduced_solution, reduced_problem = reduced_problem, component = \"y\")\n",
    "plot(reduced_solution, reduced_problem = reduced_problem, component = \"u\")\n",
    "plot(reduced_solution, reduced_problem = reduced_problem, component = \"p\")\n",
    "plot(reduced_solution, reduced_problem = reduced_problem, component = \"...\", every = 5, interval = 500) # Plot for unsteady problems"
   ]
  },
  {
   "cell_type": "code",
   "execution_count": null,
   "metadata": {},
   "outputs": [],
   "source": [
    "basis_functions = reduced_problem.basis_functions\n",
    "plot_phase_space(reduced_problem, reduced_solution, basis_functions, 0.0) # Plot for unsteady problems"
   ]
  },
  {
   "cell_type": "code",
   "execution_count": null,
   "metadata": {},
   "outputs": [],
   "source": [
    "# Error and speed-up analysis\n",
    "\n",
    "N_test = ... # Set size of the test set\n",
    "\n",
    "reduction_method.initialize_testing_set(N_test) # Possible extra input: EIM, DEIM, SCM\n",
    "reduction_method.initialize_testing_set(N_test, sampling = ...) # Uncertainty quantification case\n",
    "reduction_method.error_analysis()\n",
    "reduction_method.error_analysis(filename=\"error_analysis\")\n",
    "reduction_method.error_analysis(filename=\"error_analysis\", with_respect_to = exact_problem) # Possible extra input: EIM, DEIM\n",
    "reduction_method.speedup_analysis(filename=\"speedup_analysis\")"
   ]
  }
 ],
 "metadata": {
  "colab": {
   "authorship_tag": "ABX9TyMmvdntUOu+/JKgVWEA7w8F",
   "collapsed_sections": [
    "UG1dIFs-T2R5"
   ],
   "provenance": []
  },
  "kernelspec": {
   "display_name": "Python 3 (ipykernel)",
   "language": "python",
   "name": "python3"
  },
  "language_info": {
   "codemirror_mode": {
    "name": "ipython",
    "version": 3
   },
   "file_extension": ".py",
   "mimetype": "text/x-python",
   "name": "python",
   "nbconvert_exporter": "python",
   "pygments_lexer": "ipython3",
   "version": "3.12.2"
  }
 },
 "nbformat": 4,
 "nbformat_minor": 4
}
