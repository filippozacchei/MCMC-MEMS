{
  "cells": [
    {
      "cell_type": "markdown",
      "metadata": {
        "colab_type": "text",
        "id": "view-in-github"
      },
      "source": [
        "<a href=\"https://colab.research.google.com/github/ContiPaolo/Multifidelity-Tutorial/blob/main/MF_POD_Burger's1D.ipynb\" target=\"_parent\"><img src=\"https://colab.research.google.com/assets/colab-badge.svg\" alt=\"Open In Colab\"/></a>"
      ]
    },
    {
      "cell_type": "markdown",
      "metadata": {},
      "source": [
        "# Creation of the Multilevel dataset"
      ]
    },
    {
      "cell_type": "markdown",
      "metadata": {},
      "source": [
        "Here we compute for each sample the coarse FEM solution that will then be given as imput to the NN of the fine level"
      ]
    },
    {
      "cell_type": "markdown",
      "metadata": {
        "id": "WP3luMxfaY7N"
      },
      "source": [
        "#### Import libraries"
      ]
    },
    {
      "cell_type": "code",
      "execution_count": 1,
      "metadata": {},
      "outputs": [
        {
          "name": "stderr",
          "output_type": "stream",
          "text": [
            "2024-07-05 12:11:10.255599: I tensorflow/core/platform/cpu_feature_guard.cc:210] This TensorFlow binary is optimized to use available CPU instructions in performance-critical operations.\n",
            "To enable the following instructions: SSE4.1 SSE4.2, in other operations, rebuild TensorFlow with the appropriate compiler flags.\n"
          ]
        }
      ],
      "source": [
        "import os\n",
        "os.environ['OPENBLAS_NUM_THREADS'] = '1'\n",
        "os.environ['KERAS_BACKEND'] = 'tensorflow'\n",
        "\n",
        "import time\n",
        "\n",
        "import numpy as np\n",
        "import matplotlib.pyplot as plt\n",
        "plt.style.use(['dark_background'])\n",
        "\n",
        "from itertools import product\n",
        "\n",
        "import sys\n",
        "sys.path.append('./solver')\n",
        "from model import *\n",
        "from MLP import MLP\n",
        "np.random.seed(123)"
      ]
    },
    {
      "cell_type": "code",
      "execution_count": 2,
      "metadata": {},
      "outputs": [],
      "source": [
        "# Set the resolution of the model and the random field parameters.\n",
        "resolution = (50, 50)\n",
        "field_mean = 1\n",
        "field_stdev = 1\n",
        "\n",
        "lamb_cov = 0.1\n",
        "mkl_fine = 64\n",
        "\n",
        "# Set up the model(s)\n",
        "model_fine = Model(resolution, field_mean, field_stdev, mkl_fine, lamb_cov)"
      ]
    },
    {
      "cell_type": "code",
      "execution_count": 3,
      "metadata": {},
      "outputs": [],
      "source": [
        "# Define the sampling points.\n",
        "x_data = y_data = np.array([0.1, 0.3, 0.5, 0.7, 0.9])\n",
        "\n",
        "datapoints = np.array(list(product(x_data, y_data)))"
      ]
    },
    {
      "cell_type": "code",
      "execution_count": 4,
      "metadata": {},
      "outputs": [],
      "source": [
        "# Set up an MLP trained on n_samples.\n",
        "n_samples = 64000\n",
        "mlp = MLP(model_fine, datapoints, n_samples)\n",
        "mlp.compute_model_response()"
      ]
    },
    {
      "cell_type": "code",
      "execution_count": 11,
      "metadata": {},
      "outputs": [
        {
          "name": "stdout",
          "output_type": "stream",
          "text": [
            "(400, 64)\n",
            "(400, 25)\n",
            "(3600, 64)\n",
            "(3600, 25)\n",
            "(25,)\n",
            "(25,)\n",
            "(25,)\n"
          ]
        }
      ],
      "source": [
        "print(mlp.X_test.shape)\n",
        "print(mlp.y_test.shape)\n",
        "print(mlp.X_train.shape)\n",
        "print(mlp.y_train.shape)\n",
        "print(datapoints[:,0].shape)\n",
        "print(datapoints[:,1].shape)\n",
        "print(mlp.y_test[-1,:].shape)"
      ]
    },
    {
      "cell_type": "code",
      "execution_count": null,
      "metadata": {},
      "outputs": [],
      "source": [
        "np.savetxt(\"./data/X_test.csv\",mlp.X_test , delimiter = \",\")\n",
        "np.savetxt(\"./data/y_test.csv\",mlp.y_test , delimiter = \",\")\n",
        "np.savetxt(\"./data/X_train.csv\",mlp.X_train , delimiter = \",\")\n",
        "np.savetxt(\"./data/y_train.csv\",mlp.y_train , delimiter = \",\")"
      ]
    }
  ],
  "metadata": {
    "colab": {
      "authorship_tag": "ABX9TyOLKvMRTaykHpCaydJMPm9E",
      "include_colab_link": true,
      "provenance": []
    },
    "kernelspec": {
      "display_name": "Python 3",
      "name": "python3"
    },
    "language_info": {
      "codemirror_mode": {
        "name": "ipython",
        "version": 3
      },
      "file_extension": ".py",
      "mimetype": "text/x-python",
      "name": "python",
      "nbconvert_exporter": "python",
      "pygments_lexer": "ipython3",
      "version": "3.11.9"
    }
  },
  "nbformat": 4,
  "nbformat_minor": 0
}
