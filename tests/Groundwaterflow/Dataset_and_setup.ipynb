{
  "cells": [
    {
      "cell_type": "markdown",
      "metadata": {
        "colab_type": "text",
        "id": "view-in-github"
      },
      "source": [
        "<a href=\"https://colab.research.google.com/github/ContiPaolo/Multifidelity-Tutorial/blob/main/MF_POD_Burger's1D.ipynb\" target=\"_parent\"><img src=\"https://colab.research.google.com/assets/colab-badge.svg\" alt=\"Open In Colab\"/></a>"
      ]
    },
    {
      "cell_type": "markdown",
      "metadata": {},
      "source": [
        "# Creation of the Multilevel dataset"
      ]
    },
    {
      "cell_type": "markdown",
      "metadata": {},
      "source": [
        "This notebook is made to ensure consistency among the users of this library.\n",
        "\n",
        "Before computing the solution for the n_samples let us ensure that the libraries and the solver are consistent to those used to develop this library "
      ]
    },
    {
      "cell_type": "markdown",
      "metadata": {},
      "source": [
        "### Check that the libraries in the environment are the same as this:"
      ]
    },
    {
      "cell_type": "code",
      "execution_count": 1,
      "metadata": {},
      "outputs": [
        {
          "name": "stdout",
          "output_type": "stream",
          "text": [
            "# packages in environment at /Users/lucacaroselli/miniconda3/envs/fenics:\n",
            "#\n",
            "# Name                    Version                   Build  Channel\n",
            "absl-py                   2.1.0              pyhd8ed1ab_0    conda-forge\n",
            "anyio                     4.3.0              pyhd8ed1ab_0    conda-forge\n",
            "appnope                   0.1.4              pyhd8ed1ab_0    conda-forge\n",
            "argon2-cffi               23.1.0             pyhd8ed1ab_0    conda-forge\n",
            "argon2-cffi-bindings      21.2.0          py311h2725bcf_4    conda-forge\n",
            "arrow                     1.3.0              pyhd8ed1ab_0    conda-forge\n",
            "arviz                     0.18.0                   pypi_0    pypi\n",
            "asttokens                 2.4.1              pyhd8ed1ab_0    conda-forge\n",
            "astunparse                1.6.3              pyhd8ed1ab_0    conda-forge\n",
            "async-lru                 2.0.4              pyhd8ed1ab_0    conda-forge\n",
            "attrs                     23.2.0             pyh71513ae_0    conda-forge\n",
            "babel                     2.14.0             pyhd8ed1ab_0    conda-forge\n",
            "beautifulsoup4            4.12.3             pyha770c72_0    conda-forge\n",
            "bleach                    6.1.0              pyhd8ed1ab_0    conda-forge\n",
            "brotli                    1.1.0                h0dc2134_1    conda-forge\n",
            "brotli-bin                1.1.0                h0dc2134_1    conda-forge\n",
            "brotli-python             1.1.0           py311hdf8f085_1    conda-forge\n",
            "bzip2                     1.0.8                h10d778d_5    conda-forge\n",
            "c-ares                    1.28.1               h10d778d_0    conda-forge\n",
            "ca-certificates           2024.2.2             h8857fd0_0    conda-forge\n",
            "cached-property           1.5.2                hd8ed1ab_1    conda-forge\n",
            "cached_property           1.5.2              pyha770c72_1    conda-forge\n",
            "cctools_osx-64            986                  ha1c5b94_0    conda-forge\n",
            "certifi                   2024.2.2           pyhd8ed1ab_0    conda-forge\n",
            "cffi                      1.16.0          py311hc0b63fd_0    conda-forge\n",
            "charset-normalizer        3.3.2              pyhd8ed1ab_0    conda-forge\n",
            "clang                     16.0.6               hd4457cd_7    conda-forge\n",
            "clang-16                  16.0.6          default_h4c8afb6_7    conda-forge\n",
            "clang_impl_osx-64         16.0.6              h8787910_15    conda-forge\n",
            "clang_osx-64              16.0.6              hb91bd55_15    conda-forge\n",
            "clangxx                   16.0.6          default_ha3b9224_7    conda-forge\n",
            "clangxx_impl_osx-64       16.0.6              h6d92fbe_15    conda-forge\n",
            "clangxx_osx-64            16.0.6              hb91bd55_15    conda-forge\n",
            "cmake                     3.29.3               h1304840_0    conda-forge\n",
            "comm                      0.2.2              pyhd8ed1ab_0    conda-forge\n",
            "compiler-rt               16.0.6               ha38d28d_2    conda-forge\n",
            "compiler-rt_osx-64        16.0.6               ha38d28d_2    conda-forge\n",
            "contourpy                 1.2.1           py311h1d816ee_0    conda-forge\n",
            "cycler                    0.12.1             pyhd8ed1ab_0    conda-forge\n",
            "debugpy                   1.8.1           py311hdd0406b_0    conda-forge\n",
            "decorator                 5.1.1              pyhd8ed1ab_0    conda-forge\n",
            "defusedxml                0.7.1              pyhd8ed1ab_0    conda-forge\n",
            "dm-tree                   0.1.8                    pypi_0    pypi\n",
            "eigen                     3.4.0                h1c7c39f_0    conda-forge\n",
            "entrypoints               0.4                pyhd8ed1ab_0    conda-forge\n",
            "exceptiongroup            1.2.0              pyhd8ed1ab_2    conda-forge\n",
            "executing                 2.0.1              pyhd8ed1ab_0    conda-forge\n",
            "fenics                    2019.1.0        py311h41ccbcc_43    conda-forge\n",
            "fenics-dijitso            2019.1.0          pyhd8ed1ab_39    conda-forge\n",
            "fenics-dolfin             2019.1.0        py311h66da102_43    conda-forge\n",
            "fenics-ffc                2019.1.0          pyhd8ed1ab_39    conda-forge\n",
            "fenics-fiat               2019.1.0          pyhd8ed1ab_39    conda-forge\n",
            "fenics-libdolfin          2019.1.0            hba30375_43    conda-forge\n",
            "fenics-ufl                2019.1.0        py311h6eed73b_38    conda-forge\n",
            "fftw                      3.3.10          mpi_openmpi_h7f3849b_8    conda-forge\n",
            "flatbuffers               24.3.25              h73e2aa4_0    conda-forge\n",
            "fonttools                 4.52.4          py311h72ae277_0    conda-forge\n",
            "fqdn                      1.5.1              pyhd8ed1ab_0    conda-forge\n",
            "freetype                  2.12.1               h60636b9_2    conda-forge\n",
            "gast                      0.5.4              pyhd8ed1ab_0    conda-forge\n",
            "giflib                    5.2.2                h10d778d_0    conda-forge\n",
            "gmp                       6.3.0                h73e2aa4_1    conda-forge\n",
            "gmpy2                     2.1.5           py311hab17429_1    conda-forge\n",
            "google-pasta              0.2.0              pyh8c360ce_0    conda-forge\n",
            "grpcio                    1.62.2          py311h78ff076_0    conda-forge\n",
            "h11                       0.14.0             pyhd8ed1ab_0    conda-forge\n",
            "h2                        4.1.0              pyhd8ed1ab_0    conda-forge\n",
            "h5netcdf                  1.3.0                    pypi_0    pypi\n",
            "h5py                      3.11.0          nompi_py311h4faab6c_101    conda-forge\n",
            "hdf5                      1.14.3          mpi_openmpi_hdac8f8d_2    conda-forge\n",
            "hpack                     4.0.0              pyh9f0ad1d_0    conda-forge\n",
            "httpcore                  1.0.5              pyhd8ed1ab_0    conda-forge\n",
            "httpx                     0.27.0             pyhd8ed1ab_0    conda-forge\n",
            "hyperframe                6.0.1              pyhd8ed1ab_0    conda-forge\n",
            "hypre                     2.28.0          mpi_openmpi_h90d1d20_0    conda-forge\n",
            "icu                       73.2                 hf5e326d_0    conda-forge\n",
            "idna                      3.7                pyhd8ed1ab_0    conda-forge\n",
            "importlib-metadata        7.1.0              pyha770c72_0    conda-forge\n",
            "importlib_metadata        7.1.0                hd8ed1ab_0    conda-forge\n",
            "importlib_resources       6.4.0              pyhd8ed1ab_0    conda-forge\n",
            "ipykernel                 6.29.3             pyh3cd1d5f_0    conda-forge\n",
            "ipython                   8.24.0             pyh707e725_0    conda-forge\n",
            "isoduration               20.11.0            pyhd8ed1ab_0    conda-forge\n",
            "jedi                      0.19.1             pyhd8ed1ab_0    conda-forge\n",
            "jinja2                    3.1.4              pyhd8ed1ab_0    conda-forge\n",
            "joblib                    1.4.2                    pypi_0    pypi\n",
            "json5                     0.9.25             pyhd8ed1ab_0    conda-forge\n",
            "jsonpointer               2.4             py311h6eed73b_3    conda-forge\n",
            "jsonschema                4.22.0             pyhd8ed1ab_0    conda-forge\n",
            "jsonschema-specifications 2023.12.1          pyhd8ed1ab_0    conda-forge\n",
            "jsonschema-with-format-nongpl 4.22.0             pyhd8ed1ab_0    conda-forge\n",
            "jupyter-lsp               2.2.5              pyhd8ed1ab_0    conda-forge\n",
            "jupyter_client            8.6.2              pyhd8ed1ab_0    conda-forge\n",
            "jupyter_core              5.7.2           py311h6eed73b_0    conda-forge\n",
            "jupyter_events            0.10.0             pyhd8ed1ab_0    conda-forge\n",
            "jupyter_server            2.14.0             pyhd8ed1ab_0    conda-forge\n",
            "jupyter_server_terminals  0.5.3              pyhd8ed1ab_0    conda-forge\n",
            "jupyterlab                4.2.1              pyhd8ed1ab_0    conda-forge\n",
            "jupyterlab_pygments       0.3.0              pyhd8ed1ab_1    conda-forge\n",
            "jupyterlab_server         2.27.2             pyhd8ed1ab_0    conda-forge\n",
            "jupyterthemes             0.20.0                   pypi_0    pypi\n",
            "keras                     3.3.3              pyhd8ed1ab_0    conda-forge\n",
            "kiwisolver                1.4.5           py311h5fe6e05_1    conda-forge\n",
            "krb5                      1.21.2               hb884880_0    conda-forge\n",
            "lcms2                     2.16                 ha2f27b4_0    conda-forge\n",
            "ld64_osx-64               711                  ha20a434_0    conda-forge\n",
            "lerc                      4.0.0                hb486fe8_0    conda-forge\n",
            "lesscpy                   0.15.1                   pypi_0    pypi\n",
            "libabseil                 20240116.2      cxx17_hc1bcbd7_0    conda-forge\n",
            "libaec                    1.1.3                h73e2aa4_0    conda-forge\n",
            "libblas                   3.9.0           22_osx64_openblas    conda-forge\n",
            "libboost                  1.84.0               h739af76_3    conda-forge\n",
            "libboost-headers          1.85.0               h694c41f_1    conda-forge\n",
            "libbrotlicommon           1.1.0                h0dc2134_1    conda-forge\n",
            "libbrotlidec              1.1.0                h0dc2134_1    conda-forge\n",
            "libbrotlienc              1.1.0                h0dc2134_1    conda-forge\n",
            "libcblas                  3.9.0           22_osx64_openblas    conda-forge\n",
            "libclang-cpp16            16.0.6          default_h4c8afb6_7    conda-forge\n",
            "libcurl                   8.8.0                hf9fcc65_0    conda-forge\n",
            "libcxx                    17.0.6               h88467a6_0    conda-forge\n",
            "libdeflate                1.20                 h49d49c5_0    conda-forge\n",
            "libedit                   3.1.20191231         h0678c8f_2    conda-forge\n",
            "libev                     4.33                 h10d778d_2    conda-forge\n",
            "libexpat                  2.6.2                h73e2aa4_0    conda-forge\n",
            "libffi                    3.4.2                h0d85af4_5    conda-forge\n",
            "libgfortran               5.0.0           13_2_0_h97931a8_3    conda-forge\n",
            "libgfortran5              13.2.0               h2873a65_3    conda-forge\n",
            "libgrpc                   1.62.2               h384b2fc_0    conda-forge\n",
            "libhwloc                  2.10.0          default_h456cccd_1001    conda-forge\n",
            "libiconv                  1.17                 hd75f5a5_2    conda-forge\n",
            "libjpeg-turbo             3.0.0                h0dc2134_1    conda-forge\n",
            "liblapack                 3.9.0           22_osx64_openblas    conda-forge\n",
            "libllvm16                 16.0.6               hbedff68_3    conda-forge\n",
            "libnghttp2                1.58.0               h64cf6d3_1    conda-forge\n",
            "libopenblas               0.3.27          openmp_hfef2a42_0    conda-forge\n",
            "libpng                    1.6.43               h92b6c6a_0    conda-forge\n",
            "libprotobuf               4.25.3               h4e4d658_0    conda-forge\n",
            "libptscotch               7.0.4                he56110d_2    conda-forge\n",
            "libre2-11                 2023.09.01           h81f5012_2    conda-forge\n",
            "libscotch                 7.0.4                h53c70d1_2    conda-forge\n",
            "libsodium                 1.0.18               hbcb3906_1    conda-forge\n",
            "libsqlite                 3.45.3               h92b6c6a_0    conda-forge\n",
            "libssh2                   1.11.0               hd019ec5_0    conda-forge\n",
            "libtiff                   4.6.0                h129831d_3    conda-forge\n",
            "libuv                     1.48.0               h67532ce_0    conda-forge\n",
            "libwebp-base              1.4.0                h10d778d_0    conda-forge\n",
            "libxcb                    1.15                 hb7f2c08_0    conda-forge\n",
            "libxml2                   2.12.7               h3e169fe_0    conda-forge\n",
            "libzlib                   1.2.13               h87427d6_6    conda-forge\n",
            "llvm-openmp               18.1.6               h15ab845_0    conda-forge\n",
            "llvm-tools                16.0.6               hbedff68_3    conda-forge\n",
            "markdown                  3.6                pyhd8ed1ab_0    conda-forge\n",
            "markdown-it-py            3.0.0              pyhd8ed1ab_0    conda-forge\n",
            "markupsafe                2.1.5           py311he705e18_0    conda-forge\n",
            "matplotlib                3.8.4           py311h6eed73b_2    conda-forge\n",
            "matplotlib-base           3.8.4           py311hff79762_2    conda-forge\n",
            "matplotlib-inline         0.1.7              pyhd8ed1ab_0    conda-forge\n",
            "mdurl                     0.1.2              pyhd8ed1ab_0    conda-forge\n",
            "metis                     5.1.0             he965462_1007    conda-forge\n",
            "mistune                   3.0.2              pyhd8ed1ab_0    conda-forge\n",
            "ml_dtypes                 0.3.2           py311h8f6166a_0    conda-forge\n",
            "mpc                       1.3.1                h81bd1dd_0    conda-forge\n",
            "mpfr                      4.2.1                h4f6b447_1    conda-forge\n",
            "mpi                       1.0                     openmpi    conda-forge\n",
            "mpi4py                    3.1.6           py311hf2bceb4_0    conda-forge\n",
            "mpmath                    1.3.0              pyhd8ed1ab_0    conda-forge\n",
            "mumps-include             5.6.2                h694c41f_4    conda-forge\n",
            "mumps-mpi                 5.6.2                h3697919_4    conda-forge\n",
            "munkres                   1.1.4              pyh9f0ad1d_0    conda-forge\n",
            "namex                     0.0.8              pyhd8ed1ab_0    conda-forge\n",
            "nbclient                  0.10.0             pyhd8ed1ab_0    conda-forge\n",
            "nbconvert-core            7.16.4             pyhd8ed1ab_0    conda-forge\n",
            "nbformat                  5.10.4             pyhd8ed1ab_0    conda-forge\n",
            "ncurses                   6.5                  h5846eda_0    conda-forge\n",
            "nest-asyncio              1.6.0              pyhd8ed1ab_0    conda-forge\n",
            "notebook                  7.2.0                    pypi_0    pypi\n",
            "notebook-shim             0.2.4              pyhd8ed1ab_0    conda-forge\n",
            "numpy                     1.26.4          py311hc43a94b_0    conda-forge\n",
            "openjpeg                  2.5.2                h7310d3a_0    conda-forge\n",
            "openmpi                   4.1.6              h7406208_101    conda-forge\n",
            "openssl                   3.3.0                h87427d6_3    conda-forge\n",
            "opt_einsum                3.3.0              pyhc1e730c_2    conda-forge\n",
            "optree                    0.11.0          py311h9321574_0    conda-forge\n",
            "overrides                 7.7.0              pyhd8ed1ab_0    conda-forge\n",
            "packaging                 24.0               pyhd8ed1ab_0    conda-forge\n",
            "pandas                    2.2.2                    pypi_0    pypi\n",
            "pandocfilters             1.5.0              pyhd8ed1ab_0    conda-forge\n",
            "parmetis                  4.0.3             h7eda126_1005    conda-forge\n",
            "parso                     0.8.4              pyhd8ed1ab_0    conda-forge\n",
            "petsc                     3.20.6          real_h83522fe_100    conda-forge\n",
            "petsc4py                  3.20.5          real_h7b2fdaf_100    conda-forge\n",
            "pexpect                   4.9.0              pyhd8ed1ab_0    conda-forge\n",
            "pickleshare               0.7.5                   py_1003    conda-forge\n",
            "pillow                    10.3.0          py311h1b85569_0    conda-forge\n",
            "pip                       24.0               pyhd8ed1ab_0    conda-forge\n",
            "pkg-config                0.29.2            ha3d46e9_1008    conda-forge\n",
            "pkgconfig                 1.5.5              pyhd8ed1ab_4    conda-forge\n",
            "pkgutil-resolve-name      1.3.10             pyhd8ed1ab_1    conda-forge\n",
            "platformdirs              4.2.2              pyhd8ed1ab_0    conda-forge\n",
            "ply                       3.11                     pypi_0    pypi\n",
            "prometheus_client         0.20.0             pyhd8ed1ab_0    conda-forge\n",
            "prompt-toolkit            3.0.42             pyha770c72_0    conda-forge\n",
            "protobuf                  4.25.3          py311h01b5fa2_0    conda-forge\n",
            "psutil                    5.9.8           py311he705e18_0    conda-forge\n",
            "pthread-stubs             0.4               hc929b4f_1001    conda-forge\n",
            "ptscotch                  7.0.4                h52a132a_2    conda-forge\n",
            "ptyprocess                0.7.0              pyhd3deb0d_0    conda-forge\n",
            "pure_eval                 0.2.2              pyhd8ed1ab_0    conda-forge\n",
            "pybind11                  2.12.0          py311h1d816ee_0    conda-forge\n",
            "pybind11-global           2.12.0          py311h1d816ee_0    conda-forge\n",
            "pycparser                 2.22               pyhd8ed1ab_0    conda-forge\n",
            "pydoe                     0.3.8                    pypi_0    pypi\n",
            "pygments                  2.18.0             pyhd8ed1ab_0    conda-forge\n",
            "pyobjc-core               10.2            py311h9b70068_0    conda-forge\n",
            "pyobjc-framework-cocoa    10.2            py311h9b70068_0    conda-forge\n",
            "pyparsing                 3.1.2              pyhd8ed1ab_0    conda-forge\n",
            "pysocks                   1.7.1              pyha2e5f31_6    conda-forge\n",
            "python                    3.11.9          h657bba9_0_cpython    conda-forge\n",
            "python-dateutil           2.9.0              pyhd8ed1ab_0    conda-forge\n",
            "python-fastjsonschema     2.19.1             pyhd8ed1ab_0    conda-forge\n",
            "python-flatbuffers        24.3.25            pyh59ac667_0    conda-forge\n",
            "python-json-logger        2.0.7              pyhd8ed1ab_0    conda-forge\n",
            "python_abi                3.11                    4_cp311    conda-forge\n",
            "pytz                      2024.1             pyhd8ed1ab_0    conda-forge\n",
            "pyyaml                    6.0.1           py311h2725bcf_1    conda-forge\n",
            "pyzmq                     26.0.3          py311h89e2aaa_0    conda-forge\n",
            "re2                       2023.09.01           hb168e87_2    conda-forge\n",
            "readline                  8.2                  h9e318b2_1    conda-forge\n",
            "referencing               0.35.1             pyhd8ed1ab_0    conda-forge\n",
            "requests                  2.32.3             pyhd8ed1ab_0    conda-forge\n",
            "rfc3339-validator         0.1.4              pyhd8ed1ab_0    conda-forge\n",
            "rfc3986-validator         0.1.1              pyh9f0ad1d_0    conda-forge\n",
            "rhash                     1.4.4                h0dc2134_0    conda-forge\n",
            "rich                      13.7.1             pyhd8ed1ab_0    conda-forge\n",
            "rpds-py                   0.18.1          py311h295b1db_0    conda-forge\n",
            "scalapack                 2.2.0                h208a4c8_1    conda-forge\n",
            "scikit-learn              1.5.0                    pypi_0    pypi\n",
            "scipy                     1.13.1          py311h40a1ab3_0    conda-forge\n",
            "scotch                    7.0.4                h52a132a_2    conda-forge\n",
            "seaborn                   0.13.2                   pypi_0    pypi\n",
            "send2trash                1.8.3              pyh31c8845_0    conda-forge\n",
            "setuptools                70.0.0             pyhd8ed1ab_0    conda-forge\n",
            "sigtool                   0.1.3                h88f4db0_0    conda-forge\n",
            "six                       1.16.0             pyh6c4a22f_0    conda-forge\n",
            "slepc                     3.20.2          real_hac11dcd_100    conda-forge\n",
            "slepc4py                  3.20.2          real_h788060d_100    conda-forge\n",
            "snappy                    1.2.0                h6dc393e_1    conda-forge\n",
            "sniffio                   1.3.1              pyhd8ed1ab_0    conda-forge\n",
            "soupsieve                 2.5                pyhd8ed1ab_1    conda-forge\n",
            "stack_data                0.6.2              pyhd8ed1ab_0    conda-forge\n",
            "suitesparse               5.10.1               h4bf45ed_3    conda-forge\n",
            "superlu                   5.2.2                h1f0f902_0    conda-forge\n",
            "superlu_dist              8.2.1                h1f9caf5_1    conda-forge\n",
            "sympy                     1.12            pypyh9d50eac_103    conda-forge\n",
            "tapi                      1100.0.11            h9ce4665_0    conda-forge\n",
            "tbb                       2021.12.0            h3c5361c_1    conda-forge\n",
            "tensorboard               2.16.2             pyhd8ed1ab_0    conda-forge\n",
            "tensorboard-data-server   0.7.0           py311h892b619_1    conda-forge\n",
            "tensorflow                2.16.1          cpu_py311h86294e5_0    conda-forge\n",
            "tensorflow-base           2.16.1          cpu_py311h1dba402_0    conda-forge\n",
            "tensorflow-estimator      2.16.1          cpu_py311h7b45150_0    conda-forge\n",
            "termcolor                 2.4.0              pyhd8ed1ab_0    conda-forge\n",
            "terminado                 0.18.1             pyh31c8845_0    conda-forge\n",
            "threadpoolctl             3.5.0                    pypi_0    pypi\n",
            "tinycss2                  1.3.0              pyhd8ed1ab_0    conda-forge\n",
            "tinyda                    0.9.18                   pypi_0    pypi\n",
            "tk                        8.6.13               h1abcd95_1    conda-forge\n",
            "tomli                     2.0.1              pyhd8ed1ab_0    conda-forge\n",
            "tornado                   6.4             py311he705e18_0    conda-forge\n",
            "tqdm                      4.66.4                   pypi_0    pypi\n",
            "traitlets                 5.14.3             pyhd8ed1ab_0    conda-forge\n",
            "types-python-dateutil     2.9.0.20240316     pyhd8ed1ab_0    conda-forge\n",
            "typing-extensions         4.11.0               hd8ed1ab_0    conda-forge\n",
            "typing_extensions         4.11.0             pyha770c72_0    conda-forge\n",
            "typing_utils              0.1.0              pyhd8ed1ab_0    conda-forge\n",
            "tzdata                    2024.1                   pypi_0    pypi\n",
            "uri-template              1.3.0              pyhd8ed1ab_0    conda-forge\n",
            "urllib3                   2.2.1              pyhd8ed1ab_0    conda-forge\n",
            "wcwidth                   0.2.13             pyhd8ed1ab_0    conda-forge\n",
            "webcolors                 1.13               pyhd8ed1ab_0    conda-forge\n",
            "webencodings              0.5.1              pyhd8ed1ab_2    conda-forge\n",
            "websocket-client          1.8.0              pyhd8ed1ab_0    conda-forge\n",
            "werkzeug                  3.0.3              pyhd8ed1ab_0    conda-forge\n",
            "wheel                     0.43.0             pyhd8ed1ab_1    conda-forge\n",
            "wrapt                     1.16.0          py311he705e18_0    conda-forge\n",
            "xarray                    2024.6.0                 pypi_0    pypi\n",
            "xarray-einstats           0.7.0                    pypi_0    pypi\n",
            "xorg-libxau               1.0.11               h0dc2134_0    conda-forge\n",
            "xorg-libxdmcp             1.1.3                h35c211d_0    conda-forge\n",
            "xz                        5.2.6                h775f41a_0    conda-forge\n",
            "yaml                      0.2.5                h0d85af4_2    conda-forge\n",
            "zeromq                    4.3.5                hde137ed_4    conda-forge\n",
            "zipp                      3.17.0             pyhd8ed1ab_0    conda-forge\n",
            "zlib                      1.2.13               h87427d6_6    conda-forge\n",
            "zstd                      1.5.6                h915ae27_0    conda-forge\n",
            "\n",
            "Note: you may need to restart the kernel to use updated packages.\n"
          ]
        }
      ],
      "source": [
        "conda list "
      ]
    },
    {
      "cell_type": "markdown",
      "metadata": {
        "id": "WP3luMxfaY7N"
      },
      "source": [
        "#### Import libraries"
      ]
    },
    {
      "cell_type": "code",
      "execution_count": 1,
      "metadata": {},
      "outputs": [],
      "source": [
        "import os\n",
        "os.environ['OPENBLAS_NUM_THREADS'] = '1'\n",
        "os.environ['OMP_NUM_THREADS'] = '1'\n",
        "os.environ['KERAS_BACKEND'] = 'tensorflow'\n",
        "\n",
        "import time\n",
        "\n",
        "from pyDOE import lhs as lhcs\n",
        "from scipy.stats.distributions import norm as norm_dist\n",
        "\n",
        "import numpy as np\n",
        "import matplotlib.pyplot as plt\n",
        "plt.style.use(['dark_background'])\n",
        "\n",
        "from itertools import product\n",
        "\n",
        "import sys\n",
        "sys.path.append('./solver')\n",
        "from model import *\n",
        "np.random.seed(123)"
      ]
    },
    {
      "cell_type": "code",
      "execution_count": 2,
      "metadata": {},
      "outputs": [],
      "source": [
        "# Set the resolution of the model and the random field parameters.\n",
        "resolution = (50, 50)\n",
        "resolution_coarse = (25,25)\n",
        "field_mean = 1\n",
        "field_stdev = 1\n",
        "lamb_cov = 0.1\n",
        "mkl_fine = 64\n",
        "\n",
        "# Set up the model(s)\n",
        "model_fine = Model(resolution, field_mean, field_stdev, mkl_fine, lamb_cov)\n",
        "model_coarse = Model( resolution_coarse, field_mean, field_stdev, mkl_fine, lamb_cov)"
      ]
    },
    {
      "cell_type": "code",
      "execution_count": 3,
      "metadata": {},
      "outputs": [
        {
          "name": "stdout",
          "output_type": "stream",
          "text": [
            "[ True False  True ...  True False  True]\n"
          ]
        }
      ],
      "source": [
        "# Assuming solver_f.solver.mesh.coordinates() and solver_c.solver.mesh.coordinates() return lists or numpy arrays\n",
        "list1 = model_fine.solver.mesh.coordinates()\n",
        "list2 = model_coarse.solver.mesh.coordinates()\n",
        "\n",
        "# Convert lists to numpy arrays if they are not already\n",
        "array1 = np.array(list1)\n",
        "array2 = np.array(list2)\n",
        "\n",
        "# Convert to structured arrays for easy row-wise comparison\n",
        "dtype = {'names': ['f{}'.format(i) for i in range(array1.shape[1])],'formats': [array1.dtype] * array1.shape[1]}\n",
        "\n",
        "structured_array1 = array1.view(dtype)\n",
        "structured_array2 = array2.view(dtype)\n",
        "\n",
        "# Create the boolean vector by checking if each row in array1 is in array2\n",
        "bool_vector = np.in1d(structured_array1, structured_array2)\n",
        "\n",
        "# Print the boolean vector\n",
        "print(bool_vector)\n",
        "\n",
        "model_coarse.random_process.eigenvalues = model_fine.random_process.eigenvalues\n",
        "model_coarse.random_process.eigenvectors = model_fine.random_process.eigenvectors[bool_vector]"
      ]
    },
    {
      "cell_type": "code",
      "execution_count": 4,
      "metadata": {},
      "outputs": [],
      "source": [
        "# Define the sampling points.\n",
        "x_data = y_data = np.array([0.1, 0.3, 0.5, 0.7, 0.9])\n",
        "\n",
        "datapoints = np.array(list(product(x_data, y_data)))"
      ]
    },
    {
      "cell_type": "markdown",
      "metadata": {},
      "source": [
        "Check that the folling code produces the same output as the cell below "
      ]
    },
    {
      "cell_type": "code",
      "execution_count": 5,
      "metadata": {},
      "outputs": [
        {
          "data": {
            "text/plain": [
              "array([0.95298313, 0.93511747, 0.93376781, 0.96958524, 0.97444054,\n",
              "       0.71472909, 0.69129481, 0.71240044, 0.8061805 , 0.85216712,\n",
              "       0.56621954, 0.55445767, 0.51410139, 0.50800318, 0.58644353,\n",
              "       0.32871738, 0.33691461, 0.38946967, 0.43303401, 0.2922576 ,\n",
              "       0.13825812, 0.17735146, 0.20420585, 0.14543473, 0.13773947])"
            ]
          },
          "execution_count": 5,
          "metadata": {},
          "output_type": "execute_result"
        }
      ],
      "source": [
        "model_coarse.solve(np.ones(64))\n",
        "model_coarse.get_data(datapoints)"
      ]
    },
    {
      "cell_type": "code",
      "execution_count": 6,
      "metadata": {},
      "outputs": [
        {
          "data": {
            "text/plain": [
              "array([0.95464728, 0.93776413, 0.93109258, 0.96899473, 0.97489174,\n",
              "       0.72064782, 0.68868939, 0.71549097, 0.80617574, 0.85157427,\n",
              "       0.57053728, 0.56263489, 0.51127896, 0.50627652, 0.58754885,\n",
              "       0.32579065, 0.33349834, 0.38978423, 0.43724719, 0.28198924,\n",
              "       0.13979754, 0.17877788, 0.20639778, 0.14169928, 0.13629775])"
            ]
          },
          "execution_count": 6,
          "metadata": {},
          "output_type": "execute_result"
        }
      ],
      "source": [
        "model_fine.solve(np.ones(64))\n",
        "model_fine.get_data(datapoints)"
      ]
    },
    {
      "cell_type": "markdown",
      "metadata": {},
      "source": [
        "array([0.95464728, 0.93776413, 0.93109258, 0.96899473, 0.97489174, \\\n",
        "$\\quad\\quad$   0.72064782, 0.68868939, 0.71549097, 0.80617574, 0.85157427, \\\n",
        "$\\quad\\quad$   0.57053728, 0.56263489, 0.51127896, 0.50627652, 0.58754885, \\\n",
        "$\\quad\\quad$   0.32579065, 0.33349834, 0.38978423, 0.43724719, 0.28198924, \\\n",
        "$\\quad\\quad$   0.13979754, 0.17877788, 0.20639778, 0.14169928, 0.13629775])"
      ]
    },
    {
      "cell_type": "markdown",
      "metadata": {},
      "source": [
        "#### Problem setup\n",
        "Consider steady groundwater flow in a confined, inhomogeneous aquifer which occupies the domain $\\Omega$ with boundary $\\Gamma$. \n",
        "Assuming that water is incompressible, the governing equations for groundwater flow can be written as the scalar elliptic partial differential equation:\n",
        "$$\n",
        "-\\nabla \\cdot(-T(\\mathbf{x}) \\nabla h(\\mathbf{x}))=g(\\mathbf{x}) \\text { for all } \\quad \\mathbf{x} \\in \\Omega\n",
        "$$\n",
        "subject to boundary conditions on $\\Gamma=\\Gamma_N \\cup \\Gamma_D$ defined by the constraint equations\n",
        "$$\n",
        "h(\\mathbf{x})=h_D(\\mathbf{x}) \\quad \\text { on } \\Gamma_D \\quad \\text { and } \\quad(-T(\\mathbf{x}) \\nabla h(\\mathbf{x})) \\cdot \\boldsymbol{n}=q_N(\\mathbf{x}) \\quad \\text { on } \\Gamma_N .\n",
        "$$\n",
        "\n",
        "Here $T(\\mathbf{x})$ is the heterogeneous, depth-integrated transmissivity, $h(\\mathbf{x})$ is hydraulic head, $h_D(\\mathbf{x})$ is fixed hydraulic head at boundaries with Dirichlet constraints, $g(\\mathbf{x})$ is fluid sources and sinks, $q(\\mathbf{x})$ is Darcy velocity, $q_N(\\mathbf{x})$ is Darcy velocity across boundaries with Neumann constraints and $\\Gamma_D \\subset \\partial \\Omega$ and $\\Gamma_N \\subset \\partial \\Omega$ define the boundaries comprising of Dirichlet and Neumann conditions, respectively. Following standard FEM practice (see e.g. [19]), eq. (1) is converted into weak form by multiplying by an appropriate test function $w \\in H^1(\\Omega)$ and integrating by parts, so that\n",
        "$$\n",
        "\\int_{\\Omega} \\nabla w \\cdot(T(\\mathbf{x}) \\nabla h) d \\mathbf{x}+\\int_{\\Gamma_N} w q_N(\\mathbf{x}) d s=\\int_{\\Omega} w g(\\mathbf{x}) d \\mathbf{x}, \\quad \\forall w \\in H^1(\\Omega),\n",
        "$$\n",
        "where $H^1(\\Omega)$ is the Hilbert space of weakly differentiable functions on $\\Omega$. To approximate the hydraulic head solution $h(\\boldsymbol{x})$, a finite element space $V_\\tau \\subset H^1(\\Omega)$ on a finite element mesh $\\mathcal{Q}_\\tau(\\Omega)$. This is defined by a basis of piecewise linear Lagrange polynomials $\\left\\{\\phi_i(\\mathbf{x})\\right\\}_{i=1}^M$, associated with each of the $M$ finite element nodes. As a result (3) can be rewritten as a system of sparse linear equations\n",
        "$$\n",
        "\\begin{aligned}\n",
        "\\mathbf{A h}=\\mathbf{b} \\quad \\text { where } \\quad A_{i j} & =\\int_{\\Omega} \\nabla \\phi_i \\cdot T(\\mathbf{x}) \\nabla \\phi_j(\\mathbf{x}) d \\mathbf{x} \\text { and } \\\\\n",
        "b_i & =\\int_{\\Omega} \\phi_i(\\mathbf{x}) g(\\mathbf{x}) d \\mathbf{x}-\\int_{\\Gamma_N} \\phi_i(\\mathbf{x}) q_N(\\mathbf{x}) d s\n",
        "\\end{aligned}\n",
        "$$\n",
        "where $\\mathbf{A} \\in \\mathbb{R}^{M \\times M}$ and $\\mathbf{b} \\in \\mathbb{R}^M$ are the global stiffness matrix and load vector, respectively. The vector $\\mathbf{h}:=\\left[h_1, h_2, \\ldots, h_M\\right] \\in \\mathbb{R}^M$ is the solution vector of hydraulic head at each node within the finite element mesh so that $h(\\mathbf{x})=\\sum_{i=1}^M h_i \\phi_i(\\mathbf{x})$. In our numerical experiments, these equations are solved using the open source general-purpose FEM framework FEniCS. While there are well-established groundwater simulation software packages available, such as MODFLOW  and FEFLOW [19], FEniCS was chosen because of its flexibility and ease of integration with other software and analysis codes."
      ]
    },
    {
      "cell_type": "markdown",
      "metadata": {},
      "source": [
        "# Creation of fine dataset N = 64000"
      ]
    },
    {
      "cell_type": "code",
      "execution_count": 7,
      "metadata": {},
      "outputs": [],
      "source": [
        "# Set up an MLP trained on n_samples.\n",
        "n_samples = 64000\n",
        "\n",
        "# Create a matrix of random samples from a Gaussian Latin Hypercube.\n",
        "samples = lhcs(mkl_fine, samples = n_samples)\n",
        "samples = norm_dist(loc=0, scale=1).ppf(samples)\n",
        "\n",
        "data = np.zeros((n_samples, len(datapoints)))\n",
        "for i in range(n_samples):\n",
        "    model_fine.solve(samples[i,:])\n",
        "    # Extract data and save it in the matrix.\n",
        "    data[i,:] = model_fine.get_data(datapoints)\n",
        "\n",
        "# Split the data into test and training data\n",
        "X_train = samples[:int(0.9*n_samples),:]; y_train = data[:int(0.9*n_samples),:]\n",
        "X_test  = samples[int(0.9*n_samples):,:]; y_test  = data[int(0.9*n_samples):,:]"
      ]
    },
    {
      "cell_type": "markdown",
      "metadata": {},
      "source": [
        "### Check that the seed has been set correctly"
      ]
    },
    {
      "cell_type": "markdown",
      "metadata": {},
      "source": [
        "Check that the first solution "
      ]
    },
    {
      "cell_type": "code",
      "execution_count": 8,
      "metadata": {},
      "outputs": [
        {
          "name": "stdout",
          "output_type": "stream",
          "text": [
            "True\n",
            "True\n"
          ]
        }
      ],
      "source": [
        "print(np.all(np.abs(X_train[1] - np.array([-0.47836734,  0.28648697, -0.6303336 , -0.73718135, -1.28329923,\n",
        "                                            -1.01340338, -0.72873664, -0.47809715,  0.7151521 ,  0.67099511,\n",
        "                                            0.43188719,  0.03632936, -0.8649311 , -0.8647808 ,  0.34179245,\n",
        "                                            0.24767509, -0.01252372,  2.15128095, -0.09757678, -1.21028494,\n",
        "                                            -1.84696239, -0.39120485,  1.84236875,  1.38900885,  0.24818345,\n",
        "                                            1.7394803 , -1.39512217, -1.57186453, -0.48234839, -0.51473032,\n",
        "                                            -0.84504164,  0.01514964, -0.01444682, -0.0601214 , -0.35200387,\n",
        "                                            -1.93785236, -0.22041721,  0.64776277,  1.07086038,  0.28086706,\n",
        "                                            1.08468014, -0.31092276,  0.17420309, -0.75637504,  1.80047032,\n",
        "                                            1.13038324,  0.45958537,  2.13109204, -0.88060009,  1.11485691,\n",
        "                                            0.84702747, -0.86375104,  0.44718326,  0.35841146,  0.88659583,\n",
        "                                            1.82694493, -1.20593774, -1.30671999, -1.31755625,  0.0846923 ,\n",
        "                                            -0.8921337 , -0.03485612, -1.13209765,  0.98190528]) ) < 1e-07))\n",
        "\n",
        "\n",
        "print(np.all(np.abs(y_train[1] - np.array([0.88111212, 0.9237418 , 0.96635079, 0.88511486, 0.907395  ,\n",
        "       0.77208539, 0.72286761, 0.59835583, 0.58188088, 0.55799164,\n",
        "       0.52192965, 0.52471177, 0.4320843 , 0.40017836, 0.30377345,\n",
        "       0.32830741, 0.32617682, 0.28403402, 0.23154346, 0.25103854,\n",
        "       0.26009132, 0.1807072 , 0.10643022, 0.06946826, 0.10587686]) ) < 1e-07))\n"
      ]
    },
    {
      "cell_type": "code",
      "execution_count": 9,
      "metadata": {},
      "outputs": [
        {
          "name": "stdout",
          "output_type": "stream",
          "text": [
            "(6400, 64)\n",
            "(6400, 25)\n",
            "(57600, 64)\n",
            "(57600, 25)\n",
            "(25, 2)\n"
          ]
        }
      ],
      "source": [
        "print(X_test.shape)\n",
        "print(y_test.shape)\n",
        "print(X_train.shape)\n",
        "print(y_train.shape)\n",
        "print(datapoints.shape)"
      ]
    },
    {
      "cell_type": "code",
      "execution_count": 17,
      "metadata": {},
      "outputs": [],
      "source": [
        "np.savetxt(\"./data/X_test_64000.csv\",X_test , delimiter = \",\")\n",
        "np.savetxt(\"./data/y_test_64000.csv\",y_test , delimiter = \",\")\n",
        "np.savetxt(\"./data/X_train_64000.csv\",X_train , delimiter = \",\")\n",
        "np.savetxt(\"./data/y_train_64000.csv\",y_train , delimiter = \",\")"
      ]
    },
    {
      "cell_type": "markdown",
      "metadata": {},
      "source": [
        "# Creation of coarse dataset N = 32000"
      ]
    },
    {
      "cell_type": "code",
      "execution_count": 10,
      "metadata": {},
      "outputs": [],
      "source": [
        "# Set up an MLP trained on n_samples.\n",
        "n_samples = 32000\n",
        "\n",
        "# Create a matrix of random samples from a Gaussian Latin Hypercube.\n",
        "samples = lhcs(mkl_fine, samples = n_samples)\n",
        "samples = norm_dist(loc=0, scale=1).ppf(samples)\n",
        "\n",
        "data = np.zeros((n_samples, len(datapoints)))\n",
        "for i in range(n_samples):\n",
        "    model_coarse.solve(samples[i,:])\n",
        "    # Extract data and save it in the matrix.\n",
        "    data[i,:] = model_coarse.get_data(datapoints)\n",
        "\n",
        "# Split the data into test and training data\n",
        "X_train_coarse = samples[:int(0.9*n_samples),:]; y_train_coarse = data[:int(0.9*n_samples),:]\n",
        "X_test_coarse  = samples[int(0.9*n_samples):,:]; y_test_coarse  = data[int(0.9*n_samples):,:]"
      ]
    },
    {
      "cell_type": "code",
      "execution_count": 13,
      "metadata": {},
      "outputs": [],
      "source": [
        "np.savetxt(\"./data/X_test_coarse_32000.csv\",X_test_coarse , delimiter = \",\")\n",
        "np.savetxt(\"./data/y_test_coarse_32000.csv\",y_test_coarse , delimiter = \",\")\n",
        "np.savetxt(\"./data/X_train_coarse_32000.csv\",X_train_coarse , delimiter = \",\")\n",
        "np.savetxt(\"./data/y_train_coarse_32000.csv\",y_train_coarse , delimiter = \",\")"
      ]
    }
  ],
  "metadata": {
    "colab": {
      "authorship_tag": "ABX9TyOLKvMRTaykHpCaydJMPm9E",
      "include_colab_link": true,
      "provenance": []
    },
    "kernelspec": {
      "display_name": "Python 3",
      "name": "python3"
    },
    "language_info": {
      "codemirror_mode": {
        "name": "ipython",
        "version": 3
      },
      "file_extension": ".py",
      "mimetype": "text/x-python",
      "name": "python",
      "nbconvert_exporter": "python",
      "pygments_lexer": "ipython3",
      "version": "3.11.9"
    }
  },
  "nbformat": 4,
  "nbformat_minor": 0
}
