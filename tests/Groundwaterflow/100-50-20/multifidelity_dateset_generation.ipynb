{
  "cells": [
    {
      "cell_type": "markdown",
      "metadata": {
        "colab_type": "text",
        "id": "view-in-github"
      },
      "source": [
        "<a href=\"https://colab.research.google.com/github/ContiPaolo/Multifidelity-Tutorial/blob/main/MF_POD_Burger's1D.ipynb\" target=\"_parent\"><img src=\"https://colab.research.google.com/assets/colab-badge.svg\" alt=\"Open In Colab\"/></a>"
      ]
    },
    {
      "cell_type": "markdown",
      "metadata": {},
      "source": [
        "# Creation of the Multilevel dataset"
      ]
    },
    {
      "cell_type": "markdown",
      "metadata": {},
      "source": [
        "Here we compute for each sample the coarse FEM solution that will then be given as imput to the NN of the fine level"
      ]
    },
    {
      "cell_type": "markdown",
      "metadata": {
        "id": "WP3luMxfaY7N"
      },
      "source": [
        "#### Import libraries"
      ]
    },
    {
      "cell_type": "code",
      "execution_count": 1,
      "metadata": {
        "id": "dUChnEGpNaQE"
      },
      "outputs": [],
      "source": [
        "import os\n",
        "os.environ['OPENBLAS_NUM_THREADS'] = '1'\n",
        "os.environ['OMP_NUM_THREADS'] = '1'\n",
        "os.environ['KERAS_BACKEND'] = 'tensorflow'\n",
        "\n",
        "import numpy as np\n",
        "#import matplotlib as plt\n",
        "from matplotlib import pyplot as plt\n",
        "from itertools import product\n",
        "import timeit\n",
        "\n",
        "import pandas as pd \n",
        "from keras.optimizers import Adam,Nadam,Adamax\n",
        "from keras.models import Model\n",
        "from keras.layers import Input, Dense, LSTM, Dropout\n",
        "from keras.models import Sequential\n",
        "from keras.callbacks import LearningRateScheduler\n",
        "from keras.models import load_model\n",
        "from sklearn.utils import extmath\n",
        "from fenics import *\n",
        "\n",
        "from pyDOE import lhs as lhcs\n",
        "from scipy.stats.distributions import norm as norm_dist\n",
        "\n",
        "import sys\n",
        "sys.path.append('../../solver')\n",
        "from model import *\n",
        "#######################     CONFIGURATIONS     ##########################\n",
        "np.random.seed(123)\n",
        "train = True\n",
        "save = True"
      ]
    },
    {
      "cell_type": "markdown",
      "metadata": {},
      "source": [
        "Generation of the datasets based on the quantities of interest "
      ]
    },
    {
      "cell_type": "code",
      "execution_count": 2,
      "metadata": {},
      "outputs": [
        {
          "name": "stdout",
          "output_type": "stream",
          "text": [
            "2.251298741272782e+21\n",
            "2.187679058454625e+20\n",
            "4.998614104625165e+18\n"
          ]
        }
      ],
      "source": [
        "# Resolution parameters\n",
        "resolution_h1 = (100, 100)\n",
        "resolution_h2 = (50, 50)\n",
        "resolution_h3 = (25, 25)\n",
        "\n",
        "# PDE parameters\n",
        "field_mean = 1\n",
        "field_stdev = 1\n",
        "lamb_cov = 0.1\n",
        "mkl = 64\n",
        "\n",
        "# Set up the model(s)\n",
        "solver_h1 = Model(resolution_h1, field_mean, field_stdev, mkl, lamb_cov)\n",
        "solver_h2 = Model(resolution_h2, field_mean, field_stdev, mkl, lamb_cov)\n",
        "solver_h3 = Model(resolution_h3, field_mean, field_stdev, 32, lamb_cov)\n",
        "\n",
        "# Adjust the trasmissivity based on h1\n",
        "list1 = solver_h1.solver.mesh.coordinates()\n",
        "list2 = solver_h2.solver.mesh.coordinates()\n",
        "list3 = solver_h3.solver.mesh.coordinates()\n",
        "\n",
        "# Convert lists to numpy arrays if they are not already\n",
        "array1 = np.array(list1)\n",
        "array2 = np.array(list2)\n",
        "array3 = np.array(list3)\n",
        "\n",
        "# Convert to structured arrays for easy row-wise comparison\n",
        "dtype = {'names': ['f{}'.format(i) for i in range(array1.shape[1])],\n",
        "         'formats': [array1.dtype] * array1.shape[1]}\n",
        "\n",
        "structured_array1 = array1.view(dtype)\n",
        "structured_array2 = array2.view(dtype)\n",
        "structured_array3 = array3.view(dtype)\n",
        "\n",
        "# Create the boolean vector by checking if each row in array1 is in array2\n",
        "bool_vector2 = np.in1d(structured_array1, structured_array2)\n",
        "bool_vector3 = np.in1d(structured_array1, structured_array3)\n",
        "\n",
        "# Set the trasmissivity field\n",
        "solver_h2.random_process.eigenvalues = solver_h1.random_process.eigenvalues\n",
        "solver_h2.random_process.eigenvectors = solver_h1.random_process.eigenvectors[bool_vector2]\n",
        "\n",
        "solver_h3.random_process.eigenvalues = solver_h1.random_process.eigenvalues\n",
        "solver_h3.random_process.eigenvectors = solver_h1.random_process.eigenvectors[bool_vector3]"
      ]
    },
    {
      "cell_type": "code",
      "execution_count": 3,
      "metadata": {},
      "outputs": [],
      "source": [
        "x_data = y_data = np.array([0.1, 0.3, 0.5, 0.7, 0.9])\n",
        "datapoints = np.array(list(product(x_data, y_data)))\n",
        "\n",
        "def solver_h1_data(x):\n",
        "    solver_h1.solve(x)\n",
        "    return solver_h1.get_data(datapoints)\n",
        "\n",
        "def solver_h2_data(x):\n",
        "    solver_h2.solve(x)\n",
        "    return solver_h2.get_data(datapoints)\n",
        "\n",
        "def solver_h3_data(x):\n",
        "    solver_h3.solve(x)\n",
        "    return solver_h3.get_data(datapoints)"
      ]
    },
    {
      "cell_type": "markdown",
      "metadata": {},
      "source": [
        "Dataset generation: h1"
      ]
    },
    {
      "cell_type": "code",
      "execution_count": 4,
      "metadata": {},
      "outputs": [],
      "source": [
        "# Set up an MLP trained on n_samples.\n",
        "n_samples = 128000\n",
        "\n",
        "# Create a matrix of random samples from a Gaussian Latin Hypercube.\n",
        "samples = lhcs(64, samples = n_samples)\n",
        "samples = norm_dist(loc=0, scale=1).ppf(samples)\n",
        "\n",
        "data = np.zeros((n_samples, len(datapoints)))\n",
        "for i in range(n_samples):\n",
        "    data[i,:] = solver_h1_data(samples[i,:])\n",
        "\n",
        "# Split the data into test and training data\n",
        "X_train = samples[:int(0.9*n_samples),:]; y_train = data[:int(0.9*n_samples),:]\n",
        "X_test  = samples[int(0.9*n_samples):,:]; y_test  = data[int(0.9*n_samples):,:]\n",
        "\n",
        "np.savetxt(\"../../data/100-50-20/X_test_100resolution.csv\",X_test , delimiter = \",\")\n",
        "np.savetxt(\"../../data/100-50-20/y_test_100resolution.csv\",y_test , delimiter = \",\")\n",
        "np.savetxt(\"../../data/100-50-20/X_train_100resolution.csv\",X_train , delimiter = \",\")\n",
        "np.savetxt(\"../../data/100-50-20/y_train_100resolution.csv\",y_train , delimiter = \",\")"
      ]
    },
    {
      "cell_type": "code",
      "execution_count": 5,
      "metadata": {},
      "outputs": [],
      "source": [
        "# Set up an MLP trained on n_samples.\n",
        "n_samples = 128000\n",
        "\n",
        "# Create a matrix of random samples from a Gaussian Latin Hypercube.\n",
        "samples = lhcs(64, samples = n_samples)\n",
        "samples = norm_dist(loc=0, scale=1).ppf(samples)\n",
        "\n",
        "data = np.zeros((n_samples, len(datapoints)))\n",
        "for i in range(n_samples):\n",
        "    data[i,:] = solver_h2_data(samples[i,:])\n",
        "\n",
        "# Split the data into test and training data\n",
        "X_train = samples[:int(0.9*n_samples),:]; y_train = data[:int(0.9*n_samples),:]\n",
        "X_test  = samples[int(0.9*n_samples):,:]; y_test  = data[int(0.9*n_samples):,:]\n",
        "\n",
        "np.savetxt(\"../../data/100-50-20/X_test_50resolution.csv\",X_test , delimiter = \",\")\n",
        "np.savetxt(\"../../data/100-50-20/y_test_50resolution.csv\",y_test , delimiter = \",\")\n",
        "np.savetxt(\"../../data/100-50-20/X_train_50resolution.csv\",X_train , delimiter = \",\")\n",
        "np.savetxt(\"../../data/100-50-20/y_train_50resolution.csv\",y_train , delimiter = \",\")"
      ]
    },
    {
      "cell_type": "code",
      "execution_count": 6,
      "metadata": {},
      "outputs": [],
      "source": [
        "# Set up an MLP trained on n_samples.\n",
        "n_samples = 128000\n",
        "\n",
        "# Create a matrix of random samples from a Gaussian Latin Hypercube.\n",
        "samples = lhcs(64, samples = n_samples)\n",
        "samples = norm_dist(loc=0, scale=1).ppf(samples)\n",
        "\n",
        "data = np.zeros((n_samples, len(datapoints)))\n",
        "for i in range(n_samples):\n",
        "    data[i,:] = solver_h3_data(samples[i,:])\n",
        "\n",
        "# Split the data into test and training data\n",
        "X_train = samples[:int(0.9*n_samples),:]; y_train = data[:int(0.9*n_samples),:]\n",
        "X_test  = samples[int(0.9*n_samples):,:]; y_test  = data[int(0.9*n_samples):,:]\n",
        "\n",
        "np.savetxt(\"../../data/100-50-20/X_test_20resolution.csv\",X_test , delimiter = \",\")\n",
        "np.savetxt(\"../../data/100-50-20/y_test_20resolution.csv\",y_test , delimiter = \",\")\n",
        "np.savetxt(\"../../data/100-50-20/X_train_20resolution.csv\",X_train , delimiter = \",\")\n",
        "np.savetxt(\"../../data/100-50-20/y_train_20resolution.csv\",y_train , delimiter = \",\")"
      ]
    },
    {
      "cell_type": "markdown",
      "metadata": {},
      "source": [
        "# POD dataset generation"
      ]
    },
    {
      "cell_type": "code",
      "execution_count": 7,
      "metadata": {},
      "outputs": [],
      "source": [
        "x_data = y_data = np.linspace(0.0, 1.0, 10)\n",
        "datapoints = np.array(list(product(x_data, y_data)))\n",
        "\n",
        "def solver_h1_data(x):\n",
        "    solver_h1.solve(x)\n",
        "    return solver_h1.get_data(datapoints)\n",
        "\n",
        "def solver_h2_data(x):\n",
        "    solver_h2.solve(x)\n",
        "    return solver_h2.get_data(datapoints)\n",
        "\n",
        "def solver_h3_data(x):\n",
        "    solver_h3.solve(x)\n",
        "    return solver_h3.get_data(datapoints)"
      ]
    },
    {
      "cell_type": "code",
      "execution_count": 8,
      "metadata": {},
      "outputs": [
        {
          "name": "stdout",
          "output_type": "stream",
          "text": [
            "[0.62429625 0.67308696 0.70635168 0.73231928 0.75541301 0.77122986\n",
            " 0.78626546 0.7999382  0.81350078 0.82420505 0.83465693 0.84478197\n",
            " 0.85276603 0.86048674 0.8679012  0.87488353 0.88163056 0.88788758\n",
            " 0.89361023 0.89929785 0.90409998 0.90871676 0.91328372 0.91781456\n",
            " 0.9221533  0.9261337  0.92991247 0.93342321 0.93662355 0.93977291\n",
            " 0.94285461 0.94588133 0.94866549 0.95144387 0.95416573 0.95655156\n",
            " 0.95889138 0.96113886 0.96335971 0.96553926 0.96763314 0.96952962\n",
            " 0.97140894 0.97316582 0.97488033 0.97657123 0.97823101 0.97966437\n",
            " 0.98109296 0.98227533 0.98341239 0.98446969 0.98551799 0.98651725\n",
            " 0.98739966 0.98823975 0.9890205  0.9897623  0.99046265 0.9910921\n",
            " 0.99170115 0.99230399 0.9928633  0.99338366 0.99388953 0.99434953\n",
            " 0.9948012  0.9952493  0.99568406 0.99611561] .....\n"
          ]
        },
        {
          "data": {
            "image/png": "[encoded data removed]",
            "text/plain": [
              "<Figure size 640x480 with 1 Axes>"
            ]
          },
          "metadata": {},
          "output_type": "display_data"
        }
      ],
      "source": [
        "N = 128000\n",
        "n_datapoints = len(datapoints)\n",
        "\n",
        "coarse_sol_train = np.zeros((int(N*0.9), n_datapoints))\n",
        "for i in range( int(N*0.9) ):\n",
        "    coarse_sol_train[i, :] = solver_h1_data(X_train[i, :])\n",
        "\n",
        "coarse_sol_test = np.zeros((int(N*0.1), n_datapoints))\n",
        "for i in range( int(N*0.1) ):\n",
        "    coarse_sol_test[i, :] = solver_h1_data(X_test[i, :])\n",
        "\n",
        "n = 15000\n",
        "y_t = coarse_sol_train[0:n,:].T\n",
        "y_t.shape\n",
        "\n",
        "U, S, Vh = np.linalg.svd(y_t)\n",
        "U.shape, S.shape, Vh.shape\n",
        "\n",
        "#print('S is:', S)\n",
        "v = np.cumsum(S)/np.sum(S)\n",
        "print(v[0:70], '.....')\n",
        "plt.plot(v, '-')\n",
        "plt.grid()\n",
        "plt.plot(np.ones(740), 'red')\n",
        "plt.axvline(x=45, color='b', linestyle='-', linewidth=1)\n",
        "plt.show()"
      ]
    },
    {
      "cell_type": "code",
      "execution_count": 9,
      "metadata": {},
      "outputs": [],
      "source": [
        "#########################   PROJECTION ONTO POD BASIS    ##########################\n",
        "n_comp = 45 # number of components to retain \n",
        "\n",
        "basis = U[:,0:n_comp]\n",
        "X_train_pod = coarse_sol_train @ basis\n",
        "X_test_pod = coarse_sol_test @ basis\n",
        "\n",
        "np.savetxt(\"../../data/100-50-20/X_train_100resolution_pod.csv\",X_train_pod , delimiter = \",\")\n",
        "np.savetxt(\"../../data/100-50-20/X_test_100resolution_pod.csv\",X_test_pod , delimiter = \",\")\n",
        "np.savetxt(\"../../data/100-50-20/POD_basis_100resolution.csv\", basis, delimiter=',')"
      ]
    },
    {
      "cell_type": "code",
      "execution_count": 10,
      "metadata": {},
      "outputs": [
        {
          "name": "stdout",
          "output_type": "stream",
          "text": [
            "[0.6262624  0.67514848 0.70843327 0.73443556 0.7575336  0.7733525\n",
            " 0.78837323 0.80201645 0.81554784 0.82622134 0.83663703 0.84670772\n",
            " 0.85463405 0.86231632 0.86968763 0.87660975 0.88329015 0.88950971\n",
            " 0.89518971 0.90079389 0.90554558 0.9101111  0.9146391  0.91913288\n",
            " 0.92340906 0.92732953 0.93106192 0.9345414  0.93769786 0.94079649\n",
            " 0.94383074 0.94680444 0.94955724 0.95229265 0.95497701 0.95733431\n",
            " 0.9596335  0.9618342  0.96400722 0.96615149 0.96821001 0.97007289\n",
            " 0.97192503 0.97364777 0.97533095 0.9769864  0.97860335 0.98001115\n",
            " 0.98140298 0.98257215 0.98369036 0.98472228 0.98574816 0.98673504\n",
            " 0.98760111 0.98843179 0.9892039  0.9899321  0.99062202 0.99124161\n",
            " 0.99183891 0.9924305  0.99298148 0.99349366 0.99399021 0.99444173\n",
            " 0.99488546 0.9953262  0.99575519 0.99618085] .....\n"
          ]
        },
        {
          "data": {
            "image/png": "[encoded data removed]",
            "text/plain": [
              "<Figure size 640x480 with 1 Axes>"
            ]
          },
          "metadata": {},
          "output_type": "display_data"
        }
      ],
      "source": [
        "N = 128000\n",
        "n_datapoints = len(datapoints)\n",
        "\n",
        "coarse_sol_train = np.zeros((int(N*0.9), n_datapoints))\n",
        "for i in range( int(N*0.9) ):\n",
        "    coarse_sol_train[i, :] = solver_h2_data(X_train[i, :])\n",
        "\n",
        "coarse_sol_test = np.zeros((int(N*0.1), n_datapoints))\n",
        "for i in range( int(N*0.1) ):\n",
        "    coarse_sol_test[i, :] = solver_h2_data(X_test[i, :])\n",
        "\n",
        "n = 15000\n",
        "y_t = coarse_sol_train[0:n,:].T\n",
        "y_t.shape\n",
        "\n",
        "U, S, Vh = np.linalg.svd(y_t)\n",
        "U.shape, S.shape, Vh.shape\n",
        "\n",
        "#print('S is:', S)\n",
        "v = np.cumsum(S)/np.sum(S)\n",
        "print(v[0:70], '.....')\n",
        "plt.plot(v, '-')\n",
        "plt.grid()\n",
        "plt.plot(np.ones(740), 'red')\n",
        "plt.axvline(x=45, color='b', linestyle='-', linewidth=1)\n",
        "plt.show()"
      ]
    },
    {
      "cell_type": "code",
      "execution_count": 11,
      "metadata": {},
      "outputs": [],
      "source": [
        "#########################   PROJECTION ONTO POD BASIS    ##########################\n",
        "n_comp = 45 # number of components to retain \n",
        "\n",
        "basis = U[:,0:n_comp]\n",
        "X_train_pod = coarse_sol_train @ basis\n",
        "X_test_pod = coarse_sol_test @ basis\n",
        "\n",
        "np.savetxt(\"../../data/100-50-20/X_train_50resolution_pod.csv\",X_train_pod , delimiter = \",\")\n",
        "np.savetxt(\"../../data/100-50-20/X_test_50resolution_pod.csv\",X_test_pod , delimiter = \",\")\n",
        "np.savetxt(\"../../data/100-50-20/POD_basis_50resolution.csv\", basis, delimiter=',')"
      ]
    },
    {
      "cell_type": "code",
      "execution_count": 14,
      "metadata": {},
      "outputs": [
        {
          "name": "stdout",
          "output_type": "stream",
          "text": [
            "[0.63412922 0.68340634 0.71677719 0.7428785  0.76595206 0.78173645\n",
            " 0.79666931 0.81017944 0.82361988 0.83415639 0.84444737 0.85432724\n",
            " 0.86207259 0.86959465 0.87679273 0.88355134 0.89004093 0.89608915\n",
            " 0.90163993 0.90696279 0.91153661 0.91590821 0.92025574 0.92458031\n",
            " 0.92868522 0.9323872  0.93591472 0.93924752 0.94224199 0.94510571\n",
            " 0.94788454 0.95064451 0.95324653 0.95580192 0.95826586 0.9604666\n",
            " 0.96263887 0.96465761 0.96664818 0.96859    0.97050201 0.97224026\n",
            " 0.97395056 0.97553435 0.97708983 0.97861757 0.9800475  0.98134826\n",
            " 0.98260172 0.98371429 0.98475356 0.98571634 0.98667371 0.98760142\n",
            " 0.98841557 0.98918103 0.98990259 0.99059443 0.99125057 0.99181974\n",
            " 0.99236643 0.99290648 0.9934282  0.99393149 0.99439226 0.99481434\n",
            " 0.99523098 0.99564295 0.99604707 0.99644793] .....\n"
          ]
        },
        {
          "data": {
            "image/png": "[encoded data removed]",
            "text/plain": [
              "<Figure size 640x480 with 1 Axes>"
            ]
          },
          "metadata": {},
          "output_type": "display_data"
        }
      ],
      "source": [
        "N = 128000\n",
        "n_datapoints = len(datapoints)\n",
        "\n",
        "coarse_sol_train = np.zeros((int(N*0.9), n_datapoints))\n",
        "for i in range( int(N*0.9) ):\n",
        "    coarse_sol_train[i, :] = solver_h3_data(X_train[i, :])\n",
        "\n",
        "coarse_sol_test = np.zeros((int(N*0.1), n_datapoints))\n",
        "for i in range( int(N*0.1) ):\n",
        "    coarse_sol_test[i, :] = solver_h3_data(X_test[i, :])\n",
        "\n",
        "n = 15000\n",
        "y_t = coarse_sol_train[0:n,:].T\n",
        "y_t.shape\n",
        "\n",
        "U, S, Vh = np.linalg.svd(y_t)\n",
        "U.shape, S.shape, Vh.shape\n",
        "\n",
        "#print('S is:', S)\n",
        "v = np.cumsum(S)/np.sum(S)\n",
        "print(v[0:70], '.....')\n",
        "plt.plot(v, '-')\n",
        "plt.grid()\n",
        "plt.plot(np.ones(740), 'red')\n",
        "plt.axvline(x=45, color='b', linestyle='-', linewidth=1)\n",
        "plt.show()"
      ]
    },
    {
      "cell_type": "code",
      "execution_count": 13,
      "metadata": {},
      "outputs": [],
      "source": [
        "#########################   PROJECTION ONTO POD BASIS    ##########################\n",
        "n_comp = 45 # number of components to retain \n",
        "\n",
        "basis = U[:,0:n_comp]\n",
        "X_train_pod = coarse_sol_train @ basis\n",
        "X_test_pod = coarse_sol_test @ basis\n",
        "\n",
        "np.savetxt(\"../../data/100-50-20/X_train_20resolution_pod.csv\",X_train_pod , delimiter = \",\")\n",
        "np.savetxt(\"../../data/100-50-20/X_test_20resolution_pod.csv\",X_test_pod , delimiter = \",\")\n",
        "np.savetxt(\"../../data/100-50-20/POD_basis_20resolution.csv\", basis, delimiter=',')"
      ]
    }
  ],
  "metadata": {
    "colab": {
      "authorship_tag": "ABX9TyOLKvMRTaykHpCaydJMPm9E",
      "include_colab_link": true,
      "provenance": []
    },
    "kernelspec": {
      "display_name": "Python 3",
      "name": "python3"
    },
    "language_info": {
      "codemirror_mode": {
        "name": "ipython",
        "version": 3
      },
      "file_extension": ".py",
      "mimetype": "text/x-python",
      "name": "python",
      "nbconvert_exporter": "python",
      "pygments_lexer": "ipython3",
      "version": "3.12.4"
    }
  },
  "nbformat": 4,
  "nbformat_minor": 0
}
