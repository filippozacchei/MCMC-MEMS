{
  "cells": [
    {
      "cell_type": "markdown",
      "metadata": {
        "colab_type": "text",
        "id": "view-in-github"
      },
      "source": [
        "<a href=\"https://colab.research.google.com/github/ContiPaolo/Multifidelity-Tutorial/blob/main/MF_POD_Burger's1D.ipynb\" target=\"_parent\"><img src=\"https://colab.research.google.com/assets/colab-badge.svg\" alt=\"Open In Colab\"/></a>"
      ]
    },
    {
      "cell_type": "markdown",
      "metadata": {},
      "source": [
        "# Creation of the Multilevel dataset"
      ]
    },
    {
      "cell_type": "markdown",
      "metadata": {},
      "source": [
        "Here we compute for each sample the coarse FEM solution that will then be given as imput to the NN of the fine level"
      ]
    },
    {
      "cell_type": "markdown",
      "metadata": {
        "id": "WP3luMxfaY7N"
      },
      "source": [
        "#### Import libraries"
      ]
    },
    {
      "cell_type": "code",
      "execution_count": 14,
      "metadata": {
        "id": "dUChnEGpNaQE"
      },
      "outputs": [],
      "source": [
        "import numpy as np\n",
        "#import matplotlib as plt\n",
        "from matplotlib import pyplot as plt\n",
        "from itertools import product\n",
        "import timeit\n",
        "import os\n",
        "os.environ['OPENBLAS_NUM_THREADS'] = '1'\n",
        "os.environ['OMP_NUM_THREADS'] = '1'\n",
        "os.environ['KERAS_BACKEND'] = 'tensorflow'\n",
        "\n",
        "import pandas as pd \n",
        "from keras.optimizers import Adam,Nadam,Adamax\n",
        "from keras.models import Model\n",
        "from keras.layers import Input, Dense, LSTM, Dropout\n",
        "from keras.models import Sequential\n",
        "from keras.callbacks import LearningRateScheduler\n",
        "from keras.models import load_model\n",
        "from sklearn.utils import extmath\n",
        "from fenics import *\n",
        "\n",
        "import sys\n",
        "sys.path.append('./solver')\n",
        "from model import *\n",
        "#######################     CONFIGURATIONS     ##########################\n",
        "seed = 29\n",
        "train = True\n",
        "save = True"
      ]
    },
    {
      "cell_type": "markdown",
      "metadata": {},
      "source": [
        "Define the size of the dataset 64000 or 32000"
      ]
    },
    {
      "cell_type": "code",
      "execution_count": 10,
      "metadata": {},
      "outputs": [],
      "source": [
        "N = 64000"
      ]
    },
    {
      "cell_type": "markdown",
      "metadata": {},
      "source": [
        "Import the dataset "
      ]
    },
    {
      "cell_type": "code",
      "execution_count": 12,
      "metadata": {},
      "outputs": [],
      "source": [
        "X_train = np.loadtxt('./data/X_train_'+str(N)+'.csv', delimiter = ',')\n",
        "y_train = np.loadtxt('./data/y_train_'+str(N)+'.csv', delimiter = ',')\n",
        "\n",
        "X_test = np.loadtxt('./data/X_test_'+str(N)+'.csv', delimiter = ',')\n",
        "y_test = np.loadtxt('./data/y_test_'+str(N)+'.csv',delimiter = ',')"
      ]
    },
    {
      "cell_type": "markdown",
      "metadata": {},
      "source": [
        "# Generation of the dataset for the POD-based multilevel HF NN "
      ]
    },
    {
      "cell_type": "markdown",
      "metadata": {},
      "source": [
        "### Generation of the coarse-field for each sample"
      ]
    },
    {
      "cell_type": "code",
      "execution_count": 15,
      "metadata": {},
      "outputs": [],
      "source": [
        "# Set the resolution of the model and the random field parameters.\n",
        "resolution_fine = (50, 50)\n",
        "resolution_coarse = (25, 25)\n",
        "field_mean = 1\n",
        "field_stdev = 1\n",
        "lamb_cov = 0.1\n",
        "mkl = 64\n",
        "# set dataponts\n",
        "x_data = y_data = np.linspace(0,1,26)\n",
        "datapoints = np.array(list(product(x_data, y_data)))\n",
        "n_datapoints = len(x_data)*len(y_data)\n",
        "# Set up the model(s)\n",
        "solver_c = Model(resolution_coarse, field_mean, field_stdev, mkl, lamb_cov)\n",
        "\n",
        "\n",
        "def solver_coarse(x):\n",
        "    solver_c.solve(x)\n",
        "    return solver_c.get_data(datapoints)\n",
        "\n",
        "\n",
        "coarse_sol_train = np.zeros((int(N*0.9), n_datapoints))\n",
        "for i in range( int(N*0.9) ):\n",
        "    coarse_sol_train[i, :] = solver_coarse(X_train[i, :])\n",
        "\n",
        "coarse_sol_test = np.zeros((int(N*0.1), n_datapoints))\n",
        "for i in range( int(N*0.1) ):\n",
        "    coarse_sol_test[i, :] = solver_coarse(X_test[i, :])"
      ]
    },
    {
      "cell_type": "code",
      "execution_count": 6,
      "metadata": {},
      "outputs": [],
      "source": [
        "needed = True \n",
        "saved = False \n",
        "if needed:\n",
        "    np.savetxt(\"./data/coarse_sol_train.csv\",coarse_sol_train , delimiter = \",\")\n",
        "    np.savetxt(\"./data/coarse_sol_test.csv\",coarse_sol_test , delimiter = \",\")\n",
        "\n",
        "if saved:\n",
        "    coarse_sol_train = np.loadtxt(\"./data/coarse_sol_train.csv\" , delimiter = \",\")\n",
        "    coarse_sol_test = np.loadtxt(\"./data/coarse_sol_test.csv\" , delimiter = \",\")"
      ]
    },
    {
      "cell_type": "markdown",
      "metadata": {},
      "source": [
        "### Extraction of the POD and identification of number of components "
      ]
    },
    {
      "cell_type": "markdown",
      "metadata": {},
      "source": [
        "I want $A \\in R^{m\\times n }$ with m dimention of output and n number of samples  "
      ]
    },
    {
      "cell_type": "code",
      "execution_count": 16,
      "metadata": {},
      "outputs": [
        {
          "data": {
            "text/plain": [
              "(676, 15000)"
            ]
          },
          "execution_count": 16,
          "metadata": {},
          "output_type": "execute_result"
        }
      ],
      "source": [
        "n = 15000\n",
        "y_t = coarse_sol_train[0:n,:].T\n",
        "y_t.shape"
      ]
    },
    {
      "cell_type": "code",
      "execution_count": 17,
      "metadata": {},
      "outputs": [
        {
          "data": {
            "text/plain": [
              "((676, 676), (676,), (15000, 15000))"
            ]
          },
          "execution_count": 17,
          "metadata": {},
          "output_type": "execute_result"
        }
      ],
      "source": [
        "U, S, Vh = np.linalg.svd(y_t)\n",
        "U.shape, S.shape, Vh.shape"
      ]
    },
    {
      "cell_type": "code",
      "execution_count": 33,
      "metadata": {},
      "outputs": [
        {
          "data": {
            "text/plain": [
              "array([[-0.06546444, -0.05749896, -0.00026696, -0.05920777, -0.00175937],\n",
              "       [-0.06546444, -0.05749896, -0.00026696, -0.05920777, -0.00175937],\n",
              "       [-0.06546444, -0.05749896, -0.00026696, -0.05920777, -0.00175937],\n",
              "       [-0.06546444, -0.05749896, -0.00026696, -0.05920777, -0.00175937]])"
            ]
          },
          "execution_count": 33,
          "metadata": {},
          "output_type": "execute_result"
        }
      ],
      "source": [
        "U[0:4,0:5]"
      ]
    },
    {
      "cell_type": "markdown",
      "metadata": {},
      "source": [
        "Understand how many components would be useful to retain "
      ]
    },
    {
      "cell_type": "code",
      "execution_count": 18,
      "metadata": {},
      "outputs": [
        {
          "name": "stdout",
          "output_type": "stream",
          "text": [
            "[0.60458697 0.65194673 0.68463165 0.70996309 0.73275232 0.74823011\n",
            " 0.76316054 0.77662205 0.79002475 0.80059268 0.81071281 0.82072181\n",
            " 0.82854664 0.83615306 0.84335518 0.85014168 0.85685826 0.86295538\n",
            " 0.86851606 0.87397979 0.87865524 0.88327406 0.88774496 0.89211147\n",
            " 0.89629783 0.90018875 0.90382636 0.90726231 0.91038975 0.91348686\n",
            " 0.91651644 0.91938915 0.92208904 0.92477399 0.92740533 0.9296854\n",
            " 0.931935   0.9340985  0.93620465 0.93828699 0.94034321 0.94218476\n",
            " 0.94397405 0.945632   0.94728854 0.94891687 0.9504797  0.95184303\n",
            " 0.95319282 0.95428452 0.9553075  0.95632588 0.95733371 0.95832586\n",
            " 0.95930631 0.96021564 0.96106863 0.96190201 0.96269577 0.96347758\n",
            " 0.96425297 0.96501639 0.96572225 0.96642173 0.96711895 0.96780281\n",
            " 0.96846316 0.96907649 0.96967852 0.97025277] .....\n"
          ]
        },
        {
          "data": {
            "image/png": "[encoded data removed]",
            "text/plain": [
              "<Figure size 640x480 with 1 Axes>"
            ]
          },
          "metadata": {},
          "output_type": "display_data"
        }
      ],
      "source": [
        "#print('S is:', S)\n",
        "v = np.cumsum(S)/np.sum(S)\n",
        "print(v[0:70], '.....')\n",
        "plt.plot(v, '-')\n",
        "plt.grid()\n",
        "plt.plot(np.ones(740), 'red')\n",
        "plt.axvline(x=46, color='b', linestyle='-', linewidth=1)\n",
        "plt.show()\n"
      ]
    },
    {
      "cell_type": "markdown",
      "metadata": {},
      "source": [
        "Check the convergence of the first 5 components "
      ]
    },
    {
      "cell_type": "code",
      "execution_count": 38,
      "metadata": {},
      "outputs": [
        {
          "name": "stdout",
          "output_type": "stream",
          "text": [
            "[1. 1. 1. 1. 1.]\n",
            "[0.00172227 0.05138503 0.10841294 0.17843499 0.15014369]\n",
            "[0.00106599 0.01725072 0.01738794 0.03015264 0.0242204 ]\n",
            "[0.00088869 0.01490209 0.03450164 0.06789632 0.06259907]\n",
            "[0.00055103 0.01517281 0.03329196 0.01693244 0.03840014]\n",
            "[0.00045412 0.00668725 0.01829665 0.02874394 0.02913891]\n",
            "[0.00069323 0.01437344 0.02002601 0.01888386 0.0169214 ]\n",
            "[0.00075401 0.00813037 0.00943799 0.01461163 0.01243982]\n",
            "[0.00036893 0.00568195 0.01196598 0.0144799  0.00708793]\n",
            "[0.00037071 0.00695645 0.00864379 0.01411438 0.01543674]\n",
            "[0.00034994 0.00482935 0.00519091 0.01490246 0.015169  ]\n",
            "[0.00034916 0.00753935 0.00991049 0.01191371 0.01126832]\n",
            "[0.00042818 0.00418912 0.01046209 0.01631529 0.01479459]\n",
            "[0.0001815  0.00384042 0.00451141 0.00849613 0.00921949]\n",
            "[0.00015635 0.00503084 0.00789314 0.00458136 0.0076977 ]\n"
          ]
        },
        {
          "data": {
            "image/png": "[encoded data removed]",
            "text/plain": [
              "<Figure size 640x480 with 1 Axes>"
            ]
          },
          "metadata": {},
          "output_type": "display_data"
        }
      ],
      "source": [
        "n_comp = 5\n",
        "values = [1000,2000, 3000, 4000, 5000,6000,7000, 8000, 9000, 10000,11000,12000, 13000, 14000, 15000]\n",
        "l = len(values)\n",
        "\n",
        "diff = np.zeros((n_comp,l))\n",
        "b = np.zeros((676, n_comp))\n",
        "\n",
        "for i, n in enumerate(values):\n",
        "    U2, S2, Vh2 = np.linalg.svd(coarse_sol_train[0:n,:].T)\n",
        "    diff[:,i] = np.linalg.norm((b-np.abs(U2[:, 0:n_comp])), axis=0)\n",
        "    b =  np.abs(U2[:, 0:n_comp])\n",
        "    print(diff[:,i])\n",
        "    \n",
        "\n",
        "#plt.yscale(\"log\")\n",
        "for i in range(n_comp):\n",
        "    plt.plot(diff[i,:])\n",
        "plt.xlabel([1000, 5000, 7500, 10000, 15000])\n",
        "plt.legend(['Comp 1','Comp 2', 'Comp 3', 'Comp 4', 'Comp 5'] )\n",
        "plt.show()"
      ]
    },
    {
      "cell_type": "markdown",
      "metadata": {},
      "source": [
        "### Definition of the POD dataset "
      ]
    },
    {
      "cell_type": "code",
      "execution_count": 19,
      "metadata": {},
      "outputs": [],
      "source": [
        "#########################   PROJECTION ONTO POD BASIS    ##########################\n",
        "n_comp = 10 # number of components to retain \n",
        "\n",
        "basis = U[:,0:n_comp]\n",
        "X_train_pod = coarse_sol_train @ basis\n",
        "X_test_pod = coarse_sol_test @ basis"
      ]
    },
    {
      "cell_type": "code",
      "execution_count": 20,
      "metadata": {},
      "outputs": [],
      "source": [
        "np.savetxt(\"./data/X_train_pod.csv\",X_train_pod , delimiter = \",\")\n",
        "np.savetxt(\"./data/X_test_pod.csv\",X_test_pod , delimiter = \",\")\n",
        "np.savetxt(\"./POD_basis.csv\", basis, delimiter=',')"
      ]
    },
    {
      "cell_type": "markdown",
      "metadata": {},
      "source": [
        "### Definition of the adjustment response \n",
        "\n",
        "The output of the high fidelity will have as objective to indentify the error made by the low fidelity model. \n",
        "Here it therefore computed the error dataset that will the be used in the training of the aforementioned model "
      ]
    },
    {
      "cell_type": "code",
      "execution_count": 21,
      "metadata": {},
      "outputs": [],
      "source": [
        "\n",
        "x_data = y_data = [0.1, 0.3, 0.5, 0.7, 0.9]\n",
        "datapoints = np.array(list(product(x_data, y_data)))\n",
        "n_datapoints = len(x_data)*len(y_data)\n",
        "# Set up the model(s)\n",
        "solver_c = Model(resolution_coarse, field_mean, field_stdev, mkl, lamb_cov)\n",
        "\n",
        "\n",
        "def solver_coarse(x):\n",
        "    solver_c.solve(x)\n",
        "    return solver_c.get_data(datapoints)\n",
        "\n",
        "\n",
        "coarse_sol_train_2 = np.zeros((57600, n_datapoints))\n",
        "for i in range( 57600 ):\n",
        "    coarse_sol_train_2[i, :] = solver_coarse(X_train[i, :])\n",
        "\n",
        "coarse_sol_test_2 = np.zeros((6400, n_datapoints))\n",
        "for i in range( 6400 ):\n",
        "    coarse_sol_test_2[i, :] = solver_coarse(X_test[i, :])"
      ]
    },
    {
      "cell_type": "code",
      "execution_count": null,
      "metadata": {},
      "outputs": [],
      "source": [
        "y_train_adj = y_train - coarse_sol_train_2\n",
        "y_test_adj = y_test - coarse_sol_test_2"
      ]
    },
    {
      "cell_type": "code",
      "execution_count": 19,
      "metadata": {},
      "outputs": [],
      "source": [
        "np.savetxt(\"./data/y_train_adj.csv\",y_train_adj , delimiter = \",\")\n",
        "np.savetxt(\"./data/y_test_adj.csv\",y_test_adj , delimiter = \",\")"
      ]
    }
  ],
  "metadata": {
    "colab": {
      "authorship_tag": "ABX9TyOLKvMRTaykHpCaydJMPm9E",
      "include_colab_link": true,
      "provenance": []
    },
    "kernelspec": {
      "display_name": "Python 3",
      "name": "python3"
    },
    "language_info": {
      "codemirror_mode": {
        "name": "ipython",
        "version": 3
      },
      "file_extension": ".py",
      "mimetype": "text/x-python",
      "name": "python",
      "nbconvert_exporter": "python",
      "pygments_lexer": "ipython3",
      "version": "3.11.9"
    }
  },
  "nbformat": 4,
  "nbformat_minor": 0
}
