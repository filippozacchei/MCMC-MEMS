{
  "cells": [
    {
      "cell_type": "markdown",
      "metadata": {
        "colab_type": "text",
        "id": "view-in-github"
      },
      "source": [
        "<a href=\"https://colab.research.google.com/github/ContiPaolo/Multifidelity-Tutorial/blob/main/MF_POD_Burger's1D.ipynb\" target=\"_parent\"><img src=\"https://colab.research.google.com/assets/colab-badge.svg\" alt=\"Open In Colab\"/></a>"
      ]
    },
    {
      "cell_type": "markdown",
      "metadata": {},
      "source": [
        "# Creation of the Multilevel dataset"
      ]
    },
    {
      "cell_type": "markdown",
      "metadata": {},
      "source": [
        "Here we compute for each sample the coarse FEM solution that will then be given as imput to the NN of the fine level"
      ]
    },
    {
      "cell_type": "markdown",
      "metadata": {
        "id": "WP3luMxfaY7N"
      },
      "source": [
        "#### Import libraries"
      ]
    },
    {
      "cell_type": "code",
      "execution_count": 2,
      "metadata": {
        "id": "dUChnEGpNaQE"
      },
      "outputs": [
        {
          "name": "stderr",
          "output_type": "stream",
          "text": [
            "2024-07-12 17:29:16.387452: I tensorflow/core/platform/cpu_feature_guard.cc:210] This TensorFlow binary is optimized to use available CPU instructions in performance-critical operations.\n",
            "To enable the following instructions: SSE4.1 SSE4.2, in other operations, rebuild TensorFlow with the appropriate compiler flags.\n"
          ]
        }
      ],
      "source": [
        "import numpy as np\n",
        "#import matplotlib as plt\n",
        "from matplotlib import pyplot as plt\n",
        "from itertools import product\n",
        "import timeit\n",
        "import pandas as pd \n",
        "from keras.optimizers import Adam,Nadam,Adamax\n",
        "from keras.models import Model\n",
        "from keras.layers import Input, Dense, LSTM, Dropout\n",
        "from keras.models import Sequential\n",
        "from keras.callbacks import LearningRateScheduler\n",
        "from keras.models import load_model\n",
        "from sklearn.utils import extmath\n",
        "from fenics import *\n",
        "\n",
        "import sys\n",
        "sys.path.append('./solver')\n",
        "from model import *\n",
        "#######################     CONFIGURATIONS     ##########################\n",
        "seed = 29\n",
        "train = True\n",
        "save = True"
      ]
    },
    {
      "cell_type": "markdown",
      "metadata": {},
      "source": [
        "Import the dataset "
      ]
    },
    {
      "cell_type": "code",
      "execution_count": 5,
      "metadata": {},
      "outputs": [],
      "source": [
        "X_train = np.loadtxt('./data/X_train_64000.csv', delimiter = ',')\n",
        "y_train = np.loadtxt('./data/y_train_64000.csv', delimiter = ',')\n",
        "\n",
        "X_test = np.loadtxt('./data/X_test_64000.csv', delimiter = ',')\n",
        "y_test = np.loadtxt('./data/y_test_64000.csv',delimiter = ',')"
      ]
    },
    {
      "cell_type": "code",
      "execution_count": 34,
      "metadata": {},
      "outputs": [],
      "source": [
        "# Set the resolution of the model and the random field parameters.\n",
        "resolution_fine = (50, 50)\n",
        "resolution_coarse = (25, 25)\n",
        "field_mean = 1\n",
        "field_stdev = 1\n",
        "lamb_cov = 0.1\n",
        "mkl = 64\n",
        "\n",
        "# set dataponts\n",
        "x_data = y_data = np.array([0.1, 0.3, 0.5, 0.7, 0.9])\n",
        "#x_data = y_data = np.linspace(0,1,26)\n",
        "datapoints = np.array(list(product(x_data, y_data)))\n",
        "n_datapoints = len(x_data)*len(y_data)\n",
        "\n",
        "# Set up the model(s)\n",
        "solver_c = Model(resolution_coarse, field_mean, field_stdev, mkl, lamb_cov)\n",
        "solver_f = Model(resolution_fine, field_mean, field_stdev, mkl, lamb_cov)\n",
        "\n",
        "\n",
        "def solver_fine(x):\n",
        "    solver_f.solve(x)\n",
        "    return solver_f.get_data(datapoints)\n",
        "\n",
        "\n",
        "def solver_coarse(x):\n",
        "    solver_c.solve(x)\n",
        "    return solver_c.get_data(datapoints)"
      ]
    },
    {
      "cell_type": "markdown",
      "metadata": {},
      "source": [
        "Compare the time for each solver"
      ]
    },
    {
      "cell_type": "code",
      "execution_count": 4,
      "metadata": {},
      "outputs": [
        {
          "name": "stdout",
          "output_type": "stream",
          "text": [
            "Time Coarse 0.005402068479099944\n",
            "Time Fine 0.012302980774999923\n",
            "\n",
            "The speedup coefficient is: 2.277457389257265\n"
          ]
        }
      ],
      "source": [
        "start_0 = timeit.default_timer() \n",
        "coarse_predictions = [solver_coarse(X_train[i,:]) for i in range(10000)]\n",
        "end_0 = timeit.default_timer()\n",
        " \n",
        "start_1 = timeit.default_timer() \n",
        "fine_predictions = [solver_fine(X_train[i,:]) for i in range(10000)]\n",
        "end_1= timeit.default_timer()\n",
        "\n",
        "print('Time Coarse', (end_0-start_0)/10000)\n",
        "print('Time Fine', (end_1-start_1)/10000)\n",
        "print('\\nThe speedup coefficient is:', (end_1 - start_1)/(end_0-start_0))"
      ]
    },
    {
      "cell_type": "markdown",
      "metadata": {},
      "source": [
        "# Time comparison with high fidelity NN"
      ]
    },
    {
      "cell_type": "markdown",
      "metadata": {},
      "source": [
        "Load medium level "
      ]
    },
    {
      "cell_type": "code",
      "execution_count": 4,
      "metadata": {},
      "outputs": [
        {
          "name": "stderr",
          "output_type": "stream",
          "text": [
            "/Users/lucacaroselli/miniconda3/envs/fenics/lib/python3.11/site-packages/keras/src/layers/core/dense.py:87: UserWarning: Do not pass an `input_shape`/`input_dim` argument to a layer. When using Sequential models, prefer using an `Input(shape)` object as the first layer in the model instead.\n",
            "  super().__init__(activity_regularizer=activity_regularizer, **kwargs)\n"
          ]
        }
      ],
      "source": [
        "model_m = Sequential()\n",
        "\n",
        "model_m.add(Dense(256, input_shape=(89,), activation='gelu'))\n",
        "model_m.add(Dense(256, activation='gelu'))\n",
        "model_m.add(Dense(128, activation='gelu'))\n",
        "model_m.add(Dense(25, activation='exponential'))\n",
        "\n",
        "model = load_model('./models/model_HF_25_2.keras')\n",
        "\n",
        "def model_mf(x):\n",
        "    x_c = np.hstack([x,solver_coarse(x)]).reshape((1,89))\n",
        "    return model(x_c)\n"
      ]
    },
    {
      "cell_type": "markdown",
      "metadata": {},
      "source": [
        "Load model low fidelity"
      ]
    },
    {
      "cell_type": "code",
      "execution_count": 8,
      "metadata": {},
      "outputs": [],
      "source": [
        "model_l = Sequential()\n",
        "model_l.add(Dense(64, input_shape=(64,), activation='sigmoid'))\n",
        "model_l.add(Dense(128, activation='sigmoid'))\n",
        "model_l.add(Dense(25, activation='exponential'))\n",
        "model_l = load_model('./models/model_NN_64_sigmoid3.keras')\n",
        "\n",
        "def model_lf (input):\n",
        "    return np.array(model_l(input.reshape((1,64)))).reshape(25)"
      ]
    },
    {
      "cell_type": "markdown",
      "metadata": {},
      "source": [
        "Compare different speed "
      ]
    },
    {
      "cell_type": "code",
      "execution_count": 9,
      "metadata": {},
      "outputs": [
        {
          "name": "stdout",
          "output_type": "stream",
          "text": [
            "Time High Fidelity 0.012173732491700139\n",
            "Time Medium Fidelity 0.00817087467500005\n",
            "Time Low Fidelity 0.00817087467500005\n",
            "\n",
            "The speedup coefficient High / Medium is: 1.4898934295183108\n",
            "\n",
            "The speedup coefficient High / Low is: 7.475379334120851\n",
            "\n",
            "The speedup coefficient Medium / Low is: 5.017391973154533\n"
          ]
        }
      ],
      "source": [
        "start_0 = timeit.default_timer() \n",
        "fine_predictions = [solver_fine(X_train[i,:]) for i in range(10000)]\n",
        "end_0= timeit.default_timer()\n",
        "\n",
        "start_1 = timeit.default_timer() \n",
        "coarse_predictions = [model_mf(X_train[i,:]) for i in range(10000)]\n",
        "end_1 = timeit.default_timer()\n",
        " \n",
        "start_2 = timeit.default_timer() \n",
        "fine_predictions = [model_lf(X_train[i,:]) for i in range(10000)]\n",
        "end_2= timeit.default_timer()\n",
        "\n",
        "\n",
        "print('Time High Fidelity', (end_0-start_0)/10000)\n",
        "print('Time Medium Fidelity', (end_1-start_1)/10000)\n",
        "print('Time Low Fidelity', (end_1-start_1)/10000)\n",
        "print('\\nThe speedup coefficient High / Medium is:', (end_0 - start_0)/(end_1-start_1))\n",
        "print('\\nThe speedup coefficient High / Low is:', (end_0 - start_0)/(end_2-start_2))\n",
        "print('\\nThe speedup coefficient Medium / Low is:', (end_1 - start_1)/(end_2-start_2))"
      ]
    },
    {
      "cell_type": "markdown",
      "metadata": {},
      "source": [
        "# Evaluation of the performance of the POD-ML Model"
      ]
    },
    {
      "cell_type": "code",
      "execution_count": 39,
      "metadata": {},
      "outputs": [],
      "source": [
        "resolution_coarse = (25, 25)\n",
        "field_mean = 1\n",
        "field_stdev = 1\n",
        "lamb_cov = 0.1\n",
        "mkl = 64\n",
        "# set dataponts\n",
        "x_data = y_data = np.linspace(0,1,26)\n",
        "datapoints = np.array(list(product(x_data, y_data)))\n",
        "n_datapoints = len(x_data)*len(y_data)\n",
        "# Set up the model(s)\n",
        "solver_c = Model(resolution_coarse, field_mean, field_stdev, mkl, lamb_cov)\n",
        "b = np.loadtxt(\"./data/POD_basis.csv\", delimiter=',')[:,0:10]\n"
      ]
    },
    {
      "cell_type": "code",
      "execution_count": 40,
      "metadata": {},
      "outputs": [
        {
          "name": "stderr",
          "output_type": "stream",
          "text": [
            "/Users/lucacaroselli/miniconda3/envs/fenics/lib/python3.11/site-packages/keras/src/layers/core/dense.py:87: UserWarning: Do not pass an `input_shape`/`input_dim` argument to a layer. When using Sequential models, prefer using an `Input(shape)` object as the first layer in the model instead.\n",
            "  super().__init__(activity_regularizer=activity_regularizer, **kwargs)\n"
          ]
        }
      ],
      "source": [
        "model_pod = Sequential()\n",
        "\n",
        "# Add layers to the model\n",
        "model_pod.add(Dense(256, input_shape=(74,), activation='gelu'))\n",
        "model_pod.add(Dense(256, activation='gelu'))\n",
        "model_pod.add(Dense(256, activation='gelu'))\n",
        "model_pod.add(Dense(25, activation='linear'))\n",
        "\n",
        "model_pod = load_model('./models/model_HF_POD_2.keras')\n"
      ]
    },
    {
      "cell_type": "code",
      "execution_count": 41,
      "metadata": {},
      "outputs": [],
      "source": [
        "def model_hf_pod(x):\n",
        "    solver_c.solve(x)\n",
        "    pod_coeff = solver_c.get_data(datapoints) @ b\n",
        "    x_new = np.hstack((x,pod_coeff))\n",
        "    return np.array(model_pod(x_new.reshape((1,74)))).reshape(25)\n"
      ]
    },
    {
      "cell_type": "code",
      "execution_count": 42,
      "metadata": {},
      "outputs": [
        {
          "data": {
            "image/png": "[encoded data removed]",
            "text/plain": [
              "<Figure size 1000x600 with 6 Axes>"
            ]
          },
          "metadata": {},
          "output_type": "display_data"
        }
      ],
      "source": [
        "sample = 150\n",
        "\n",
        "y_true = y_test[sample]\n",
        "y_pred = model_hf_pod(X_test[sample,:])\n",
        "\n",
        "# Define the sampling points.\n",
        "x_data = y_data = np.array([0.1, 0.3, 0.5, 0.7, 0.9])\n",
        "# Grid to plot the basis \n",
        "X,Y = np.meshgrid(x_data, y_data)\n",
        "\n",
        "fig = plt.figure(figsize=(10,6))\n",
        "plt.subplots_adjust(hspace=0.8)\n",
        "title = 'Comparison of true and reconstructed output'\n",
        "fig.suptitle(title, fontsize=14)\n",
        "    \n",
        "ax = fig.add_subplot(2,2, 1)\n",
        "pcm = plt.pcolormesh(X, Y, y_true.reshape((5, 5)))\n",
        "ax.title.set_text('True signal sample: ')\n",
        "plt.colorbar(pcm, ax=ax)\n",
        "    \n",
        "ax = fig.add_subplot(2,2, 2)\n",
        "pcm = plt.pcolormesh(X, Y, y_pred.reshape((5, 5)) )\n",
        "ax.title.set_text('Predicted Signal: ')\n",
        "plt.colorbar(pcm, ax=ax)\n",
        "\n",
        "\n",
        "ax = fig.add_subplot(2,2, 3)\n",
        "plt.plot(range(25), y_true, c='red', label='Real', linewidth=1.5)\n",
        "plt.plot(range(25), y_pred, 'green', label='Pred', linewidth=1.5)\n",
        "plt.xlabel('sensor number')\n",
        "plt.ylabel('Hydraulic pressure')\n",
        "plt.grid(True, linestyle='--', alpha=0.5)\n",
        "\n",
        "ax = fig.add_subplot(2,2, 4)\n",
        "plt.plot(range(25), y_true-y_pred, c='red', label='obs-reconst', linewidth=1.5)\n",
        "plt.xlabel('sensor number')\n",
        "plt.ylabel('Hydraulic pressure')\n",
        "plt.grid(True, linestyle='--', alpha=0.5)\n",
        "plt.show()\n"
      ]
    },
    {
      "cell_type": "markdown",
      "metadata": {},
      "source": [
        "Compare the speed "
      ]
    },
    {
      "cell_type": "code",
      "execution_count": 46,
      "metadata": {},
      "outputs": [
        {
          "name": "stdout",
          "output_type": "stream",
          "text": [
            "Time High Fidelity 0.018717722245899494\n",
            "Time Low Fidelity 0.012871506916702493\n",
            "\n",
            "The speedup coefficient High / Low is: 1.454198204377357\n"
          ]
        }
      ],
      "source": [
        "start_0 = timeit.default_timer() \n",
        "fine_predictions = [solver_fine(X_train[i,:]) for i in range(10000)]\n",
        "end_0= timeit.default_timer()\n",
        "\n",
        "start_1 = timeit.default_timer() \n",
        "coarse_predictions = [model_hf_pod(X_train[i,:]) for i in range(10000)]\n",
        "end_1 = timeit.default_timer()\n",
        "\n",
        "print('Time High Fidelity', (end_0-start_0)/10000)\n",
        "print('Time Low Fidelity', (end_1-start_1)/10000)\n",
        "print('\\nThe speedup coefficient High / Low is:', (end_0 - start_0)/(end_1-start_1))"
      ]
    }
  ],
  "metadata": {
    "colab": {
      "authorship_tag": "ABX9TyOLKvMRTaykHpCaydJMPm9E",
      "include_colab_link": true,
      "provenance": []
    },
    "kernelspec": {
      "display_name": "Python 3",
      "name": "python3"
    },
    "language_info": {
      "codemirror_mode": {
        "name": "ipython",
        "version": 3
      },
      "file_extension": ".py",
      "mimetype": "text/x-python",
      "name": "python",
      "nbconvert_exporter": "python",
      "pygments_lexer": "ipython3",
      "version": "3.11.9"
    }
  },
  "nbformat": 4,
  "nbformat_minor": 0
}
