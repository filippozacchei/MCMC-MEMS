{
  "cells": [
    {
      "cell_type": "markdown",
      "metadata": {
        "colab_type": "text",
        "id": "view-in-github"
      },
      "source": [
        "<a href=\"https://colab.research.google.com/github/ContiPaolo/Multifidelity-Tutorial/blob/main/MF_POD_Burger's1D.ipynb\" target=\"_parent\"><img src=\"https://colab.research.google.com/assets/colab-badge.svg\" alt=\"Open In Colab\"/></a>"
      ]
    },
    {
      "cell_type": "markdown",
      "metadata": {},
      "source": [
        "# Creation of the Multilevel dataset"
      ]
    },
    {
      "cell_type": "markdown",
      "metadata": {},
      "source": [
        "Here we compute for each sample the coarse FEM solution that will then be given as imput to the NN of the fine level"
      ]
    },
    {
      "cell_type": "markdown",
      "metadata": {
        "id": "WP3luMxfaY7N"
      },
      "source": [
        "#### Import libraries"
      ]
    },
    {
      "cell_type": "code",
      "execution_count": 1,
      "metadata": {
        "id": "dUChnEGpNaQE"
      },
      "outputs": [
        {
          "name": "stderr",
          "output_type": "stream",
          "text": [
            "2024-07-12 15:13:59.771860: I tensorflow/core/platform/cpu_feature_guard.cc:210] This TensorFlow binary is optimized to use available CPU instructions in performance-critical operations.\n",
            "To enable the following instructions: SSE4.1 SSE4.2, in other operations, rebuild TensorFlow with the appropriate compiler flags.\n"
          ]
        }
      ],
      "source": [
        "import numpy as np\n",
        "#import matplotlib as plt\n",
        "from matplotlib import pyplot as plt\n",
        "from itertools import product\n",
        "import timeit\n",
        "import pandas as pd \n",
        "from keras.optimizers import Adam,Nadam,Adamax\n",
        "from keras.models import Model\n",
        "from keras.layers import Input, Dense, LSTM, Dropout\n",
        "from keras.models import Sequential\n",
        "from keras.callbacks import LearningRateScheduler\n",
        "from keras.models import load_model\n",
        "from sklearn.utils import extmath\n",
        "from fenics import *\n",
        "\n",
        "import sys\n",
        "sys.path.append('./solver')\n",
        "from model import *\n",
        "#######################     CONFIGURATIONS     ##########################\n",
        "seed = 29\n",
        "train = True\n",
        "save = True"
      ]
    },
    {
      "cell_type": "markdown",
      "metadata": {},
      "source": [
        "Import the dataset "
      ]
    },
    {
      "cell_type": "code",
      "execution_count": 5,
      "metadata": {},
      "outputs": [],
      "source": [
        "X_train = np.loadtxt('./data/X_train.csv', delimiter = ',')\n",
        "y_train = np.loadtxt('./data/y_train.csv', delimiter = ',')\n",
        "\n",
        "X_test = np.loadtxt('./data/X_test.csv', delimiter = ',')\n",
        "y_test = np.loadtxt('./data/y_test.csv',delimiter = ',')"
      ]
    },
    {
      "cell_type": "code",
      "execution_count": 5,
      "metadata": {},
      "outputs": [],
      "source": [
        "# Set the resolution of the model and the random field parameters.\n",
        "resolution_fine = (50, 50)\n",
        "resolution_coarse = (25, 25)\n",
        "field_mean = 1\n",
        "field_stdev = 1\n",
        "lamb_cov = 0.1\n",
        "mkl = 64\n",
        "\n",
        "# set dataponts\n",
        "x_data = y_data = np.array([0.1, 0.3, 0.5, 0.7, 0.9])\n",
        "#x_data = y_data = np.linspace(0,1,26)\n",
        "datapoints = np.array(list(product(x_data, y_data)))\n",
        "n_datapoints = len(x_data)*len(y_data)\n",
        "\n",
        "# Set up the model(s)\n",
        "solver_c = Model(resolution_coarse, field_mean, field_stdev, mkl, lamb_cov)\n",
        "solver_f = Model(resolution_fine, field_mean, field_stdev, mkl, lamb_cov)\n",
        "\n",
        "\n",
        "def solver_fine(x):\n",
        "    solver_f.solve(x)\n",
        "    return solver_f.get_data(datapoints)\n",
        "\n",
        "\n",
        "def solver_coarse(x):\n",
        "    solver_c.solve(x)\n",
        "    return solver_c.get_data(datapoints)"
      ]
    },
    {
      "cell_type": "markdown",
      "metadata": {},
      "source": [
        "Calculate the dataset that will be used to train the multilevel NN "
      ]
    },
    {
      "cell_type": "code",
      "execution_count": 7,
      "metadata": {},
      "outputs": [],
      "source": [
        "coarse_sol = np.zeros((57600, n_datapoints))\n",
        "for i in range( 57600 ):\n",
        "    coarse_sol[i, :] = solver_coarse(X_train[i, :])\n",
        "\n",
        "X_full_train = np.hstack((X_train, coarse_sol))\n",
        "\n",
        "fine_sol = np.zeros((6400, n_datapoints))\n",
        "for i in range( 6400 ):\n",
        "    fine_sol[i, :] = solver_coarse(X_test[i, :])\n",
        "\n",
        "X_full_test = np.hstack((X_test, fine_sol))\n",
        "\n",
        "np.savetxt(\"./data/X_full_train.csv\", X_full_train, delimiter = \",\")\n",
        "np.savetxt(\"./data/X_full_test.csv\", X_full_test, delimiter = \",\")"
      ]
    },
    {
      "cell_type": "markdown",
      "metadata": {},
      "source": [
        "# Generation of the dataset for the POD-based multilevel HF NN "
      ]
    },
    {
      "cell_type": "markdown",
      "metadata": {},
      "source": [
        "### Generation of the coarse-field for each sample"
      ]
    },
    {
      "cell_type": "code",
      "execution_count": null,
      "metadata": {},
      "outputs": [],
      "source": [
        "# Set the resolution of the model and the random field parameters.\n",
        "resolution_fine = (50, 50)\n",
        "resolution_coarse = (25, 25)\n",
        "field_mean = 1\n",
        "field_stdev = 1\n",
        "lamb_cov = 0.1\n",
        "mkl = 64\n",
        "# set dataponts\n",
        "x_data = y_data = np.linspace(0,1,26)\n",
        "datapoints = np.array(list(product(x_data, y_data)))\n",
        "n_datapoints = len(x_data)*len(y_data)\n",
        "# Set up the model(s)\n",
        "solver_c = Model(resolution_coarse, field_mean, field_stdev, mkl, lamb_cov)\n",
        "\n",
        "\n",
        "def solver_coarse(x):\n",
        "    solver_c.solve(x)\n",
        "    return solver_c.get_data(datapoints)\n",
        "\n",
        "\n",
        "coarse_sol_train = np.zeros((57600, n_datapoints))\n",
        "for i in range( 57600 ):\n",
        "    coarse_sol_train[i, :] = solver_coarse(X_train[i, :])\n",
        "\n",
        "coarse_sol_test = np.zeros((6400, n_datapoints))\n",
        "for i in range( 6400 ):\n",
        "    coarse_sol_test[i, :] = solver_coarse(X_test[i, :])"
      ]
    },
    {
      "cell_type": "code",
      "execution_count": 6,
      "metadata": {},
      "outputs": [],
      "source": [
        "done = True \n",
        "if not done:\n",
        "    np.savetxt(\"./data/coarse_sol_train.csv\",coarse_sol_train , delimiter = \",\")\n",
        "    np.savetxt(\"./data/coarse_sol_test.csv\",coarse_sol_test , delimiter = \",\")\n",
        "\n",
        "coarse_sol_train = np.loadtxt(\"./data/coarse_sol_train.csv\" , delimiter = \",\")\n",
        "coarse_sol_test = np.loadtxt(\"./data/coarse_sol_test.csv\" , delimiter = \",\")"
      ]
    },
    {
      "cell_type": "markdown",
      "metadata": {},
      "source": [
        "### Extraction of the POD and identification of number of components "
      ]
    },
    {
      "cell_type": "markdown",
      "metadata": {},
      "source": [
        "I want $A \\in R^{m\\times n }$ with m dimention of output and n number of samples  "
      ]
    },
    {
      "cell_type": "code",
      "execution_count": 10,
      "metadata": {},
      "outputs": [
        {
          "data": {
            "text/plain": [
              "(676, 10000)"
            ]
          },
          "execution_count": 10,
          "metadata": {},
          "output_type": "execute_result"
        }
      ],
      "source": [
        "n = 10000\n",
        "y_t = coarse_sol_train[0:n,:].T\n",
        "y_t.shape"
      ]
    },
    {
      "cell_type": "code",
      "execution_count": 11,
      "metadata": {},
      "outputs": [
        {
          "data": {
            "text/plain": [
              "((676, 676), (676,), (10000, 10000))"
            ]
          },
          "execution_count": 11,
          "metadata": {},
          "output_type": "execute_result"
        }
      ],
      "source": [
        "U, S, Vh = np.linalg.svd(y_t)\n",
        "U.shape, S.shape, Vh.shape"
      ]
    },
    {
      "cell_type": "code",
      "execution_count": 33,
      "metadata": {},
      "outputs": [
        {
          "data": {
            "text/plain": [
              "array([[-0.06546444, -0.05749896, -0.00026696, -0.05920777, -0.00175937],\n",
              "       [-0.06546444, -0.05749896, -0.00026696, -0.05920777, -0.00175937],\n",
              "       [-0.06546444, -0.05749896, -0.00026696, -0.05920777, -0.00175937],\n",
              "       [-0.06546444, -0.05749896, -0.00026696, -0.05920777, -0.00175937]])"
            ]
          },
          "execution_count": 33,
          "metadata": {},
          "output_type": "execute_result"
        }
      ],
      "source": [
        "U[0:4,0:5]"
      ]
    },
    {
      "cell_type": "markdown",
      "metadata": {},
      "source": [
        "Understand how many components would be useful to retain "
      ]
    },
    {
      "cell_type": "code",
      "execution_count": 13,
      "metadata": {},
      "outputs": [
        {
          "name": "stdout",
          "output_type": "stream",
          "text": [
            "[0.60471273 0.65145979 0.68401852 0.70956627 0.73226776 0.7476212\n",
            " 0.76256401 0.77618292 0.78966797 0.80024268 0.81038143 0.82035347\n",
            " 0.82823303 0.83592088 0.84319789 0.85004146 0.8567591  0.86291566\n",
            " 0.86853848 0.87399422 0.87866552 0.88321254 0.88768747 0.89207976\n",
            " 0.89629966 0.90016512 0.90380416 0.90722645 0.91033245 0.91338571\n",
            " 0.916412   0.91925717 0.92198226 0.92466029 0.92728453 0.92958446\n",
            " 0.93184378 0.93400774 0.93613371 0.938237   0.94030959 0.94211854\n",
            " 0.94390763 0.94558314 0.94724911 0.94887082 0.95044192 0.9518176\n",
            " 0.9531624  0.95424304 0.95527002 0.95628212 0.95728583 0.95827763\n",
            " 0.95925126 0.96014436 0.96100226 0.96184044 0.96264123 0.9634338\n",
            " 0.96420239 0.9649635  0.96567582 0.96638155 0.96708211 0.96775497\n",
            " 0.96842621 0.96903734 0.96963726 0.97021369] .....\n"
          ]
        },
        {
          "data": {
            "image/png": "[encoded data removed]",
            "text/plain": [
              "<Figure size 640x480 with 1 Axes>"
            ]
          },
          "metadata": {},
          "output_type": "display_data"
        }
      ],
      "source": [
        "#print('S is:', S)\n",
        "v = np.cumsum(S)/np.sum(S)\n",
        "print(v[0:70], '.....')\n",
        "plt.plot(v, '-')\n",
        "plt.grid()\n",
        "plt.plot(np.ones(740), 'red')\n",
        "plt.axvline(x=46, color='b', linestyle='-', linewidth=1)\n",
        "plt.show()\n"
      ]
    },
    {
      "cell_type": "markdown",
      "metadata": {},
      "source": [
        "Check the convergence of the first 5 components "
      ]
    },
    {
      "cell_type": "code",
      "execution_count": 38,
      "metadata": {},
      "outputs": [
        {
          "name": "stdout",
          "output_type": "stream",
          "text": [
            "[1. 1. 1. 1. 1.]\n",
            "[0.00172227 0.05138503 0.10841294 0.17843499 0.15014369]\n",
            "[0.00106599 0.01725072 0.01738794 0.03015264 0.0242204 ]\n",
            "[0.00088869 0.01490209 0.03450164 0.06789632 0.06259907]\n",
            "[0.00055103 0.01517281 0.03329196 0.01693244 0.03840014]\n",
            "[0.00045412 0.00668725 0.01829665 0.02874394 0.02913891]\n",
            "[0.00069323 0.01437344 0.02002601 0.01888386 0.0169214 ]\n",
            "[0.00075401 0.00813037 0.00943799 0.01461163 0.01243982]\n",
            "[0.00036893 0.00568195 0.01196598 0.0144799  0.00708793]\n",
            "[0.00037071 0.00695645 0.00864379 0.01411438 0.01543674]\n",
            "[0.00034994 0.00482935 0.00519091 0.01490246 0.015169  ]\n",
            "[0.00034916 0.00753935 0.00991049 0.01191371 0.01126832]\n",
            "[0.00042818 0.00418912 0.01046209 0.01631529 0.01479459]\n",
            "[0.0001815  0.00384042 0.00451141 0.00849613 0.00921949]\n",
            "[0.00015635 0.00503084 0.00789314 0.00458136 0.0076977 ]\n"
          ]
        },
        {
          "data": {
            "image/png": "[encoded data removed]",
            "text/plain": [
              "<Figure size 640x480 with 1 Axes>"
            ]
          },
          "metadata": {},
          "output_type": "display_data"
        }
      ],
      "source": [
        "n_comp = 5\n",
        "values = [1000,2000, 3000, 4000, 5000,6000,7000, 8000, 9000, 10000,11000,12000, 13000, 14000, 15000]\n",
        "l = len(values)\n",
        "\n",
        "diff = np.zeros((n_comp,l))\n",
        "b = np.zeros((676, n_comp))\n",
        "\n",
        "for i, n in enumerate(values):\n",
        "    U2, S2, Vh2 = np.linalg.svd(coarse_sol_train[0:n,:].T)\n",
        "    diff[:,i] = np.linalg.norm((b-np.abs(U2[:, 0:n_comp])), axis=0)\n",
        "    b =  np.abs(U2[:, 0:n_comp])\n",
        "    print(diff[:,i])\n",
        "    \n",
        "\n",
        "#plt.yscale(\"log\")\n",
        "for i in range(n_comp):\n",
        "    plt.plot(diff[i,:])\n",
        "plt.xlabel([1000, 5000, 7500, 10000, 15000])\n",
        "plt.legend(['Comp 1','Comp 2', 'Comp 3', 'Comp 4', 'Comp 5'] )\n",
        "plt.show()"
      ]
    },
    {
      "cell_type": "markdown",
      "metadata": {},
      "source": [
        "### Definition of the POD dataset "
      ]
    },
    {
      "cell_type": "code",
      "execution_count": 39,
      "metadata": {},
      "outputs": [],
      "source": [
        "#########################   PROJECTION ONTO POD BASIS    ##########################\n",
        "n_comp = 46 # number of components to retain \n",
        "\n",
        "basis = U[:,0:n_comp]\n",
        "X_train_pod = coarse_sol_train @ basis\n",
        "X_test_pod = coarse_sol_test @ basis"
      ]
    },
    {
      "cell_type": "code",
      "execution_count": 40,
      "metadata": {},
      "outputs": [],
      "source": [
        "np.savetxt(\"./data/X_train_pod.csv\",X_train_pod , delimiter = \",\")\n",
        "np.savetxt(\"./data/X_test_pod.csv\",X_test_pod , delimiter = \",\")\n",
        "np.savetxt(\"./data/POD_basis.csv\", basis, delimiter=',')"
      ]
    },
    {
      "cell_type": "markdown",
      "metadata": {},
      "source": [
        "### Definition of the adjustment response \n",
        "\n",
        "The output of the high fidelity will have as objective to indentify the error made by the low fidelity model. \n",
        "Here it therefore computed the error dataset that will the be used in the training of the aforementioned model "
      ]
    },
    {
      "cell_type": "code",
      "execution_count": 89,
      "metadata": {},
      "outputs": [
        {
          "ename": "KeyboardInterrupt",
          "evalue": "",
          "output_type": "error",
          "traceback": [
            "\u001b[0;31m---------------------------------------------------------------------------\u001b[0m",
            "\u001b[0;31mKeyboardInterrupt\u001b[0m                         Traceback (most recent call last)",
            "Cell \u001b[0;32mIn[89], line 15\u001b[0m\n\u001b[1;32m     13\u001b[0m coarse_sol \u001b[38;5;241m=\u001b[39m np\u001b[38;5;241m.\u001b[39mzeros((\u001b[38;5;241m57600\u001b[39m, n_datapoints))\n\u001b[1;32m     14\u001b[0m \u001b[38;5;28;01mfor\u001b[39;00m i \u001b[38;5;129;01min\u001b[39;00m \u001b[38;5;28mrange\u001b[39m( \u001b[38;5;241m57600\u001b[39m ):\n\u001b[0;32m---> 15\u001b[0m     coarse_sol[i, :] \u001b[38;5;241m=\u001b[39m \u001b[43msolver_coarse\u001b[49m\u001b[43m(\u001b[49m\u001b[43mX_train\u001b[49m\u001b[43m[\u001b[49m\u001b[43mi\u001b[49m\u001b[43m,\u001b[49m\u001b[43m \u001b[49m\u001b[43m:\u001b[49m\u001b[43m]\u001b[49m\u001b[43m)\u001b[49m\n\u001b[1;32m     17\u001b[0m coarse_sol_t \u001b[38;5;241m=\u001b[39m np\u001b[38;5;241m.\u001b[39mzeros((\u001b[38;5;241m6400\u001b[39m, n_datapoints))\n\u001b[1;32m     18\u001b[0m \u001b[38;5;28;01mfor\u001b[39;00m i \u001b[38;5;129;01min\u001b[39;00m \u001b[38;5;28mrange\u001b[39m( \u001b[38;5;241m6400\u001b[39m ):\n",
            "Cell \u001b[0;32mIn[89], line 9\u001b[0m, in \u001b[0;36msolver_coarse\u001b[0;34m(x)\u001b[0m\n\u001b[1;32m      8\u001b[0m \u001b[38;5;28;01mdef\u001b[39;00m \u001b[38;5;21msolver_coarse\u001b[39m(x):\n\u001b[0;32m----> 9\u001b[0m     \u001b[43msolver_c\u001b[49m\u001b[38;5;241;43m.\u001b[39;49m\u001b[43msolve\u001b[49m\u001b[43m(\u001b[49m\u001b[43mx\u001b[49m\u001b[43m)\u001b[49m\n\u001b[1;32m     10\u001b[0m     \u001b[38;5;28;01mreturn\u001b[39;00m solver_c\u001b[38;5;241m.\u001b[39mget_data(datapoints)\n",
            "File \u001b[0;32m~/Desktop/STUDIO/Uni_Magistrale/TESI/POD_Groundwaterflow/./solver/model.py:38\u001b[0m, in \u001b[0;36mModel.solve\u001b[0;34m(self, parameters)\u001b[0m\n\u001b[1;32m     36\u001b[0m \u001b[38;5;28mself\u001b[39m\u001b[38;5;241m.\u001b[39mparameters \u001b[38;5;241m=\u001b[39m \u001b[38;5;28mself\u001b[39m\u001b[38;5;241m.\u001b[39mrandom_process\u001b[38;5;241m.\u001b[39mparameters\n\u001b[1;32m     37\u001b[0m \u001b[38;5;28mself\u001b[39m\u001b[38;5;241m.\u001b[39msolver\u001b[38;5;241m.\u001b[39mset_conductivity(\u001b[38;5;28mself\u001b[39m\u001b[38;5;241m.\u001b[39mrandom_process\u001b[38;5;241m.\u001b[39mrandom_field)\n\u001b[0;32m---> 38\u001b[0m \u001b[38;5;28;43mself\u001b[39;49m\u001b[38;5;241;43m.\u001b[39;49m\u001b[43msolver\u001b[49m\u001b[38;5;241;43m.\u001b[39;49m\u001b[43msolve\u001b[49m\u001b[43m(\u001b[49m\u001b[43m)\u001b[49m\n",
            "File \u001b[0;32m~/Desktop/STUDIO/Uni_Magistrale/TESI/POD_Groundwaterflow/./solver/GwFlow.py:106\u001b[0m, in \u001b[0;36mGwFlowSolver.solve\u001b[0;34m(self)\u001b[0m\n\u001b[1;32m    104\u001b[0m a, L \u001b[38;5;241m=\u001b[39m lhs(F), rhs(F)\n\u001b[1;32m    105\u001b[0m \u001b[38;5;28mself\u001b[39m\u001b[38;5;241m.\u001b[39mh \u001b[38;5;241m=\u001b[39m Function(\u001b[38;5;28mself\u001b[39m\u001b[38;5;241m.\u001b[39mV)\n\u001b[0;32m--> 106\u001b[0m \u001b[43msolve\u001b[49m\u001b[43m(\u001b[49m\u001b[43ma\u001b[49m\u001b[43m \u001b[49m\u001b[38;5;241;43m==\u001b[39;49m\u001b[43m \u001b[49m\u001b[43mL\u001b[49m\u001b[43m,\u001b[49m\u001b[43m \u001b[49m\u001b[38;5;28;43mself\u001b[39;49m\u001b[38;5;241;43m.\u001b[39;49m\u001b[43mh\u001b[49m\u001b[43m,\u001b[49m\u001b[43m \u001b[49m\u001b[38;5;28;43mself\u001b[39;49m\u001b[38;5;241;43m.\u001b[39;49m\u001b[43mbcs\u001b[49m\u001b[43m)\u001b[49m\n",
            "File \u001b[0;32m~/miniconda3/envs/fenics/lib/python3.11/site-packages/dolfin/fem/solving.py:220\u001b[0m, in \u001b[0;36msolve\u001b[0;34m(*args, **kwargs)\u001b[0m\n\u001b[1;32m    217\u001b[0m \u001b[38;5;66;03m# Call variational problem solver if we get an equation (but not a\u001b[39;00m\n\u001b[1;32m    218\u001b[0m \u001b[38;5;66;03m# tolerance)\u001b[39;00m\n\u001b[1;32m    219\u001b[0m \u001b[38;5;28;01melif\u001b[39;00m \u001b[38;5;28misinstance\u001b[39m(args[\u001b[38;5;241m0\u001b[39m], ufl\u001b[38;5;241m.\u001b[39mclasses\u001b[38;5;241m.\u001b[39mEquation):\n\u001b[0;32m--> 220\u001b[0m     \u001b[43m_solve_varproblem\u001b[49m\u001b[43m(\u001b[49m\u001b[38;5;241;43m*\u001b[39;49m\u001b[43margs\u001b[49m\u001b[43m,\u001b[49m\u001b[43m \u001b[49m\u001b[38;5;241;43m*\u001b[39;49m\u001b[38;5;241;43m*\u001b[39;49m\u001b[43mkwargs\u001b[49m\u001b[43m)\u001b[49m\n\u001b[1;32m    222\u001b[0m \u001b[38;5;66;03m# Default case, just call the wrapped C++ solve function\u001b[39;00m\n\u001b[1;32m    223\u001b[0m \u001b[38;5;28;01melse\u001b[39;00m:\n\u001b[1;32m    224\u001b[0m     \u001b[38;5;28;01mif\u001b[39;00m kwargs:\n",
            "File \u001b[0;32m~/miniconda3/envs/fenics/lib/python3.11/site-packages/dolfin/fem/solving.py:241\u001b[0m, in \u001b[0;36m_solve_varproblem\u001b[0;34m(*args, **kwargs)\u001b[0m\n\u001b[1;32m    237\u001b[0m \u001b[38;5;66;03m# Solve linear variational problem\u001b[39;00m\n\u001b[1;32m    238\u001b[0m \u001b[38;5;28;01mif\u001b[39;00m \u001b[38;5;28misinstance\u001b[39m(eq\u001b[38;5;241m.\u001b[39mlhs, ufl\u001b[38;5;241m.\u001b[39mForm) \u001b[38;5;129;01mand\u001b[39;00m \u001b[38;5;28misinstance\u001b[39m(eq\u001b[38;5;241m.\u001b[39mrhs, ufl\u001b[38;5;241m.\u001b[39mForm):\n\u001b[1;32m    239\u001b[0m \n\u001b[1;32m    240\u001b[0m     \u001b[38;5;66;03m# Create problem\u001b[39;00m\n\u001b[0;32m--> 241\u001b[0m     problem \u001b[38;5;241m=\u001b[39m \u001b[43mLinearVariationalProblem\u001b[49m\u001b[43m(\u001b[49m\u001b[43meq\u001b[49m\u001b[38;5;241;43m.\u001b[39;49m\u001b[43mlhs\u001b[49m\u001b[43m,\u001b[49m\u001b[43m \u001b[49m\u001b[43meq\u001b[49m\u001b[38;5;241;43m.\u001b[39;49m\u001b[43mrhs\u001b[49m\u001b[43m,\u001b[49m\u001b[43m \u001b[49m\u001b[43mu\u001b[49m\u001b[43m,\u001b[49m\u001b[43m \u001b[49m\u001b[43mbcs\u001b[49m\u001b[43m,\u001b[49m\n\u001b[1;32m    242\u001b[0m \u001b[43m                                       \u001b[49m\u001b[43mform_compiler_parameters\u001b[49m\u001b[38;5;241;43m=\u001b[39;49m\u001b[43mform_compiler_parameters\u001b[49m\u001b[43m)\u001b[49m\n\u001b[1;32m    244\u001b[0m     \u001b[38;5;66;03m# Create solver and call solve\u001b[39;00m\n\u001b[1;32m    245\u001b[0m     solver \u001b[38;5;241m=\u001b[39m LinearVariationalSolver(problem)\n",
            "File \u001b[0;32m~/miniconda3/envs/fenics/lib/python3.11/site-packages/dolfin/fem/problem.py:56\u001b[0m, in \u001b[0;36mLinearVariationalProblem.__init__\u001b[0;34m(self, a, L, u, bcs, form_compiler_parameters)\u001b[0m\n\u001b[1;32m     54\u001b[0m \u001b[38;5;28;01melse\u001b[39;00m:\n\u001b[1;32m     55\u001b[0m     L \u001b[38;5;241m=\u001b[39m Form(L, form_compiler_parameters\u001b[38;5;241m=\u001b[39mform_compiler_parameters)\n\u001b[0;32m---> 56\u001b[0m a \u001b[38;5;241m=\u001b[39m \u001b[43mForm\u001b[49m\u001b[43m(\u001b[49m\u001b[43ma\u001b[49m\u001b[43m,\u001b[49m\u001b[43m \u001b[49m\u001b[43mform_compiler_parameters\u001b[49m\u001b[38;5;241;43m=\u001b[39;49m\u001b[43mform_compiler_parameters\u001b[49m\u001b[43m)\u001b[49m\n\u001b[1;32m     58\u001b[0m \u001b[38;5;66;03m# Initialize C++ base class\u001b[39;00m\n\u001b[1;32m     59\u001b[0m cpp\u001b[38;5;241m.\u001b[39mfem\u001b[38;5;241m.\u001b[39mLinearVariationalProblem\u001b[38;5;241m.\u001b[39m\u001b[38;5;21m__init__\u001b[39m(\u001b[38;5;28mself\u001b[39m, a, L, u\u001b[38;5;241m.\u001b[39m_cpp_object, bcs)\n",
            "File \u001b[0;32m~/miniconda3/envs/fenics/lib/python3.11/site-packages/dolfin/fem/form.py:43\u001b[0m, in \u001b[0;36mForm.__init__\u001b[0;34m(self, form, **kwargs)\u001b[0m\n\u001b[1;32m     40\u001b[0m \u001b[38;5;28;01mif\u001b[39;00m form_compiler_parameters \u001b[38;5;129;01mis\u001b[39;00m \u001b[38;5;28;01mNone\u001b[39;00m:\n\u001b[1;32m     41\u001b[0m     form_compiler_parameters \u001b[38;5;241m=\u001b[39m {\u001b[38;5;124m\"\u001b[39m\u001b[38;5;124mexternal_include_dirs\u001b[39m\u001b[38;5;124m\"\u001b[39m: dolfin_pc[\u001b[38;5;124m\"\u001b[39m\u001b[38;5;124minclude_dirs\u001b[39m\u001b[38;5;124m\"\u001b[39m]}\n\u001b[0;32m---> 43\u001b[0m ufc_form \u001b[38;5;241m=\u001b[39m \u001b[43mffc_jit\u001b[49m\u001b[43m(\u001b[49m\u001b[43mform\u001b[49m\u001b[43m,\u001b[49m\u001b[43m \u001b[49m\u001b[43mform_compiler_parameters\u001b[49m\u001b[38;5;241;43m=\u001b[39;49m\u001b[43mform_compiler_parameters\u001b[49m\u001b[43m,\u001b[49m\n\u001b[1;32m     44\u001b[0m \u001b[43m                   \u001b[49m\u001b[43mmpi_comm\u001b[49m\u001b[38;5;241;43m=\u001b[39;49m\u001b[43mmesh\u001b[49m\u001b[38;5;241;43m.\u001b[39;49m\u001b[43mmpi_comm\u001b[49m\u001b[43m(\u001b[49m\u001b[43m)\u001b[49m\u001b[43m)\u001b[49m\n\u001b[1;32m     45\u001b[0m ufc_form \u001b[38;5;241m=\u001b[39m cpp\u001b[38;5;241m.\u001b[39mfem\u001b[38;5;241m.\u001b[39mmake_ufc_form(ufc_form[\u001b[38;5;241m0\u001b[39m])\n\u001b[1;32m     47\u001b[0m function_spaces \u001b[38;5;241m=\u001b[39m kwargs\u001b[38;5;241m.\u001b[39mget(\u001b[38;5;124m\"\u001b[39m\u001b[38;5;124mfunction_spaces\u001b[39m\u001b[38;5;124m\"\u001b[39m)\n",
            "File \u001b[0;32m~/miniconda3/envs/fenics/lib/python3.11/site-packages/dolfin/jit/jit.py:47\u001b[0m, in \u001b[0;36mmpi_jit_decorator.<locals>.mpi_jit\u001b[0;34m(*args, **kwargs)\u001b[0m\n\u001b[1;32m     45\u001b[0m \u001b[38;5;66;03m# Just call JIT compiler when running in serial\u001b[39;00m\n\u001b[1;32m     46\u001b[0m \u001b[38;5;28;01mif\u001b[39;00m MPI\u001b[38;5;241m.\u001b[39msize(mpi_comm) \u001b[38;5;241m==\u001b[39m \u001b[38;5;241m1\u001b[39m:\n\u001b[0;32m---> 47\u001b[0m     \u001b[38;5;28;01mreturn\u001b[39;00m \u001b[43mlocal_jit\u001b[49m\u001b[43m(\u001b[49m\u001b[38;5;241;43m*\u001b[39;49m\u001b[43margs\u001b[49m\u001b[43m,\u001b[49m\u001b[43m \u001b[49m\u001b[38;5;241;43m*\u001b[39;49m\u001b[38;5;241;43m*\u001b[39;49m\u001b[43mkwargs\u001b[49m\u001b[43m)\u001b[49m\n\u001b[1;32m     49\u001b[0m \u001b[38;5;66;03m# Default status (0 == ok, 1 == fail)\u001b[39;00m\n\u001b[1;32m     50\u001b[0m status \u001b[38;5;241m=\u001b[39m \u001b[38;5;241m0\u001b[39m\n",
            "File \u001b[0;32m~/miniconda3/envs/fenics/lib/python3.11/site-packages/dolfin/jit/jit.py:97\u001b[0m, in \u001b[0;36mffc_jit\u001b[0;34m(ufl_form, form_compiler_parameters)\u001b[0m\n\u001b[1;32m     95\u001b[0m p\u001b[38;5;241m.\u001b[39mupdate(\u001b[38;5;28mdict\u001b[39m(parameters[\u001b[38;5;124m\"\u001b[39m\u001b[38;5;124mform_compiler\u001b[39m\u001b[38;5;124m\"\u001b[39m]))\n\u001b[1;32m     96\u001b[0m p\u001b[38;5;241m.\u001b[39mupdate(form_compiler_parameters \u001b[38;5;129;01mor\u001b[39;00m {})\n\u001b[0;32m---> 97\u001b[0m \u001b[38;5;28;01mreturn\u001b[39;00m \u001b[43mffc\u001b[49m\u001b[38;5;241;43m.\u001b[39;49m\u001b[43mjit\u001b[49m\u001b[43m(\u001b[49m\u001b[43mufl_form\u001b[49m\u001b[43m,\u001b[49m\u001b[43m \u001b[49m\u001b[43mparameters\u001b[49m\u001b[38;5;241;43m=\u001b[39;49m\u001b[43mp\u001b[49m\u001b[43m)\u001b[49m\n",
            "File \u001b[0;32m~/miniconda3/envs/fenics/lib/python3.11/site-packages/ffc/jitcompiler.py:214\u001b[0m, in \u001b[0;36mjit\u001b[0;34m(ufl_object, parameters, indirect)\u001b[0m\n\u001b[1;32m    211\u001b[0m set_prefix(parameters[\u001b[38;5;124m\"\u001b[39m\u001b[38;5;124mlog_prefix\u001b[39m\u001b[38;5;124m\"\u001b[39m])\n\u001b[1;32m    213\u001b[0m \u001b[38;5;66;03m# Make unique module name for generated code\u001b[39;00m\n\u001b[0;32m--> 214\u001b[0m kind, module_name \u001b[38;5;241m=\u001b[39m \u001b[43mcompute_jit_prefix\u001b[49m\u001b[43m(\u001b[49m\u001b[43mufl_object\u001b[49m\u001b[43m,\u001b[49m\u001b[43m \u001b[49m\u001b[43mparameters\u001b[49m\u001b[43m)\u001b[49m\n\u001b[1;32m    216\u001b[0m \u001b[38;5;66;03m# Inspect cache and generate+build if necessary\u001b[39;00m\n\u001b[1;32m    217\u001b[0m module \u001b[38;5;241m=\u001b[39m jit_build(ufl_object, module_name, parameters)\n",
            "File \u001b[0;32m~/miniconda3/envs/fenics/lib/python3.11/site-packages/ffc/jitcompiler.py:143\u001b[0m, in \u001b[0;36mcompute_jit_prefix\u001b[0;34m(ufl_object, parameters, kind)\u001b[0m\n\u001b[1;32m    141\u001b[0m \u001b[38;5;28;01mif\u001b[39;00m \u001b[38;5;28misinstance\u001b[39m(ufl_object, ufl\u001b[38;5;241m.\u001b[39mForm):\n\u001b[1;32m    142\u001b[0m     kind \u001b[38;5;241m=\u001b[39m \u001b[38;5;124m\"\u001b[39m\u001b[38;5;124mform\u001b[39m\u001b[38;5;124m\"\u001b[39m\n\u001b[0;32m--> 143\u001b[0m     object_signature \u001b[38;5;241m=\u001b[39m \u001b[43mufl_object\u001b[49m\u001b[38;5;241;43m.\u001b[39;49m\u001b[43msignature\u001b[49m\u001b[43m(\u001b[49m\u001b[43m)\u001b[49m\n\u001b[1;32m    144\u001b[0m \u001b[38;5;28;01melif\u001b[39;00m \u001b[38;5;28misinstance\u001b[39m(ufl_object, ufl\u001b[38;5;241m.\u001b[39mMesh):\n\u001b[1;32m    145\u001b[0m     \u001b[38;5;66;03m# When coordinate mapping is represented by a Mesh, just getting its coordinate element\u001b[39;00m\n\u001b[1;32m    146\u001b[0m     kind \u001b[38;5;241m=\u001b[39m \u001b[38;5;124m\"\u001b[39m\u001b[38;5;124mcoordinate_mapping\u001b[39m\u001b[38;5;124m\"\u001b[39m\n",
            "File \u001b[0;32m~/miniconda3/envs/fenics/lib/python3.11/site-packages/ufl/form.py:241\u001b[0m, in \u001b[0;36mForm.signature\u001b[0;34m(self)\u001b[0m\n\u001b[1;32m    239\u001b[0m \u001b[38;5;124m\"\u001b[39m\u001b[38;5;124mSignature for use with jit cache (independent of incidental numbering of indices etc.)\u001b[39m\u001b[38;5;124m\"\u001b[39m\n\u001b[1;32m    240\u001b[0m \u001b[38;5;28;01mif\u001b[39;00m \u001b[38;5;28mself\u001b[39m\u001b[38;5;241m.\u001b[39m_signature \u001b[38;5;129;01mis\u001b[39;00m \u001b[38;5;28;01mNone\u001b[39;00m:\n\u001b[0;32m--> 241\u001b[0m     \u001b[38;5;28;43mself\u001b[39;49m\u001b[38;5;241;43m.\u001b[39;49m\u001b[43m_compute_signature\u001b[49m\u001b[43m(\u001b[49m\u001b[43m)\u001b[49m\n\u001b[1;32m    242\u001b[0m \u001b[38;5;28;01mreturn\u001b[39;00m \u001b[38;5;28mself\u001b[39m\u001b[38;5;241m.\u001b[39m_signature\n",
            "File \u001b[0;32m~/miniconda3/envs/fenics/lib/python3.11/site-packages/ufl/form.py:476\u001b[0m, in \u001b[0;36mForm._compute_signature\u001b[0;34m(self)\u001b[0m\n\u001b[1;32m    474\u001b[0m \u001b[38;5;28;01mdef\u001b[39;00m \u001b[38;5;21m_compute_signature\u001b[39m(\u001b[38;5;28mself\u001b[39m):\n\u001b[1;32m    475\u001b[0m     \u001b[38;5;28;01mfrom\u001b[39;00m \u001b[38;5;21;01mufl\u001b[39;00m\u001b[38;5;21;01m.\u001b[39;00m\u001b[38;5;21;01malgorithms\u001b[39;00m\u001b[38;5;21;01m.\u001b[39;00m\u001b[38;5;21;01msignature\u001b[39;00m \u001b[38;5;28;01mimport\u001b[39;00m compute_form_signature\n\u001b[0;32m--> 476\u001b[0m     \u001b[38;5;28mself\u001b[39m\u001b[38;5;241m.\u001b[39m_signature \u001b[38;5;241m=\u001b[39m \u001b[43mcompute_form_signature\u001b[49m\u001b[43m(\u001b[49m\u001b[38;5;28;43mself\u001b[39;49m\u001b[43m,\u001b[49m\n\u001b[1;32m    477\u001b[0m \u001b[43m                                             \u001b[49m\u001b[38;5;28;43mself\u001b[39;49m\u001b[38;5;241;43m.\u001b[39;49m\u001b[43m_compute_renumbering\u001b[49m\u001b[43m(\u001b[49m\u001b[43m)\u001b[49m\u001b[43m)\u001b[49m\n",
            "File \u001b[0;32m~/miniconda3/envs/fenics/lib/python3.11/site-packages/ufl/algorithms/signature.py:171\u001b[0m, in \u001b[0;36mcompute_form_signature\u001b[0;34m(form, renumbering)\u001b[0m\n\u001b[1;32m    167\u001b[0m     hashdata\u001b[38;5;241m.\u001b[39mappend(integral_hashdata)\n\u001b[1;32m    169\u001b[0m \u001b[38;5;66;03m# Pass it through a seriously overkill hashing algorithm\u001b[39;00m\n\u001b[1;32m    170\u001b[0m \u001b[38;5;66;03m# (should we use sha1 instead?)\u001b[39;00m\n\u001b[0;32m--> 171\u001b[0m data \u001b[38;5;241m=\u001b[39m \u001b[38;5;28mstr\u001b[39m(hashdata)\u001b[38;5;241m.\u001b[39mencode(\u001b[38;5;124m\"\u001b[39m\u001b[38;5;124mutf-8\u001b[39m\u001b[38;5;124m\"\u001b[39m)\n\u001b[1;32m    172\u001b[0m \u001b[38;5;28;01mreturn\u001b[39;00m hashlib\u001b[38;5;241m.\u001b[39msha512(data)\u001b[38;5;241m.\u001b[39mhexdigest()\n",
            "\u001b[0;31mKeyboardInterrupt\u001b[0m: "
          ]
        }
      ],
      "source": [
        "x_data = y_data = [0.1, 0.3, 0.5, 0.7, 0.9]\n",
        "datapoints = np.array(list(product(x_data, y_data)))\n",
        "n_datapoints = len(x_data)*len(y_data)\n",
        "# Set up the model(s)\n",
        "solver_c = Model(resolution_coarse, field_mean, field_stdev, mkl, lamb_cov)\n",
        "\n",
        "\n",
        "def solver_coarse(x):\n",
        "    solver_c.solve(x)\n",
        "    return solver_c.get_data(datapoints)\n",
        "\n",
        "\n",
        "coarse_sol = np.zeros((57600, n_datapoints))\n",
        "for i in range( 57600 ):\n",
        "    coarse_sol[i, :] = solver_coarse(X_train[i, :])\n",
        "\n",
        "coarse_sol_t = np.zeros((6400, n_datapoints))\n",
        "for i in range( 6400 ):\n",
        "    coarse_sol_t[i, :] = solver_coarse(X_test[i, :])"
      ]
    },
    {
      "cell_type": "code",
      "execution_count": 15,
      "metadata": {},
      "outputs": [],
      "source": [
        "coarse_sol_t = np.zeros((6400, n_datapoints))\n",
        "for i in range( 6400 ):\n",
        "    coarse_sol_t[i, :] = solver_coarse(X_test[i, :])"
      ]
    },
    {
      "cell_type": "code",
      "execution_count": 90,
      "metadata": {},
      "outputs": [
        {
          "ename": "NameError",
          "evalue": "name 'coarse_sol_t' is not defined",
          "output_type": "error",
          "traceback": [
            "\u001b[0;31m---------------------------------------------------------------------------\u001b[0m",
            "\u001b[0;31mNameError\u001b[0m                                 Traceback (most recent call last)",
            "Cell \u001b[0;32mIn[90], line 2\u001b[0m\n\u001b[1;32m      1\u001b[0m y_train_adj \u001b[38;5;241m=\u001b[39m y_train \u001b[38;5;241m-\u001b[39m coarse_sol\n\u001b[0;32m----> 2\u001b[0m y_test_adj \u001b[38;5;241m=\u001b[39m y_test \u001b[38;5;241m-\u001b[39m \u001b[43mcoarse_sol_t\u001b[49m\n",
            "\u001b[0;31mNameError\u001b[0m: name 'coarse_sol_t' is not defined"
          ]
        }
      ],
      "source": [
        "y_train_adj = y_train - coarse_sol\n",
        "y_test_adj = y_test - coarse_sol_t"
      ]
    },
    {
      "cell_type": "code",
      "execution_count": 19,
      "metadata": {},
      "outputs": [],
      "source": [
        "np.savetxt(\"./data/y_train_adj.csv\",y_train_adj , delimiter = \",\")\n",
        "np.savetxt(\"./data/y_test_adj.csv\",y_test_adj , delimiter = \",\")"
      ]
    }
  ],
  "metadata": {
    "colab": {
      "authorship_tag": "ABX9TyOLKvMRTaykHpCaydJMPm9E",
      "include_colab_link": true,
      "provenance": []
    },
    "kernelspec": {
      "display_name": "Python 3",
      "name": "python3"
    },
    "language_info": {
      "codemirror_mode": {
        "name": "ipython",
        "version": 3
      },
      "file_extension": ".py",
      "mimetype": "text/x-python",
      "name": "python",
      "nbconvert_exporter": "python",
      "pygments_lexer": "ipython3",
      "version": "3.11.9"
    }
  },
  "nbformat": 4,
  "nbformat_minor": 0
}
