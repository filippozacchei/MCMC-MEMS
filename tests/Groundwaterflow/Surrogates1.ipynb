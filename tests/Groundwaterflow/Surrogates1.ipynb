{
  "cells": [
    {
      "cell_type": "markdown",
      "metadata": {
        "colab_type": "text",
        "id": "view-in-github"
      },
      "source": [
        "<a href=\"https://colab.research.google.com/github/ContiPaolo/Multifidelity-Tutorial/blob/main/MF_POD_Burger's1D.ipynb\" target=\"_parent\"><img src=\"https://colab.research.google.com/assets/colab-badge.svg\" alt=\"Open In Colab\"/></a>"
      ]
    },
    {
      "cell_type": "markdown",
      "metadata": {
        "id": "PXejdLL8NbTY"
      },
      "source": [
        "# **Multi-fidelity reduced-order modeling on Groundwater's flow - Darcy equation**"
      ]
    },
    {
      "cell_type": "markdown",
      "metadata": {
        "id": "NNXEcOy7YdZp"
      },
      "source": [
        "As seen in the identification with the FOM model the nature of the problem poses a limitation on the accuracy of recontruction.\n",
        "It is shown that any model with an accuracy higher that 0.01 will be masked by the noise and, more importantly, by the likelyhood. This is due to the need to explore a high dimentional space (n = 64)\n",
        "\n",
        "We put ourself in the context of a FOM model that is extremely expensive. It would be therefore usefull to be able to retrieve the needed accuracy of the model using the least possibile training data. \n",
        "\n",
        "We aim to create a system with two levels of fidelity using 16000 data fine. \n",
        "\n",
        "The first level will be a Neural Network that, recieving as inputs the 64 coefficients of the trasmissivity field, tries to predict the 25 output values \n",
        "\n",
        "The second level of fidelity is intended as a refinement of the first model. Indeed it recieved as inputs the paramaters and the 25 coarse solution to predict the fine 25 solution "
      ]
    },
    {
      "cell_type": "markdown",
      "metadata": {
        "id": "iNpr9aLtZ8bU"
      },
      "source": [
        "#### (1) **Importing libraries and Loading data** \n",
        "#### (2) **Training of Coarse level surrogate model**\n",
        "#### (3) **Generation of multi-fidelity dataset**\n",
        "#### (4) **Training Fine level neural network surrogate model**\n",
        "#### (5) **Evaluation of different models**\n",
        "\n"
      ]
    },
    {
      "cell_type": "markdown",
      "metadata": {
        "id": "WP3luMxfaY7N"
      },
      "source": [
        "### 1 ) Libraries and Data "
      ]
    },
    {
      "cell_type": "code",
      "execution_count": 2,
      "metadata": {
        "id": "dUChnEGpNaQE"
      },
      "outputs": [],
      "source": [
        "import numpy as np\n",
        "#import matplotlib as plt\n",
        "from matplotlib import pyplot as plt\n",
        "import pandas as pd \n",
        "from tensorflow.keras.optimizers import Adam,Nadam,Adamax\n",
        "from tensorflow.keras.models import Model\n",
        "from tensorflow.keras.layers import Input, Dense, LSTM, Dropout\n",
        "from tensorflow.keras.models import Sequential\n",
        "from tensorflow.keras.callbacks import LearningRateScheduler\n",
        "from tensorflow.keras.models import load_model\n",
        "from keras.regularizers import l2\n",
        "from sklearn.utils import extmath\n",
        "\n",
        "#######################     CONFIGURATIONS     ##########################\n",
        "seed = 29\n",
        "train = True\n",
        "save = True"
      ]
    },
    {
      "cell_type": "markdown",
      "metadata": {},
      "source": [
        "Choose the number of data used to train the models"
      ]
    },
    {
      "cell_type": "code",
      "execution_count": 3,
      "metadata": {},
      "outputs": [],
      "source": [
        "N = 16000\n",
        "n_t = 1000"
      ]
    },
    {
      "cell_type": "code",
      "execution_count": 4,
      "metadata": {},
      "outputs": [
        {
          "data": {
            "text/plain": [
              "64"
            ]
          },
          "execution_count": 4,
          "metadata": {},
          "output_type": "execute_result"
        }
      ],
      "source": [
        "X_test = np.loadtxt(\"./data/X_test_64000.csv\" , delimiter = \",\")[:n_t]\n",
        "y_test = np.loadtxt(\"./data/y_test_64000.csv\" , delimiter = \",\")[:n_t]\n",
        "\n",
        "X_train =np.loadtxt(\"./data/X_train_64000.csv\" , delimiter = \",\")[:N]\n",
        "y_train =np.loadtxt(\"./data/y_train_64000.csv\" , delimiter = \",\")[:N]\n",
        "\n",
        "n_c = X_train.shape[1]\n",
        "n_c"
      ]
    },
    {
      "cell_type": "markdown",
      "metadata": {},
      "source": [
        "The dataset has been developed using fenics library, it is composed of 64000 samples divided in 90% training and 10% testing.\\\n",
        "The input (or X) are the 64 first component of the Karhunen-Loève (KL) decompositions. \\\n",
        "These eigenmodes allow to paratetrize a random field in the most accurate way."
      ]
    },
    {
      "cell_type": "markdown",
      "metadata": {},
      "source": [
        "The output: 25 sensors are used to record the hydraulic pressure in the domain $\\Omega$ = [ 0 , 1 ] x [ 0 , 1 ]  \\\n",
        "The sensors are distributed on a grid with positions [0.1, 0.3, 0.5, 0.7, 0.9]\n",
        "\n"
      ]
    },
    {
      "cell_type": "markdown",
      "metadata": {},
      "source": [
        "### 2 ) Training Fully connected neural network surrogate model"
      ]
    },
    {
      "cell_type": "markdown",
      "metadata": {},
      "source": [
        "Let us try to create a map $T(x) \\rightarrow u(x)$ \n",
        "\n",
        "Create a NN that takes in inuput the 64 eigenvalues of the transittivity field and returns the hydraulic pressure in the 25 points where the sensors are located \n"
      ]
    },
    {
      "cell_type": "code",
      "execution_count": 41,
      "metadata": {},
      "outputs": [],
      "source": [
        "Training = False\n",
        "\n",
        "\n",
        "# Define the learning rate scheduler function\n",
        "def scheduler(epoch, lr):\n",
        "    if epoch < 10:\n",
        "        return lr\n",
        "    else:\n",
        "        return max(lr * 0.99, 5e-5)\n",
        "\n",
        "# Initialize the neural network model\n",
        "model_lf = Sequential()\n",
        "\n",
        "\n",
        "l2_reg = 1e-7\n",
        "# Add layers to the model\n",
        "\n",
        "model_lf.add(Dense(128, input_shape=(n_c,), activation='gelu'))#, kernel_regularizer=l2(l2_reg)))\n",
        "model_lf.add(Dense(32, activation='gelu'))\n",
        "model_lf.add(Dense(25, activation='exponential'))#, kernel_regularizer=l2(l2_reg)))\n",
        "\n",
        "\n",
        "if Training:\n",
        "    # Compile the model\n",
        "    initial_learning_rate = 0.001\n",
        "    optimizer = Adam(learning_rate=initial_learning_rate)\n",
        "    model_lf.compile(optimizer=optimizer, loss='mean_squared_error')\n",
        "\n",
        "    # Define the learning rate scheduler callback\n",
        "    lr_scheduler = LearningRateScheduler(scheduler)\n",
        "\n",
        "    # Train the model\n",
        "    history_lf = model_lf.fit(X_train, y_train, \n",
        "                    epochs=1500, \n",
        "                    batch_size=64, \n",
        "                    validation_data=(X_test, y_test),\n",
        "                    callbacks=[lr_scheduler])\n",
        "    \n",
        "    model_lf.save('./models1/model_LF_16000_2.keras')\n",
        "\n",
        "model_lf = load_model('./models1/model_LF_16000_2.keras')\n"
      ]
    },
    {
      "cell_type": "code",
      "execution_count": 42,
      "metadata": {},
      "outputs": [
        {
          "name": "stdout",
          "output_type": "stream",
          "text": [
            "\u001b[1m32/32\u001b[0m \u001b[32m━━━━━━━━━━━━━━━━━━━━\u001b[0m\u001b[37m\u001b[0m \u001b[1m0s\u001b[0m 1ms/step - loss: 1.2401e-04 \n",
            "Test accuracy: 0.00012284975673537701\n",
            "Test rmse: 0.011083760947231631\n"
          ]
        }
      ],
      "source": [
        "# Evaluate the model on the test set\n",
        "test_loss = model_lf.evaluate(x=X_test, y=y_test)\n",
        "\n",
        "# Print the test accuracy\n",
        "print(f\"Test accuracy: {test_loss}\")\n",
        "print(f\"Test rmse: {np.sqrt(test_loss)}\")\n",
        "\n",
        "if Training:\n",
        "    plt.plot(history_lf.history['loss'], label='Loss')\n",
        "    plt.plot(history_lf.history['val_loss'], label='Val loss')\n",
        "    plt.xlabel('Epoch')\n",
        "    plt.ylabel('Learning Rate')\n",
        "    plt.title('Learning Rate over Epochs')\n",
        "    plt.legend()\n",
        "    plt.show()\n",
        "\n"
      ]
    },
    {
      "cell_type": "markdown",
      "metadata": {},
      "source": [
        "Se how it is able to prodict "
      ]
    },
    {
      "cell_type": "code",
      "execution_count": 19,
      "metadata": {},
      "outputs": [
        {
          "data": {
            "image/png": "[encoded data removed]",
            "text/plain": [
              "<Figure size 1200x1200 with 18 Axes>"
            ]
          },
          "metadata": {},
          "output_type": "display_data"
        }
      ],
      "source": [
        "# Define the sampling points.\n",
        "x_data = y_data = np.array([0.1, 0.3, 0.5, 0.7, 0.9])\n",
        "# Grid to plot the basis \n",
        "X,Y = np.meshgrid(x_data, y_data)\n",
        "\n",
        "samples = [ 1, 10, 100]\n",
        "#Plot POD coefficients: LF vs HF\n",
        "fig = plt.figure(figsize=(12,12))\n",
        "plt.subplots_adjust(hspace=0.5)\n",
        "title = 'True vs Reconstucted signals with NN'\n",
        "fig.suptitle(title, fontsize=14)\n",
        "\n",
        "for mode in range(3):\n",
        "    ax = fig.add_subplot(331 + mode)\n",
        "    pcm = plt.pcolormesh(X, Y, y_test[mode, :].reshape((5, 5)))\n",
        "    ax.title.set_text('True signal sample: ' + str(samples[mode]))\n",
        "    plt.colorbar(pcm, ax=ax)\n",
        "    \n",
        "    ax = fig.add_subplot(331 + mode + 3)\n",
        "    reconstructed_sample = np.array(model_lf(X_test[mode, :].reshape((1, n_c)))).reshape((5, 5))\n",
        "    err = y_test[mode, :].reshape(5, 5) - reconstructed_sample\n",
        "    pcm = plt.pcolormesh(X, Y, reconstructed_sample.reshape((5, 5)))\n",
        "    ax.title.set_text('NN prediction sample: ' + str(samples[mode]))\n",
        "    plt.colorbar(pcm, ax=ax)\n",
        "    \n",
        "    ax = fig.add_subplot(331 + mode + 6)\n",
        "    pcm = plt.pcolormesh(X, Y, err)\n",
        "    ax.title.set_text('Reconst. error sample: ' + str(samples[mode]))\n",
        "    plt.colorbar(pcm, ax=ax)\n"
      ]
    },
    {
      "cell_type": "markdown",
      "metadata": {},
      "source": [
        "### 3 ) Generation of multi-fidelity datset"
      ]
    },
    {
      "cell_type": "markdown",
      "metadata": {},
      "source": [
        "From now on we will only consider the best low fidelity model = Low fidelity 2"
      ]
    },
    {
      "cell_type": "code",
      "execution_count": 7,
      "metadata": {},
      "outputs": [],
      "source": [
        "Training = False \n",
        "if Training:\n",
        "    coarse_sol = np.zeros((N, 25))\n",
        "    for i in range(N):\n",
        "        coarse_sol[i,:] = model_lf(X_train[i,:].reshape((1,64)))\n",
        "    \n",
        "    coarse_sol_test = np.zeros((n_t,25))\n",
        "    for i in range(n_t):\n",
        "        coarse_sol_test[i,:] = model_lf(X_test[i,:].reshape((1,64)))\n",
        "    np.savetxt('./data/coarse_sol_training.csv', coarse_sol, delimiter=',' )\n",
        "    np.savetxt('./data/coarse_sol_test.csv', coarse_sol_test, delimiter=',' )\n",
        "\n",
        "else: \n",
        "    coarse_sol = np.loadtxt('./data/coarse_sol_training.csv', delimiter=',')\n",
        "    coarse_sol_test = np.loadtxt('./data/coarse_sol_test.csv', delimiter=',')"
      ]
    },
    {
      "cell_type": "code",
      "execution_count": 8,
      "metadata": {},
      "outputs": [],
      "source": [
        "X_train2 = np.hstack((X_train, coarse_sol))\n",
        "X_test2 = np.hstack((X_test, coarse_sol_test))"
      ]
    },
    {
      "cell_type": "markdown",
      "metadata": {},
      "source": [
        "### 4 ) Training Fine-level NN surrogate "
      ]
    },
    {
      "cell_type": "code",
      "execution_count": 9,
      "metadata": {},
      "outputs": [
        {
          "data": {
            "text/plain": [
              "89"
            ]
          },
          "execution_count": 9,
          "metadata": {},
          "output_type": "execute_result"
        }
      ],
      "source": [
        "n_f = X_train2.shape[1]\n",
        "n_f"
      ]
    },
    {
      "cell_type": "code",
      "execution_count": 51,
      "metadata": {},
      "outputs": [],
      "source": [
        "Training = False\n",
        "\n",
        "\n",
        "# Define the learning rate scheduler function\n",
        "def scheduler(epoch, lr):\n",
        "    if epoch < 20:\n",
        "        return lr\n",
        "    else:\n",
        "        return max(lr * 0.99, 5e-5)\n",
        "\n",
        "# Initialize the neural network model\n",
        "model_hf = Sequential()\n",
        "\n",
        "\n",
        "l2_reg = 0#1e-8\n",
        "# Add layers to the model\n",
        "\n",
        "model_hf.add(Dense(128, input_shape=(n_f,), activation='gelu', kernel_regularizer=l2(l2_reg)))\n",
        "model_hf.add(Dense(128, activation='gelu', kernel_regularizer=l2(l2_reg)))\n",
        "model_hf.add(Dense(128, activation='gelu', kernel_regularizer=l2(l2_reg)))\n",
        "model_hf.add(Dense(128, activation='gelu', kernel_regularizer=l2(l2_reg)))\n",
        "model_hf.add(Dense(25, activation='gelu', kernel_regularizer=l2(l2_reg)))\n",
        "\n",
        "\n",
        "if Training:\n",
        "    # Compile the model\n",
        "    initial_learning_rate = 0.001\n",
        "    optimizer = Adam(learning_rate=initial_learning_rate)\n",
        "    model_hf.compile(optimizer=optimizer, loss='mean_squared_error')\n",
        "\n",
        "    # Define the learning rate scheduler callback\n",
        "    lr_scheduler = LearningRateScheduler(scheduler)\n",
        "\n",
        "    # Train the model\n",
        "    history_hf = model_hf.fit(X_train2, y_train, \n",
        "                    epochs=1500, \n",
        "                    batch_size=64, \n",
        "                    validation_data=(X_test2, y_test),\n",
        "                    callbacks=[lr_scheduler])\n",
        "    \n",
        "    model_hf.save('./models1/model_HF_16000_2.keras')\n",
        "\n",
        "model_hf = load_model('./models1/model_HF_16000_2.keras')\n"
      ]
    },
    {
      "cell_type": "code",
      "execution_count": 52,
      "metadata": {},
      "outputs": [
        {
          "name": "stdout",
          "output_type": "stream",
          "text": [
            "\u001b[1m63/63\u001b[0m \u001b[32m━━━━━━━━━━━━━━━━━━━━\u001b[0m\u001b[37m\u001b[0m \u001b[1m0s\u001b[0m 1ms/step - loss: 4.9664e-05  \n",
            "Test accuracy: 4.779897790285759e-05\n",
            "Test rmse: 0.006913680488918879\n"
          ]
        }
      ],
      "source": [
        "# Evaluate the model on the test set\n",
        "test_loss = model_hf.evaluate(x=X_test2, y=y_test)\n",
        "\n",
        "# Print the test accuracy\n",
        "print(f\"Test accuracy: {test_loss}\")\n",
        "print(f\"Test rmse: {np.sqrt(test_loss)}\")\n",
        "\n",
        "if Training:\n",
        "    plt.plot(history_hf.history['loss'], label='Loss')\n",
        "    plt.plot(history_hf.history['val_loss'], label='Val loss')\n",
        "    plt.xlabel('Epoch')\n",
        "    plt.ylabel('Learning Rate')\n",
        "    plt.title('Learning Rate over Epochs')\n",
        "    plt.legend()\n",
        "    plt.show()\n"
      ]
    },
    {
      "cell_type": "markdown",
      "metadata": {},
      "source": [
        "### 5 ) Evaluation of different models "
      ]
    },
    {
      "cell_type": "markdown",
      "metadata": {},
      "source": [
        "#### LOW FIDELITY MODELS "
      ]
    },
    {
      "cell_type": "markdown",
      "metadata": {},
      "source": [
        "MODEL LF 1 "
      ]
    },
    {
      "cell_type": "code",
      "execution_count": 10,
      "metadata": {},
      "outputs": [
        {
          "name": "stderr",
          "output_type": "stream",
          "text": [
            "/Users/lucacaroselli/miniconda3/envs/myenv/lib/python3.12/site-packages/keras/src/layers/core/dense.py:87: UserWarning: Do not pass an `input_shape`/`input_dim` argument to a layer. When using Sequential models, prefer using an `Input(shape)` object as the first layer in the model instead.\n",
            "  super().__init__(activity_regularizer=activity_regularizer, **kwargs)\n"
          ]
        }
      ],
      "source": [
        "model_lf = Sequential()\n",
        "\n",
        "# Add layers to the model\n",
        "model_lf.add(Dense(64, input_shape=(n_c,), activation='gelu'))\n",
        "model_lf.add(Dense(64, activation='gelu'))\n",
        "model_lf.add(Dense(64, activation='gelu'))\n",
        "model_lf.add(Dense(32, activation='gelu'))\n",
        "model_lf.add(Dense(25, activation='exponential'))\n",
        "\n",
        "model_lf = load_model('./models1/model_LF_16000_1.keras')"
      ]
    },
    {
      "cell_type": "code",
      "execution_count": null,
      "metadata": {},
      "outputs": [
        {
          "name": "stdout",
          "output_type": "stream",
          "text": [
            "\u001b[1m500/500\u001b[0m \u001b[32m━━━━━━━━━━━━━━━━━━━━\u001b[0m\u001b[37m\u001b[0m \u001b[1m0s\u001b[0m 288us/step - loss: 1.1679e-04\n",
            "\u001b[1m32/32\u001b[0m \u001b[32m━━━━━━━━━━━━━━━━━━━━\u001b[0m\u001b[37m\u001b[0m \u001b[1m0s\u001b[0m 1ms/step - loss: 1.5034e-04 \n",
            "Training accuracy: 0.00011638842261163518\n",
            "Test accuracy: 0.00014689793169964105\n",
            "Test rmse: 0.012120145696304194\n"
          ]
        }
      ],
      "source": [
        "# Evaluate the model on the test set\n",
        "training_loss = model_lf.evaluate(x=X_train, y=y_train)\n",
        "test_loss = model_lf.evaluate(x=X_test, y=y_test)\n",
        "\n",
        "# Print the test accuracy\n",
        "print(f\"Training accuracy: {training_loss}\")\n",
        "print(f\"Test accuracy: {test_loss}\")\n",
        "print(f\"Test rmse: {np.sqrt(test_loss)}\")"
      ]
    },
    {
      "cell_type": "markdown",
      "metadata": {},
      "source": [
        "MODEL LF 2 "
      ]
    },
    {
      "cell_type": "code",
      "execution_count": null,
      "metadata": {},
      "outputs": [],
      "source": [
        "model_lf = Sequential()\n",
        "\n",
        "# Add layers to the model\n",
        "model_lf.add(Dense(128, input_shape=(n_c,), activation='gelu'))\n",
        "model_lf.add(Dense(32, activation='gelu'))\n",
        "model_lf.add(Dense(25, activation='exponential'))\n",
        "\n",
        "model_lf = load_model('./models1/model_LF_16000_2.keras')"
      ]
    },
    {
      "cell_type": "code",
      "execution_count": null,
      "metadata": {},
      "outputs": [
        {
          "name": "stdout",
          "output_type": "stream",
          "text": [
            "\u001b[1m500/500\u001b[0m \u001b[32m━━━━━━━━━━━━━━━━━━━━\u001b[0m\u001b[37m\u001b[0m \u001b[1m0s\u001b[0m 368us/step - loss: 1.1175e-04\n",
            "\u001b[1m32/32\u001b[0m \u001b[32m━━━━━━━━━━━━━━━━━━━━\u001b[0m\u001b[37m\u001b[0m \u001b[1m0s\u001b[0m 1ms/step - loss: 1.2112e-04 \n",
            "Training accuracy: 0.00011180200817761943\n",
            "Test accuracy: 0.00011737531167455018\n",
            "Test rmse: 0.010833988724128808\n"
          ]
        }
      ],
      "source": [
        "# Evaluate the model on the test set\n",
        "training_loss = model_lf.evaluate(x=X_train, y=y_train)\n",
        "test_loss = model_lf.evaluate(x=X_test, y=y_test)\n",
        "\n",
        "# Print the test accuracy\n",
        "print(f\"Training accuracy: {training_loss}\")\n",
        "print(f\"Test accuracy: {test_loss}\")\n",
        "print(f\"Test rmse: {np.sqrt(test_loss)}\")"
      ]
    },
    {
      "cell_type": "markdown",
      "metadata": {},
      "source": [
        "MODEL LF 3"
      ]
    },
    {
      "cell_type": "code",
      "execution_count": null,
      "metadata": {},
      "outputs": [],
      "source": [
        "model_lf = Sequential()\n",
        "\n",
        "# Add layers to the model\n",
        "model_lf.add(Dense(64, input_shape=(n_c,), activation='gelu'))\n",
        "model_lf.add(Dense(64, activation='gelu'))\n",
        "model_lf.add(Dense(64, activation='sigmoid'))\n",
        "model_lf.add(Dense(32, activation='sigmoid'))\n",
        "model_lf.add(Dense(25, activation='exponential'))\n",
        "\n",
        "model_lf = load_model('./models1/model_LF_16000_3.keras')"
      ]
    },
    {
      "cell_type": "code",
      "execution_count": null,
      "metadata": {},
      "outputs": [
        {
          "name": "stdout",
          "output_type": "stream",
          "text": [
            "\u001b[1m500/500\u001b[0m \u001b[32m━━━━━━━━━━━━━━━━━━━━\u001b[0m\u001b[37m\u001b[0m \u001b[1m0s\u001b[0m 352us/step - loss: 1.3880e-04\n",
            "\u001b[1m63/63\u001b[0m \u001b[32m━━━━━━━━━━━━━━━━━━━━\u001b[0m\u001b[37m\u001b[0m \u001b[1m0s\u001b[0m 1ms/step - loss: 1.7144e-04 \n",
            "Training accuracy: 0.0001386828371323645\n",
            "Test accuracy: 0.00016588458674959838\n",
            "Test rmse: 0.012879619045204651\n"
          ]
        }
      ],
      "source": [
        "# Evaluate the model on the test set\n",
        "training_loss = model_lf.evaluate(x=X_train, y=y_train)\n",
        "test_loss = model_lf.evaluate(x=X_test, y=y_test)\n",
        "\n",
        "# Print the test accuracy\n",
        "print(f\"Training accuracy: {training_loss}\")\n",
        "print(f\"Test accuracy: {test_loss}\")\n",
        "print(f\"Test rmse: {np.sqrt(test_loss)}\")"
      ]
    },
    {
      "cell_type": "markdown",
      "metadata": {},
      "source": [
        "MODEL LF 4"
      ]
    },
    {
      "cell_type": "code",
      "execution_count": null,
      "metadata": {},
      "outputs": [],
      "source": [
        "model_lf = Sequential()\n",
        "\n",
        "# Add layers to the model\n",
        "model_lf.add(Dense(128, input_shape=(n_c,), activation='sigmoid'))\n",
        "model_lf.add(Dense(32, activation='sigmoid'))\n",
        "model_lf.add(Dense(25, activation='exponential'))\n",
        "\n",
        "model_lf = load_model('./models1/model_LF_16000_4.keras')"
      ]
    },
    {
      "cell_type": "code",
      "execution_count": null,
      "metadata": {},
      "outputs": [
        {
          "name": "stdout",
          "output_type": "stream",
          "text": [
            "\u001b[1m500/500\u001b[0m \u001b[32m━━━━━━━━━━━━━━━━━━━━\u001b[0m\u001b[37m\u001b[0m \u001b[1m0s\u001b[0m 412us/step - loss: 1.6804e-04\n",
            "\u001b[1m63/63\u001b[0m \u001b[32m━━━━━━━━━━━━━━━━━━━━\u001b[0m\u001b[37m\u001b[0m \u001b[1m0s\u001b[0m 921us/step - loss: 2.1964e-04\n",
            "Training accuracy: 0.00016872900596354157\n",
            "Test accuracy: 0.0002119092969223857\n",
            "Test rmse: 0.014557104688858485\n"
          ]
        }
      ],
      "source": [
        "# Evaluate the model on the test set\n",
        "training_loss = model_lf.evaluate(x=X_train, y=y_train)\n",
        "test_loss = model_lf.evaluate(x=X_test, y=y_test)\n",
        "\n",
        "# Print the test accuracy\n",
        "print(f\"Training accuracy: {training_loss}\")\n",
        "print(f\"Test accuracy: {test_loss}\")\n",
        "print(f\"Test rmse: {np.sqrt(test_loss)}\")"
      ]
    },
    {
      "cell_type": "markdown",
      "metadata": {},
      "source": [
        "MODEL LF 5"
      ]
    },
    {
      "cell_type": "code",
      "execution_count": null,
      "metadata": {},
      "outputs": [],
      "source": [
        "model_lf = Sequential()\n",
        "\n",
        "# Add layers to the model\n",
        "model_lf.add(Dense(64, input_shape=(n_c,), activation='tanh'))\n",
        "model_lf.add(Dense(64, activation='tanh'))\n",
        "model_lf.add(Dense(64, activation='tanh'))\n",
        "model_lf.add(Dense(32, activation='tanh'))\n",
        "model_lf.add(Dense(25, activation='exponential'))\n",
        "\n",
        "model_lf = load_model('./models1/model_LF_16000_5.keras')"
      ]
    },
    {
      "cell_type": "code",
      "execution_count": null,
      "metadata": {},
      "outputs": [
        {
          "name": "stdout",
          "output_type": "stream",
          "text": [
            "\u001b[1m500/500\u001b[0m \u001b[32m━━━━━━━━━━━━━━━━━━━━\u001b[0m\u001b[37m\u001b[0m \u001b[1m0s\u001b[0m 328us/step - loss: 1.4515e-04\n",
            "\u001b[1m63/63\u001b[0m \u001b[32m━━━━━━━━━━━━━━━━━━━━\u001b[0m\u001b[37m\u001b[0m \u001b[1m0s\u001b[0m 1ms/step - loss: 1.8559e-04 \n",
            "Training accuracy: 0.00014478772936854511\n",
            "Test accuracy: 0.0001777773431967944\n",
            "Test rmse: 0.013333317036536497\n"
          ]
        }
      ],
      "source": [
        "# Evaluate the model on the test set\n",
        "training_loss = model_lf.evaluate(x=X_train, y=y_train)\n",
        "test_loss = model_lf.evaluate(x=X_test, y=y_test)\n",
        "\n",
        "# Print the test accuracy\n",
        "print(f\"Training accuracy: {training_loss}\")\n",
        "print(f\"Test accuracy: {test_loss}\")\n",
        "print(f\"Test rmse: {np.sqrt(test_loss)}\")"
      ]
    },
    {
      "cell_type": "markdown",
      "metadata": {},
      "source": [
        "MODEL LF 6"
      ]
    },
    {
      "cell_type": "code",
      "execution_count": null,
      "metadata": {},
      "outputs": [],
      "source": [
        "model_lf = Sequential()\n",
        "\n",
        "# Add layers to the model\n",
        "model_lf.add(Dense(128, input_shape=(n_c,), activation='tanh'))\n",
        "model_lf.add(Dense(32, activation='tanh'))\n",
        "model_lf.add(Dense(25, activation='exponential'))\n",
        "\n",
        "model_lf = load_model('./models1/model_LF_16000_6.keras')"
      ]
    },
    {
      "cell_type": "code",
      "execution_count": null,
      "metadata": {},
      "outputs": [
        {
          "name": "stdout",
          "output_type": "stream",
          "text": [
            "\u001b[1m500/500\u001b[0m \u001b[32m━━━━━━━━━━━━━━━━━━━━\u001b[0m\u001b[37m\u001b[0m \u001b[1m0s\u001b[0m 310us/step - loss: 1.0220e-04\n",
            "\u001b[1m63/63\u001b[0m \u001b[32m━━━━━━━━━━━━━━━━━━━━\u001b[0m\u001b[37m\u001b[0m \u001b[1m0s\u001b[0m 3ms/step - loss: 1.3540e-04\n",
            "Training accuracy: 0.000102774596598465\n",
            "Test accuracy: 0.00013271876377984881\n",
            "Test rmse: 0.011520363005558844\n"
          ]
        }
      ],
      "source": [
        "# Evaluate the model on the test set\n",
        "training_loss = model_lf.evaluate(x=X_train, y=y_train)\n",
        "test_loss = model_lf.evaluate(x=X_test, y=y_test)\n",
        "\n",
        "# Print the test accuracy\n",
        "print(f\"Training accuracy: {training_loss}\")\n",
        "print(f\"Test accuracy: {test_loss}\")\n",
        "print(f\"Test rmse: {np.sqrt(test_loss)}\")"
      ]
    },
    {
      "cell_type": "markdown",
      "metadata": {},
      "source": [
        "#### HIGH-FIDELITY MODELS"
      ]
    },
    {
      "cell_type": "markdown",
      "metadata": {},
      "source": [
        "HF MODEL 1 "
      ]
    },
    {
      "cell_type": "code",
      "execution_count": 11,
      "metadata": {},
      "outputs": [],
      "source": [
        "model_hf = Sequential()\n",
        "\n",
        "model_hf.add(Dense(256, input_shape=(n_f,), activation='gelu'))\n",
        "model_hf.add(Dense(128, activation='gelu'))\n",
        "model_hf.add(Dense(64, activation='gelu'))\n",
        "model_hf.add(Dense(25, activation='exponential'))\n",
        "\n",
        "model_hf = load_model('./models1/model_HF_16000_1.keras')"
      ]
    },
    {
      "cell_type": "code",
      "execution_count": 13,
      "metadata": {},
      "outputs": [
        {
          "name": "stdout",
          "output_type": "stream",
          "text": [
            "\u001b[1m500/500\u001b[0m \u001b[32m━━━━━━━━━━━━━━━━━━━━\u001b[0m\u001b[37m\u001b[0m \u001b[1m0s\u001b[0m 611us/step - loss: 3.2770e-05\n",
            "\u001b[1m32/32\u001b[0m \u001b[32m━━━━━━━━━━━━━━━━━━━━\u001b[0m\u001b[37m\u001b[0m \u001b[1m0s\u001b[0m 568us/step - loss: 3.5348e-05\n",
            "Training accuracy: 3.305211430415511e-05\n",
            "Test accuracy: 3.5236069379607216e-05\n",
            "Test rmse: 0.005935997757715817\n"
          ]
        }
      ],
      "source": [
        "# Evaluate the model on the test set\n",
        "training_loss = model_hf.evaluate(x=X_train2, y=y_train)\n",
        "test_loss = model_hf.evaluate(x=X_test2, y=y_test)\n",
        "\n",
        "# Print the test accuracy\n",
        "print(f\"Training accuracy: {training_loss}\")\n",
        "print(f\"Test accuracy: {test_loss}\")\n",
        "print(f\"Test rmse: {np.sqrt(test_loss)}\")"
      ]
    },
    {
      "cell_type": "markdown",
      "metadata": {},
      "source": [
        "HF MODEL 2"
      ]
    },
    {
      "cell_type": "code",
      "execution_count": 14,
      "metadata": {},
      "outputs": [
        {
          "name": "stderr",
          "output_type": "stream",
          "text": [
            "/Users/lucacaroselli/miniconda3/envs/myenv/lib/python3.12/site-packages/keras/src/layers/core/dense.py:87: UserWarning: Do not pass an `input_shape`/`input_dim` argument to a layer. When using Sequential models, prefer using an `Input(shape)` object as the first layer in the model instead.\n",
            "  super().__init__(activity_regularizer=activity_regularizer, **kwargs)\n"
          ]
        }
      ],
      "source": [
        "model_hf = Sequential()\n",
        "\n",
        "model_hf.add(Dense(128, input_shape=(n_f,), activation='gelu'))\n",
        "model_hf.add(Dense(128, activation='gelu'))\n",
        "model_hf.add(Dense(128, activation='gelu'))\n",
        "model_hf.add(Dense(128, activation='gelu'))\n",
        "model_hf.add(Dense(25, activation='exponential'))\n",
        "\n",
        "model_hf = load_model('./models1/model_HF_16000_2.keras')"
      ]
    },
    {
      "cell_type": "code",
      "execution_count": 15,
      "metadata": {},
      "outputs": [
        {
          "name": "stdout",
          "output_type": "stream",
          "text": [
            "\u001b[1m500/500\u001b[0m \u001b[32m━━━━━━━━━━━━━━━━━━━━\u001b[0m\u001b[37m\u001b[0m \u001b[1m0s\u001b[0m 378us/step - loss: 2.6195e-05\n",
            "\u001b[1m32/32\u001b[0m \u001b[32m━━━━━━━━━━━━━━━━━━━━\u001b[0m\u001b[37m\u001b[0m \u001b[1m0s\u001b[0m 2ms/step - loss: 5.1128e-05 \n",
            "Training accuracy: 2.640677848830819e-05\n",
            "Test accuracy: 4.889052070211619e-05\n",
            "Test rmse: 0.006992175677292168\n"
          ]
        }
      ],
      "source": [
        "# Evaluate the model on the test set\n",
        "training_loss = model_hf.evaluate(x=X_train2, y=y_train)\n",
        "test_loss = model_hf.evaluate(x=X_test2, y=y_test)\n",
        "\n",
        "# Print the test accuracy\n",
        "print(f\"Training accuracy: {training_loss}\")\n",
        "print(f\"Test accuracy: {test_loss}\")\n",
        "print(f\"Test rmse: {np.sqrt(test_loss)}\")"
      ]
    },
    {
      "cell_type": "markdown",
      "metadata": {},
      "source": [
        "MODEL HF 3"
      ]
    },
    {
      "cell_type": "code",
      "execution_count": 18,
      "metadata": {},
      "outputs": [],
      "source": [
        "model_hf = Sequential()\n",
        "\n",
        "model_hf.add(Dense(256, input_shape=(n_f,), activation='sigmoid'))\n",
        "model_hf.add(Dense(128, activation='sigmoid'))\n",
        "model_hf.add(Dense(64, activation='sigmoid'))\n",
        "model_hf.add(Dense(25, activation='exponential'))\n",
        "\n",
        "model_hf = load_model('./models1/model_HF_16000_3.keras')"
      ]
    },
    {
      "cell_type": "code",
      "execution_count": 19,
      "metadata": {},
      "outputs": [
        {
          "name": "stdout",
          "output_type": "stream",
          "text": [
            "\u001b[1m500/500\u001b[0m \u001b[32m━━━━━━━━━━━━━━━━━━━━\u001b[0m\u001b[37m\u001b[0m \u001b[1m0s\u001b[0m 518us/step - loss: 5.4758e-05\n",
            "\u001b[1m32/32\u001b[0m \u001b[32m━━━━━━━━━━━━━━━━━━━━\u001b[0m\u001b[37m\u001b[0m \u001b[1m0s\u001b[0m 2ms/step - loss: 9.3519e-05 \n",
            "Training accuracy: 5.470459655043669e-05\n",
            "Test accuracy: 9.166927338810638e-05\n",
            "Test rmse: 0.009574407208182988\n"
          ]
        }
      ],
      "source": [
        "# Evaluate the model on the test set\n",
        "training_loss = model_hf.evaluate(x=X_train2, y=y_train)\n",
        "test_loss = model_hf.evaluate(x=X_test2, y=y_test)\n",
        "\n",
        "# Print the test accuracy\n",
        "print(f\"Training accuracy: {training_loss}\")\n",
        "print(f\"Test accuracy: {test_loss}\")\n",
        "print(f\"Test rmse: {np.sqrt(test_loss)}\")"
      ]
    },
    {
      "cell_type": "markdown",
      "metadata": {},
      "source": [
        "MODEL HF 4"
      ]
    },
    {
      "cell_type": "code",
      "execution_count": 20,
      "metadata": {},
      "outputs": [],
      "source": [
        "model_hf = Sequential()\n",
        "\n",
        "model_hf.add(Dense(128, input_shape=(n_f,), activation='gelu'))\n",
        "model_hf.add(Dense(128, activation='gelu'))\n",
        "model_hf.add(Dense(128, activation='sigmoid'))\n",
        "model_hf.add(Dense(128, activation='sigmoid'))\n",
        "model_hf.add(Dense(25, activation='exponential'))\n",
        "\n",
        "model_hf = load_model('./models1/model_HF_16000_4.keras')"
      ]
    },
    {
      "cell_type": "code",
      "execution_count": 21,
      "metadata": {},
      "outputs": [
        {
          "name": "stdout",
          "output_type": "stream",
          "text": [
            "\u001b[1m500/500\u001b[0m \u001b[32m━━━━━━━━━━━━━━━━━━━━\u001b[0m\u001b[37m\u001b[0m \u001b[1m1s\u001b[0m 521us/step - loss: 3.0853e-05\n",
            "\u001b[1m32/32\u001b[0m \u001b[32m━━━━━━━━━━━━━━━━━━━━\u001b[0m\u001b[37m\u001b[0m \u001b[1m0s\u001b[0m 4ms/step - loss: 5.6304e-05 \n",
            "Training accuracy: 3.0951185181038454e-05\n",
            "Test accuracy: 5.645782221108675e-05\n",
            "Test rmse: 0.007513842040599919\n"
          ]
        }
      ],
      "source": [
        "# Evaluate the model on the test set\n",
        "training_loss = model_hf.evaluate(x=X_train2, y=y_train)\n",
        "test_loss = model_hf.evaluate(x=X_test2, y=y_test)\n",
        "\n",
        "# Print the test accuracy\n",
        "print(f\"Training accuracy: {training_loss}\")\n",
        "print(f\"Test accuracy: {test_loss}\")\n",
        "print(f\"Test rmse: {np.sqrt(test_loss)}\")"
      ]
    },
    {
      "cell_type": "markdown",
      "metadata": {},
      "source": [
        "MODEL HF 5"
      ]
    },
    {
      "cell_type": "code",
      "execution_count": 22,
      "metadata": {},
      "outputs": [],
      "source": [
        "model_hf = Sequential()\n",
        "\n",
        "model_hf.add(Dense(256, input_shape=(n_f,), activation='tanh'))\n",
        "model_hf.add(Dense(128, activation='tanh'))\n",
        "model_hf.add(Dense(64, activation='tanh'))\n",
        "model_hf.add(Dense(25, activation='exponential'))\n",
        "\n",
        "model_hf = load_model('./models1/model_HF_16000_5.keras')"
      ]
    },
    {
      "cell_type": "code",
      "execution_count": 23,
      "metadata": {},
      "outputs": [
        {
          "name": "stdout",
          "output_type": "stream",
          "text": [
            "\u001b[1m500/500\u001b[0m \u001b[32m━━━━━━━━━━━━━━━━━━━━\u001b[0m\u001b[37m\u001b[0m \u001b[1m0s\u001b[0m 509us/step - loss: 3.4404e-05\n",
            "\u001b[1m32/32\u001b[0m \u001b[32m━━━━━━━━━━━━━━━━━━━━\u001b[0m\u001b[37m\u001b[0m \u001b[1m0s\u001b[0m 3ms/step - loss: 7.1807e-05 \n",
            "Training accuracy: 3.446887421887368e-05\n",
            "Test accuracy: 7.171485049184412e-05\n",
            "Test rmse: 0.008468462109016259\n"
          ]
        }
      ],
      "source": [
        "# Evaluate the model on the test set\n",
        "training_loss = model_hf.evaluate(x=X_train2, y=y_train)\n",
        "test_loss = model_hf.evaluate(x=X_test2, y=y_test)\n",
        "\n",
        "# Print the test accuracy\n",
        "print(f\"Training accuracy: {training_loss}\")\n",
        "print(f\"Test accuracy: {test_loss}\")\n",
        "print(f\"Test rmse: {np.sqrt(test_loss)}\")"
      ]
    },
    {
      "cell_type": "markdown",
      "metadata": {},
      "source": [
        "MODEL HF 6"
      ]
    },
    {
      "cell_type": "code",
      "execution_count": 24,
      "metadata": {},
      "outputs": [],
      "source": [
        "model_hf = Sequential()\n",
        "\n",
        "model_hf.add(Dense(128, input_shape=(n_f,), activation='tanh'))\n",
        "model_hf.add(Dense(128, activation='tanh'))\n",
        "model_hf.add(Dense(128, activation='tanh'))\n",
        "model_hf.add(Dense(128, activation='tanh'))\n",
        "model_hf.add(Dense(25, activation='exponential'))\n",
        "\n",
        "model_hf = load_model('./models1/model_HF_16000_6.keras')"
      ]
    },
    {
      "cell_type": "code",
      "execution_count": 25,
      "metadata": {},
      "outputs": [
        {
          "name": "stdout",
          "output_type": "stream",
          "text": [
            "\u001b[1m500/500\u001b[0m \u001b[32m━━━━━━━━━━━━━━━━━━━━\u001b[0m\u001b[37m\u001b[0m \u001b[1m1s\u001b[0m 605us/step - loss: 4.0609e-05\n",
            "\u001b[1m32/32\u001b[0m \u001b[32m━━━━━━━━━━━━━━━━━━━━\u001b[0m\u001b[37m\u001b[0m \u001b[1m0s\u001b[0m 5ms/step - loss: 7.4543e-05 \n",
            "Training accuracy: 4.058445483678952e-05\n",
            "Test accuracy: 7.237195677589625e-05\n",
            "Test rmse: 0.00850717090317905\n"
          ]
        }
      ],
      "source": [
        "# Evaluate the model on the test set\n",
        "training_loss = model_hf.evaluate(x=X_train2, y=y_train)\n",
        "test_loss = model_hf.evaluate(x=X_test2, y=y_test)\n",
        "\n",
        "# Print the test accuracy\n",
        "print(f\"Training accuracy: {training_loss}\")\n",
        "print(f\"Test accuracy: {test_loss}\")\n",
        "print(f\"Test rmse: {np.sqrt(test_loss)}\")"
      ]
    },
    {
      "cell_type": "markdown",
      "metadata": {},
      "source": [
        "# BONUS (to do)"
      ]
    },
    {
      "cell_type": "markdown",
      "metadata": {},
      "source": [
        "This model would be too big to be used as a low fidelity model yet was calculataed to set a benchmark for the performane of larger Networks. \n",
        "\n",
        "To be more specific this model will help highlight the contribution that the knowledge on the coarse solution gives to the same Neural Network (model_HF_1)"
      ]
    },
    {
      "cell_type": "code",
      "execution_count": 64,
      "metadata": {},
      "outputs": [],
      "source": [
        "model = Sequential()\n",
        "\n",
        "# Add layers to the model\n",
        "model.add(Dense(128, input_shape=(n_c,), activation='gelu'))\n",
        "model.add(Dense(128, activation='gelu'))\n",
        "model.add(Dense(128, activation='gelu'))\n",
        "model.add(Dense(128, activation='gelu'))\n",
        "model.add(Dense(25, activation='exponential'))\n",
        "\n",
        "model = load_model('./models/model_LF_64000_4.keras')"
      ]
    },
    {
      "cell_type": "code",
      "execution_count": 65,
      "metadata": {},
      "outputs": [
        {
          "name": "stdout",
          "output_type": "stream",
          "text": [
            "\u001b[1m1800/1800\u001b[0m \u001b[32m━━━━━━━━━━━━━━━━━━━━\u001b[0m\u001b[37m\u001b[0m \u001b[1m1s\u001b[0m 732us/step - loss: 1.3567e-05\n",
            "\u001b[1m200/200\u001b[0m \u001b[32m━━━━━━━━━━━━━━━━━━━━\u001b[0m\u001b[37m\u001b[0m \u001b[1m0s\u001b[0m 908us/step - loss: 1.3916e-05\n",
            "Training accuracy: 1.3542909982788842e-05\n",
            "Test accuracy: 1.3684657460544258e-05\n",
            "Test rmse: 0.0036992779647580225\n"
          ]
        }
      ],
      "source": [
        "# Evaluate the model on the test set\n",
        "training_loss = model.evaluate(x=X_train, y=y_train)\n",
        "test_loss = model.evaluate(x=X_test, y=y_test)\n",
        "\n",
        "# Print the test accuracy\n",
        "print(f\"Training accuracy: {training_loss}\")\n",
        "print(f\"Test accuracy: {test_loss}\")\n",
        "print(f\"Test rmse: {np.sqrt(test_loss)}\")\n"
      ]
    }
  ],
  "metadata": {
    "colab": {
      "authorship_tag": "ABX9TyOLKvMRTaykHpCaydJMPm9E",
      "include_colab_link": true,
      "provenance": []
    },
    "kernelspec": {
      "display_name": "Python 3",
      "name": "python3"
    },
    "language_info": {
      "codemirror_mode": {
        "name": "ipython",
        "version": 3
      },
      "file_extension": ".py",
      "mimetype": "text/x-python",
      "name": "python",
      "nbconvert_exporter": "python",
      "pygments_lexer": "ipython3",
      "version": "3.12.2"
    }
  },
  "nbformat": 4,
  "nbformat_minor": 0
}
